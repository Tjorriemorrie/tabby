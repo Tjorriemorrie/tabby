{
 "cells": [
  {
   "cell_type": "code",
   "execution_count": 1,
   "metadata": {},
   "outputs": [
    {
     "name": "stderr",
     "output_type": "stream",
     "text": [
      "Using TensorFlow backend.\n"
     ]
    }
   ],
   "source": [
    "from keras.models import Sequential, load_model\n",
    "from keras.layers import Dense, Activation, Dropout\n",
    "from keras_tqdm import TQDMNotebookCallback\n",
    "import keras.callbacks\n",
    "\n",
    "from sqlalchemy import create_engine\n",
    "import json\n",
    "import pickle\n",
    "\n",
    "import pandas as pd\n",
    "import numpy as np\n",
    "import seaborn as sns\n",
    "import matplotlib.pyplot as plt\n",
    "%matplotlib inline"
   ]
  },
  {
   "cell_type": "code",
   "execution_count": 2,
   "metadata": {
    "collapsed": true
   },
   "outputs": [],
   "source": [
    "# R  1\n",
    "# G  \n",
    "# H  \n",
    "\n",
    "category = 'R'\n",
    "# category = 'G'\n",
    "# category = 'H'"
   ]
  },
  {
   "cell_type": "code",
   "execution_count": 3,
   "metadata": {},
   "outputs": [
    {
     "name": "stdout",
     "output_type": "stream",
     "text": [
      "21699 races loaded!\n"
     ]
    }
   ],
   "source": [
    "engine = create_engine('sqlite:///tab.db')\n",
    "conn = engine.connect()\n",
    "conn\n",
    "dfoo = pd.read_sql_table('race', conn)\n",
    "print('{} races loaded!'.format(len(dfoo)))"
   ]
  },
  {
   "cell_type": "code",
   "execution_count": 4,
   "metadata": {},
   "outputs": [
    {
     "name": "stdout",
     "output_type": "stream",
     "text": [
      "7057 R races!\n"
     ]
    }
   ],
   "source": [
    "dfo = dfoo.loc[dfoo['race_type'].isin([category])]\n",
    "print('{} {} races!'.format(len(dfo), category))"
   ]
  },
  {
   "cell_type": "code",
   "execution_count": 5,
   "metadata": {},
   "outputs": [
    {
     "name": "stderr",
     "output_type": "stream",
     "text": [
      "/Users/jaco/.pyenv/versions/3.6.1/envs/tabby/lib/python3.6/site-packages/ipykernel_launcher.py:1: SettingWithCopyWarning: \n",
      "A value is trying to be set on a copy of a slice from a DataFrame.\n",
      "Try using .loc[row_indexer,col_indexer] = value instead\n",
      "\n",
      "See the caveats in the documentation: http://pandas.pydata.org/pandas-docs/stable/indexing.html#indexing-view-versus-copy\n",
      "  \"\"\"Entry point for launching an IPython kernel.\n",
      "/Users/jaco/.pyenv/versions/3.6.1/envs/tabby/lib/python3.6/site-packages/ipykernel_launcher.py:2: SettingWithCopyWarning: \n",
      "A value is trying to be set on a copy of a slice from a DataFrame.\n",
      "Try using .loc[row_indexer,col_indexer] = value instead\n",
      "\n",
      "See the caveats in the documentation: http://pandas.pydata.org/pandas-docs/stable/indexing.html#indexing-view-versus-copy\n",
      "  \n"
     ]
    },
    {
     "data": {
      "text/html": [
       "<div>\n",
       "<style>\n",
       "    .dataframe thead tr:only-child th {\n",
       "        text-align: right;\n",
       "    }\n",
       "\n",
       "    .dataframe thead th {\n",
       "        text-align: left;\n",
       "    }\n",
       "\n",
       "    .dataframe tbody tr th {\n",
       "        vertical-align: top;\n",
       "    }\n",
       "</style>\n",
       "<table border=\"1\" class=\"dataframe\">\n",
       "  <thead>\n",
       "    <tr style=\"text-align: right;\">\n",
       "      <th></th>\n",
       "      <th>id</th>\n",
       "      <th>meeting_name</th>\n",
       "      <th>location</th>\n",
       "      <th>venue_mnemonic</th>\n",
       "      <th>race_type</th>\n",
       "      <th>meeting_date</th>\n",
       "      <th>race_number</th>\n",
       "      <th>race_name</th>\n",
       "      <th>race_start_time</th>\n",
       "      <th>race_status</th>\n",
       "      <th>race_distance</th>\n",
       "      <th>results_data</th>\n",
       "      <th>num_runners</th>\n",
       "      <th>runners_data</th>\n",
       "      <th>quinella</th>\n",
       "      <th>exacta</th>\n",
       "      <th>trifecta</th>\n",
       "      <th>first_four</th>\n",
       "      <th>results</th>\n",
       "      <th>runners</th>\n",
       "    </tr>\n",
       "  </thead>\n",
       "  <tbody>\n",
       "    <tr>\n",
       "      <th>1025</th>\n",
       "      <td>1610</td>\n",
       "      <td>RANDWICK</td>\n",
       "      <td>NSW</td>\n",
       "      <td>S</td>\n",
       "      <td>R</td>\n",
       "      <td>2017-09-16</td>\n",
       "      <td>1</td>\n",
       "      <td>TAB HIGHWAY HANDICAP</td>\n",
       "      <td>2017-09-16 02:15:00</td>\n",
       "      <td>Paying</td>\n",
       "      <td>1000</td>\n",
       "      <td>[[4], [10], [2], [5]]</td>\n",
       "      <td>11</td>\n",
       "      <td>[{\"runnerName\": \"AZZIE'S READY\", \"runnerNumber...</td>\n",
       "      <td>605.4</td>\n",
       "      <td>NaN</td>\n",
       "      <td>NaN</td>\n",
       "      <td>NaN</td>\n",
       "      <td>[[4], [10], [2], [5]]</td>\n",
       "      <td>[{'runnerName': 'AZZIE'S READY', 'runnerNumber...</td>\n",
       "    </tr>\n",
       "    <tr>\n",
       "      <th>1026</th>\n",
       "      <td>1611</td>\n",
       "      <td>RANDWICK</td>\n",
       "      <td>NSW</td>\n",
       "      <td>S</td>\n",
       "      <td>R</td>\n",
       "      <td>2017-09-16</td>\n",
       "      <td>2</td>\n",
       "      <td>SHOOT OUT MILE</td>\n",
       "      <td>2017-09-16 02:50:00</td>\n",
       "      <td>Paying</td>\n",
       "      <td>1600</td>\n",
       "      <td>[[3], [5], [8], [7]]</td>\n",
       "      <td>10</td>\n",
       "      <td>[{\"runnerName\": \"GOLD HORIZON\", \"runnerNumber\"...</td>\n",
       "      <td>2296.9</td>\n",
       "      <td>NaN</td>\n",
       "      <td>NaN</td>\n",
       "      <td>NaN</td>\n",
       "      <td>[[3], [5], [8], [7]]</td>\n",
       "      <td>[{'runnerName': 'GOLD HORIZON', 'runnerNumber'...</td>\n",
       "    </tr>\n",
       "    <tr>\n",
       "      <th>1027</th>\n",
       "      <td>1612</td>\n",
       "      <td>RANDWICK</td>\n",
       "      <td>NSW</td>\n",
       "      <td>S</td>\n",
       "      <td>R</td>\n",
       "      <td>2017-09-16</td>\n",
       "      <td>3</td>\n",
       "      <td>SCHWEPPES HERITAGE STAKES</td>\n",
       "      <td>2017-09-16 03:25:00</td>\n",
       "      <td>Paying</td>\n",
       "      <td>1100</td>\n",
       "      <td>[[2], [1], [8], [6]]</td>\n",
       "      <td>10</td>\n",
       "      <td>[{\"runnerName\": \"LUCKY LOUIE\", \"runnerNumber\":...</td>\n",
       "      <td>1421.1</td>\n",
       "      <td>NaN</td>\n",
       "      <td>NaN</td>\n",
       "      <td>NaN</td>\n",
       "      <td>[[2], [1], [8], [6]]</td>\n",
       "      <td>[{'runnerName': 'LUCKY LOUIE', 'runnerNumber':...</td>\n",
       "    </tr>\n",
       "    <tr>\n",
       "      <th>1028</th>\n",
       "      <td>1613</td>\n",
       "      <td>RANDWICK</td>\n",
       "      <td>NSW</td>\n",
       "      <td>S</td>\n",
       "      <td>R</td>\n",
       "      <td>2017-09-16</td>\n",
       "      <td>4</td>\n",
       "      <td>BILL RITCHIE HANDICAP</td>\n",
       "      <td>2017-09-16 04:00:00</td>\n",
       "      <td>Paying</td>\n",
       "      <td>1400</td>\n",
       "      <td>[[7], [3], [4], [6]]</td>\n",
       "      <td>9</td>\n",
       "      <td>[{\"runnerName\": \"PAJARO\", \"runnerNumber\": 6, \"...</td>\n",
       "      <td>111.9</td>\n",
       "      <td>NaN</td>\n",
       "      <td>NaN</td>\n",
       "      <td>NaN</td>\n",
       "      <td>[[7], [3], [4], [6]]</td>\n",
       "      <td>[{'runnerName': 'PAJARO', 'runnerNumber': 6, '...</td>\n",
       "    </tr>\n",
       "    <tr>\n",
       "      <th>1029</th>\n",
       "      <td>1614</td>\n",
       "      <td>RANDWICK</td>\n",
       "      <td>NSW</td>\n",
       "      <td>S</td>\n",
       "      <td>R</td>\n",
       "      <td>2017-09-16</td>\n",
       "      <td>5</td>\n",
       "      <td>MCGRATH ESTATE TEA ROSE STAKES</td>\n",
       "      <td>2017-09-16 04:35:00</td>\n",
       "      <td>Paying</td>\n",
       "      <td>1400</td>\n",
       "      <td>[[6], [2], [5], [1]]</td>\n",
       "      <td>12</td>\n",
       "      <td>[{\"runnerName\": \"PANDEMONIUM\", \"runnerNumber\":...</td>\n",
       "      <td>911.7</td>\n",
       "      <td>NaN</td>\n",
       "      <td>NaN</td>\n",
       "      <td>NaN</td>\n",
       "      <td>[[6], [2], [5], [1]]</td>\n",
       "      <td>[{'runnerName': 'PANDEMONIUM', 'runnerNumber':...</td>\n",
       "    </tr>\n",
       "  </tbody>\n",
       "</table>\n",
       "</div>"
      ],
      "text/plain": [
       "        id meeting_name location venue_mnemonic race_type meeting_date  \\\n",
       "1025  1610     RANDWICK      NSW              S         R   2017-09-16   \n",
       "1026  1611     RANDWICK      NSW              S         R   2017-09-16   \n",
       "1027  1612     RANDWICK      NSW              S         R   2017-09-16   \n",
       "1028  1613     RANDWICK      NSW              S         R   2017-09-16   \n",
       "1029  1614     RANDWICK      NSW              S         R   2017-09-16   \n",
       "\n",
       "      race_number                       race_name     race_start_time  \\\n",
       "1025            1            TAB HIGHWAY HANDICAP 2017-09-16 02:15:00   \n",
       "1026            2                  SHOOT OUT MILE 2017-09-16 02:50:00   \n",
       "1027            3       SCHWEPPES HERITAGE STAKES 2017-09-16 03:25:00   \n",
       "1028            4           BILL RITCHIE HANDICAP 2017-09-16 04:00:00   \n",
       "1029            5  MCGRATH ESTATE TEA ROSE STAKES 2017-09-16 04:35:00   \n",
       "\n",
       "     race_status  race_distance           results_data  num_runners  \\\n",
       "1025      Paying           1000  [[4], [10], [2], [5]]           11   \n",
       "1026      Paying           1600   [[3], [5], [8], [7]]           10   \n",
       "1027      Paying           1100   [[2], [1], [8], [6]]           10   \n",
       "1028      Paying           1400   [[7], [3], [4], [6]]            9   \n",
       "1029      Paying           1400   [[6], [2], [5], [1]]           12   \n",
       "\n",
       "                                           runners_data  quinella  exacta  \\\n",
       "1025  [{\"runnerName\": \"AZZIE'S READY\", \"runnerNumber...     605.4     NaN   \n",
       "1026  [{\"runnerName\": \"GOLD HORIZON\", \"runnerNumber\"...    2296.9     NaN   \n",
       "1027  [{\"runnerName\": \"LUCKY LOUIE\", \"runnerNumber\":...    1421.1     NaN   \n",
       "1028  [{\"runnerName\": \"PAJARO\", \"runnerNumber\": 6, \"...     111.9     NaN   \n",
       "1029  [{\"runnerName\": \"PANDEMONIUM\", \"runnerNumber\":...     911.7     NaN   \n",
       "\n",
       "      trifecta  first_four                results  \\\n",
       "1025       NaN         NaN  [[4], [10], [2], [5]]   \n",
       "1026       NaN         NaN   [[3], [5], [8], [7]]   \n",
       "1027       NaN         NaN   [[2], [1], [8], [6]]   \n",
       "1028       NaN         NaN   [[7], [3], [4], [6]]   \n",
       "1029       NaN         NaN   [[6], [2], [5], [1]]   \n",
       "\n",
       "                                                runners  \n",
       "1025  [{'runnerName': 'AZZIE'S READY', 'runnerNumber...  \n",
       "1026  [{'runnerName': 'GOLD HORIZON', 'runnerNumber'...  \n",
       "1027  [{'runnerName': 'LUCKY LOUIE', 'runnerNumber':...  \n",
       "1028  [{'runnerName': 'PAJARO', 'runnerNumber': 6, '...  \n",
       "1029  [{'runnerName': 'PANDEMONIUM', 'runnerNumber':...  "
      ]
     },
     "execution_count": 5,
     "metadata": {},
     "output_type": "execute_result"
    }
   ],
   "source": [
    "dfo['results'] = dfo['results_data'].map(json.loads)\n",
    "dfo['runners'] = dfo['runners_data'].map(json.loads)\n",
    "dfo.head()"
   ]
  },
  {
   "cell_type": "code",
   "execution_count": 6,
   "metadata": {},
   "outputs": [
    {
     "data": {
      "text/html": [
       "<div>\n",
       "<style>\n",
       "    .dataframe thead tr:only-child th {\n",
       "        text-align: right;\n",
       "    }\n",
       "\n",
       "    .dataframe thead th {\n",
       "        text-align: left;\n",
       "    }\n",
       "\n",
       "    .dataframe tbody tr th {\n",
       "        vertical-align: top;\n",
       "    }\n",
       "</style>\n",
       "<table border=\"1\" class=\"dataframe\">\n",
       "  <thead>\n",
       "    <tr style=\"text-align: right;\">\n",
       "      <th></th>\n",
       "      <th>P_pred</th>\n",
       "      <th>P_prob</th>\n",
       "      <th>W_pred</th>\n",
       "      <th>W_prob</th>\n",
       "      <th>barrierNumber</th>\n",
       "      <th>claimAmount</th>\n",
       "      <th>finishingPosition</th>\n",
       "      <th>fixedOdds</th>\n",
       "      <th>has_odds</th>\n",
       "      <th>num_runners</th>\n",
       "      <th>...</th>\n",
       "      <th>place_rank</th>\n",
       "      <th>place_scaled</th>\n",
       "      <th>riderDriverName</th>\n",
       "      <th>runnerName</th>\n",
       "      <th>runnerNumber</th>\n",
       "      <th>trainerName</th>\n",
       "      <th>win_odds</th>\n",
       "      <th>win_perc</th>\n",
       "      <th>win_rank</th>\n",
       "      <th>win_scaled</th>\n",
       "    </tr>\n",
       "  </thead>\n",
       "  <tbody>\n",
       "    <tr>\n",
       "      <th>10</th>\n",
       "      <td>0.349417</td>\n",
       "      <td>0.104326</td>\n",
       "      <td>0.130689</td>\n",
       "      <td>0.109959</td>\n",
       "      <td>9</td>\n",
       "      <td>-1.0</td>\n",
       "      <td>0</td>\n",
       "      <td>{'returnWin': 5, 'returnWinOpen': 5, 'returnPl...</td>\n",
       "      <td>True</td>\n",
       "      <td>12</td>\n",
       "      <td>...</td>\n",
       "      <td>4.000000</td>\n",
       "      <td>0.093153</td>\n",
       "      <td>T EAVES</td>\n",
       "      <td>AUSPICION</td>\n",
       "      <td>4</td>\n",
       "      <td>T P TATE</td>\n",
       "      <td>5.0</td>\n",
       "      <td>0.200000</td>\n",
       "      <td>4.000000</td>\n",
       "      <td>0.107351</td>\n",
       "    </tr>\n",
       "    <tr>\n",
       "      <th>11</th>\n",
       "      <td>0.585536</td>\n",
       "      <td>0.174824</td>\n",
       "      <td>0.277830</td>\n",
       "      <td>0.233760</td>\n",
       "      <td>6</td>\n",
       "      <td>2.5</td>\n",
       "      <td>1</td>\n",
       "      <td>{'returnWin': 2.2, 'returnWinOpen': 5, 'return...</td>\n",
       "      <td>True</td>\n",
       "      <td>12</td>\n",
       "      <td>...</td>\n",
       "      <td>1.000000</td>\n",
       "      <td>0.147492</td>\n",
       "      <td>C RODRIGUEZ</td>\n",
       "      <td>CORNBOROUGH</td>\n",
       "      <td>5</td>\n",
       "      <td>MARK WALFORD</td>\n",
       "      <td>2.2</td>\n",
       "      <td>0.454545</td>\n",
       "      <td>1.000000</td>\n",
       "      <td>0.243979</td>\n",
       "    </tr>\n",
       "    <tr>\n",
       "      <th>12</th>\n",
       "      <td>0.000000</td>\n",
       "      <td>0.000000</td>\n",
       "      <td>0.000000</td>\n",
       "      <td>0.000000</td>\n",
       "      <td>2</td>\n",
       "      <td>-1.0</td>\n",
       "      <td>0</td>\n",
       "      <td>{'returnWin': 0, 'returnWinOpen': 0, 'returnPl...</td>\n",
       "      <td>False</td>\n",
       "      <td>12</td>\n",
       "      <td>...</td>\n",
       "      <td>2.564949</td>\n",
       "      <td>0.000000</td>\n",
       "      <td>A BESCHIZZA</td>\n",
       "      <td>CRAFTSMANSHIP</td>\n",
       "      <td>6</td>\n",
       "      <td>ROBERT EDDERY</td>\n",
       "      <td>0.0</td>\n",
       "      <td>0.000000</td>\n",
       "      <td>2.564949</td>\n",
       "      <td>0.000000</td>\n",
       "    </tr>\n",
       "  </tbody>\n",
       "</table>\n",
       "<p>3 rows × 23 columns</p>\n",
       "</div>"
      ],
      "text/plain": [
       "      P_pred    P_prob    W_pred    W_prob  barrierNumber  claimAmount  \\\n",
       "10  0.349417  0.104326  0.130689  0.109959              9         -1.0   \n",
       "11  0.585536  0.174824  0.277830  0.233760              6          2.5   \n",
       "12  0.000000  0.000000  0.000000  0.000000              2         -1.0   \n",
       "\n",
       "    finishingPosition                                          fixedOdds  \\\n",
       "10                  0  {'returnWin': 5, 'returnWinOpen': 5, 'returnPl...   \n",
       "11                  1  {'returnWin': 2.2, 'returnWinOpen': 5, 'return...   \n",
       "12                  0  {'returnWin': 0, 'returnWinOpen': 0, 'returnPl...   \n",
       "\n",
       "    has_odds  num_runners     ...     place_rank  place_scaled  \\\n",
       "10      True           12     ...       4.000000      0.093153   \n",
       "11      True           12     ...       1.000000      0.147492   \n",
       "12     False           12     ...       2.564949      0.000000   \n",
       "\n",
       "    riderDriverName     runnerName  runnerNumber    trainerName win_odds  \\\n",
       "10          T EAVES      AUSPICION             4       T P TATE      5.0   \n",
       "11      C RODRIGUEZ    CORNBOROUGH             5   MARK WALFORD      2.2   \n",
       "12      A BESCHIZZA  CRAFTSMANSHIP             6  ROBERT EDDERY      0.0   \n",
       "\n",
       "    win_perc  win_rank  win_scaled  \n",
       "10  0.200000  4.000000    0.107351  \n",
       "11  0.454545  1.000000    0.243979  \n",
       "12  0.000000  2.564949    0.000000  \n",
       "\n",
       "[3 rows x 23 columns]"
      ]
     },
     "execution_count": 6,
     "metadata": {},
     "output_type": "execute_result"
    }
   ],
   "source": [
    "# extract runners from races\n",
    "data_all = pd.DataFrame()\n",
    "for ri, race in dfo.iterrows():\n",
    "#     print(race)\n",
    "\n",
    "    num_runners = len([r for r in race['runners'] if r['has_odds']])\n",
    "\n",
    "    # add num_runners to all runners\n",
    "    for runner in race['runners']:\n",
    "#         print(runner)\n",
    "        runner['num_runners'] = num_runners\n",
    "\n",
    "    data_all = data_all.append(race['runners'])\n",
    "    \n",
    "data_all.tail(3)"
   ]
  },
  {
   "cell_type": "code",
   "execution_count": 7,
   "metadata": {},
   "outputs": [
    {
     "data": {
      "text/html": [
       "<div>\n",
       "<style>\n",
       "    .dataframe thead tr:only-child th {\n",
       "        text-align: right;\n",
       "    }\n",
       "\n",
       "    .dataframe thead th {\n",
       "        text-align: left;\n",
       "    }\n",
       "\n",
       "    .dataframe tbody tr th {\n",
       "        vertical-align: top;\n",
       "    }\n",
       "</style>\n",
       "<table border=\"1\" class=\"dataframe\">\n",
       "  <thead>\n",
       "    <tr style=\"text-align: right;\">\n",
       "      <th></th>\n",
       "      <th>P_pred</th>\n",
       "      <th>P_prob</th>\n",
       "      <th>W_pred</th>\n",
       "      <th>W_prob</th>\n",
       "      <th>barrierNumber</th>\n",
       "      <th>claimAmount</th>\n",
       "      <th>finishingPosition</th>\n",
       "      <th>num_runners</th>\n",
       "      <th>place_odds</th>\n",
       "      <th>place_perc</th>\n",
       "      <th>place_rank</th>\n",
       "      <th>place_scaled</th>\n",
       "      <th>runnerNumber</th>\n",
       "      <th>win_odds</th>\n",
       "      <th>win_perc</th>\n",
       "      <th>win_rank</th>\n",
       "      <th>win_scaled</th>\n",
       "    </tr>\n",
       "  </thead>\n",
       "  <tbody>\n",
       "    <tr>\n",
       "      <th>count</th>\n",
       "      <td>73153.000000</td>\n",
       "      <td>73153.000000</td>\n",
       "      <td>73153.000000</td>\n",
       "      <td>73153.000000</td>\n",
       "      <td>73153.000000</td>\n",
       "      <td>73153.000000</td>\n",
       "      <td>73153.000000</td>\n",
       "      <td>73153.00000</td>\n",
       "      <td>73153.000000</td>\n",
       "      <td>73153.000000</td>\n",
       "      <td>73153.000000</td>\n",
       "      <td>73153.000000</td>\n",
       "      <td>73153.000000</td>\n",
       "      <td>73153.000000</td>\n",
       "      <td>73153.000000</td>\n",
       "      <td>73153.000000</td>\n",
       "      <td>73153.000000</td>\n",
       "    </tr>\n",
       "    <tr>\n",
       "      <th>mean</th>\n",
       "      <td>0.254063</td>\n",
       "      <td>0.096469</td>\n",
       "      <td>0.092064</td>\n",
       "      <td>0.096469</td>\n",
       "      <td>5.943994</td>\n",
       "      <td>-0.346862</td>\n",
       "      <td>0.821538</td>\n",
       "      <td>11.33691</td>\n",
       "      <td>9.209378</td>\n",
       "      <td>0.348519</td>\n",
       "      <td>6.027709</td>\n",
       "      <td>0.096469</td>\n",
       "      <td>6.444411</td>\n",
       "      <td>21.435821</td>\n",
       "      <td>0.127011</td>\n",
       "      <td>6.056143</td>\n",
       "      <td>0.096469</td>\n",
       "    </tr>\n",
       "    <tr>\n",
       "      <th>std</th>\n",
       "      <td>0.185482</td>\n",
       "      <td>0.075277</td>\n",
       "      <td>0.091387</td>\n",
       "      <td>0.095161</td>\n",
       "      <td>3.623206</td>\n",
       "      <td>1.286466</td>\n",
       "      <td>1.282896</td>\n",
       "      <td>3.30614</td>\n",
       "      <td>98.259489</td>\n",
       "      <td>0.206349</td>\n",
       "      <td>3.719357</td>\n",
       "      <td>0.062304</td>\n",
       "      <td>3.957410</td>\n",
       "      <td>28.653048</td>\n",
       "      <td>0.130798</td>\n",
       "      <td>3.718357</td>\n",
       "      <td>0.093881</td>\n",
       "    </tr>\n",
       "    <tr>\n",
       "      <th>min</th>\n",
       "      <td>0.000000</td>\n",
       "      <td>0.000000</td>\n",
       "      <td>0.000000</td>\n",
       "      <td>0.000000</td>\n",
       "      <td>0.000000</td>\n",
       "      <td>-1.000000</td>\n",
       "      <td>0.000000</td>\n",
       "      <td>4.00000</td>\n",
       "      <td>1.010000</td>\n",
       "      <td>0.000444</td>\n",
       "      <td>1.000000</td>\n",
       "      <td>0.000066</td>\n",
       "      <td>1.000000</td>\n",
       "      <td>1.010000</td>\n",
       "      <td>0.002494</td>\n",
       "      <td>1.000000</td>\n",
       "      <td>0.000768</td>\n",
       "    </tr>\n",
       "    <tr>\n",
       "      <th>25%</th>\n",
       "      <td>0.105626</td>\n",
       "      <td>0.038480</td>\n",
       "      <td>0.029032</td>\n",
       "      <td>0.030456</td>\n",
       "      <td>3.000000</td>\n",
       "      <td>-1.000000</td>\n",
       "      <td>0.000000</td>\n",
       "      <td>9.00000</td>\n",
       "      <td>2.050000</td>\n",
       "      <td>0.183486</td>\n",
       "      <td>3.000000</td>\n",
       "      <td>0.048167</td>\n",
       "      <td>3.000000</td>\n",
       "      <td>6.000000</td>\n",
       "      <td>0.043478</td>\n",
       "      <td>3.000000</td>\n",
       "      <td>0.031407</td>\n",
       "    </tr>\n",
       "    <tr>\n",
       "      <th>50%</th>\n",
       "      <td>0.219481</td>\n",
       "      <td>0.079731</td>\n",
       "      <td>0.063492</td>\n",
       "      <td>0.066582</td>\n",
       "      <td>5.000000</td>\n",
       "      <td>-1.000000</td>\n",
       "      <td>0.000000</td>\n",
       "      <td>11.00000</td>\n",
       "      <td>3.200000</td>\n",
       "      <td>0.312500</td>\n",
       "      <td>6.000000</td>\n",
       "      <td>0.083996</td>\n",
       "      <td>6.000000</td>\n",
       "      <td>12.000000</td>\n",
       "      <td>0.083333</td>\n",
       "      <td>6.000000</td>\n",
       "      <td>0.065740</td>\n",
       "    </tr>\n",
       "    <tr>\n",
       "      <th>75%</th>\n",
       "      <td>0.358613</td>\n",
       "      <td>0.135323</td>\n",
       "      <td>0.121363</td>\n",
       "      <td>0.128181</td>\n",
       "      <td>8.000000</td>\n",
       "      <td>0.000000</td>\n",
       "      <td>2.000000</td>\n",
       "      <td>13.00000</td>\n",
       "      <td>5.450000</td>\n",
       "      <td>0.487805</td>\n",
       "      <td>8.000000</td>\n",
       "      <td>0.133464</td>\n",
       "      <td>9.000000</td>\n",
       "      <td>23.000000</td>\n",
       "      <td>0.166667</td>\n",
       "      <td>9.000000</td>\n",
       "      <td>0.131033</td>\n",
       "    </tr>\n",
       "    <tr>\n",
       "      <th>max</th>\n",
       "      <td>0.998952</td>\n",
       "      <td>0.887873</td>\n",
       "      <td>1.000000</td>\n",
       "      <td>0.999854</td>\n",
       "      <td>24.000000</td>\n",
       "      <td>5.000000</td>\n",
       "      <td>4.000000</td>\n",
       "      <td>24.00000</td>\n",
       "      <td>2250.000000</td>\n",
       "      <td>0.990099</td>\n",
       "      <td>23.000000</td>\n",
       "      <td>0.441762</td>\n",
       "      <td>24.000000</td>\n",
       "      <td>401.000000</td>\n",
       "      <td>0.990099</td>\n",
       "      <td>23.000000</td>\n",
       "      <td>0.820518</td>\n",
       "    </tr>\n",
       "  </tbody>\n",
       "</table>\n",
       "</div>"
      ],
      "text/plain": [
       "             P_pred        P_prob        W_pred        W_prob  barrierNumber  \\\n",
       "count  73153.000000  73153.000000  73153.000000  73153.000000   73153.000000   \n",
       "mean       0.254063      0.096469      0.092064      0.096469       5.943994   \n",
       "std        0.185482      0.075277      0.091387      0.095161       3.623206   \n",
       "min        0.000000      0.000000      0.000000      0.000000       0.000000   \n",
       "25%        0.105626      0.038480      0.029032      0.030456       3.000000   \n",
       "50%        0.219481      0.079731      0.063492      0.066582       5.000000   \n",
       "75%        0.358613      0.135323      0.121363      0.128181       8.000000   \n",
       "max        0.998952      0.887873      1.000000      0.999854      24.000000   \n",
       "\n",
       "        claimAmount  finishingPosition  num_runners    place_odds  \\\n",
       "count  73153.000000       73153.000000  73153.00000  73153.000000   \n",
       "mean      -0.346862           0.821538     11.33691      9.209378   \n",
       "std        1.286466           1.282896      3.30614     98.259489   \n",
       "min       -1.000000           0.000000      4.00000      1.010000   \n",
       "25%       -1.000000           0.000000      9.00000      2.050000   \n",
       "50%       -1.000000           0.000000     11.00000      3.200000   \n",
       "75%        0.000000           2.000000     13.00000      5.450000   \n",
       "max        5.000000           4.000000     24.00000   2250.000000   \n",
       "\n",
       "         place_perc    place_rank  place_scaled  runnerNumber      win_odds  \\\n",
       "count  73153.000000  73153.000000  73153.000000  73153.000000  73153.000000   \n",
       "mean       0.348519      6.027709      0.096469      6.444411     21.435821   \n",
       "std        0.206349      3.719357      0.062304      3.957410     28.653048   \n",
       "min        0.000444      1.000000      0.000066      1.000000      1.010000   \n",
       "25%        0.183486      3.000000      0.048167      3.000000      6.000000   \n",
       "50%        0.312500      6.000000      0.083996      6.000000     12.000000   \n",
       "75%        0.487805      8.000000      0.133464      9.000000     23.000000   \n",
       "max        0.990099     23.000000      0.441762     24.000000    401.000000   \n",
       "\n",
       "           win_perc      win_rank    win_scaled  \n",
       "count  73153.000000  73153.000000  73153.000000  \n",
       "mean       0.127011      6.056143      0.096469  \n",
       "std        0.130798      3.718357      0.093881  \n",
       "min        0.002494      1.000000      0.000768  \n",
       "25%        0.043478      3.000000      0.031407  \n",
       "50%        0.083333      6.000000      0.065740  \n",
       "75%        0.166667      9.000000      0.131033  \n",
       "max        0.990099     23.000000      0.820518  "
      ]
     },
     "execution_count": 7,
     "metadata": {},
     "output_type": "execute_result"
    }
   ],
   "source": [
    "# drop scratched\n",
    "data = data_all.dropna(subset=['win_odds', 'place_odds'])\n",
    "data = data[(data.win_odds > 0)]\n",
    "data = data[(data.place_odds > 0)]\n",
    "data.describe()"
   ]
  },
  {
   "cell_type": "code",
   "execution_count": 8,
   "metadata": {},
   "outputs": [
    {
     "data": {
      "text/html": [
       "<div>\n",
       "<style>\n",
       "    .dataframe thead tr:only-child th {\n",
       "        text-align: right;\n",
       "    }\n",
       "\n",
       "    .dataframe thead th {\n",
       "        text-align: left;\n",
       "    }\n",
       "\n",
       "    .dataframe tbody tr th {\n",
       "        vertical-align: top;\n",
       "    }\n",
       "</style>\n",
       "<table border=\"1\" class=\"dataframe\">\n",
       "  <thead>\n",
       "    <tr style=\"text-align: right;\">\n",
       "      <th></th>\n",
       "      <th>finishingPosition</th>\n",
       "      <th>0</th>\n",
       "    </tr>\n",
       "  </thead>\n",
       "  <tbody>\n",
       "    <tr>\n",
       "      <th>count</th>\n",
       "      <td>73153.000000</td>\n",
       "      <td>73153.000000</td>\n",
       "    </tr>\n",
       "    <tr>\n",
       "      <th>mean</th>\n",
       "      <td>0.096660</td>\n",
       "      <td>0.270570</td>\n",
       "    </tr>\n",
       "    <tr>\n",
       "      <th>std</th>\n",
       "      <td>0.295497</td>\n",
       "      <td>0.444257</td>\n",
       "    </tr>\n",
       "    <tr>\n",
       "      <th>min</th>\n",
       "      <td>0.000000</td>\n",
       "      <td>0.000000</td>\n",
       "    </tr>\n",
       "    <tr>\n",
       "      <th>25%</th>\n",
       "      <td>0.000000</td>\n",
       "      <td>0.000000</td>\n",
       "    </tr>\n",
       "    <tr>\n",
       "      <th>50%</th>\n",
       "      <td>0.000000</td>\n",
       "      <td>0.000000</td>\n",
       "    </tr>\n",
       "    <tr>\n",
       "      <th>75%</th>\n",
       "      <td>0.000000</td>\n",
       "      <td>1.000000</td>\n",
       "    </tr>\n",
       "    <tr>\n",
       "      <th>max</th>\n",
       "      <td>1.000000</td>\n",
       "      <td>1.000000</td>\n",
       "    </tr>\n",
       "  </tbody>\n",
       "</table>\n",
       "</div>"
      ],
      "text/plain": [
       "       finishingPosition             0\n",
       "count       73153.000000  73153.000000\n",
       "mean            0.096660      0.270570\n",
       "std             0.295497      0.444257\n",
       "min             0.000000      0.000000\n",
       "25%             0.000000      0.000000\n",
       "50%             0.000000      0.000000\n",
       "75%             0.000000      1.000000\n",
       "max             1.000000      1.000000"
      ]
     },
     "execution_count": 8,
     "metadata": {},
     "output_type": "execute_result"
    }
   ],
   "source": [
    "# get label data\n",
    "fp = data['finishingPosition']\n",
    "\n",
    "yw = (fp == 1)\n",
    "yp = (fp == 1) | (fp == 2) | ((fp == 3) & (data['num_runners'] >= 8))\n",
    "Y = pd.concat([yw, yp], axis=1)\n",
    "\n",
    "#print(data['finishingPosition'].head(10))\n",
    "Y = Y.astype(int)\n",
    "# Y.head(10)\n",
    "Y.describe()"
   ]
  },
  {
   "cell_type": "code",
   "execution_count": 9,
   "metadata": {},
   "outputs": [
    {
     "data": {
      "text/plain": [
       "count    73153.00000\n",
       "mean        11.33691\n",
       "std          3.30614\n",
       "min          4.00000\n",
       "25%          9.00000\n",
       "50%         11.00000\n",
       "75%         13.00000\n",
       "max         24.00000\n",
       "Name: num_runners, dtype: float64"
      ]
     },
     "execution_count": 9,
     "metadata": {},
     "output_type": "execute_result"
    }
   ],
   "source": [
    "# xnr = get num runners\n",
    "xnr = data['num_runners']\n",
    "xnr.describe()"
   ]
  },
  {
   "cell_type": "code",
   "execution_count": 10,
   "metadata": {
    "collapsed": true
   },
   "outputs": [],
   "source": [
    "# xwr = win rank\n",
    "xwr = data['win_rank']\n",
    "# xfwr.describe()\n",
    "\n",
    "# xwp = win perc\n",
    "xwp = data['win_perc']\n",
    "# xwp.describe()\n",
    "\n",
    "# xws = win scaled\n",
    "xws = data['win_scaled']\n",
    "# xws.describe()"
   ]
  },
  {
   "cell_type": "code",
   "execution_count": 11,
   "metadata": {
    "collapsed": true
   },
   "outputs": [],
   "source": [
    "# xpr = place rank\n",
    "xpr = data['place_rank']\n",
    "# xpr.describe()\n",
    "\n",
    "# xpp = place perc\n",
    "xpp = data['place_perc']\n",
    "# xpp.describe()\n",
    "\n",
    "# xps = place scaled\n",
    "xps = data['place_scaled']\n",
    "# xps.describe()"
   ]
  },
  {
   "cell_type": "code",
   "execution_count": 12,
   "metadata": {},
   "outputs": [
    {
     "data": {
      "text/html": [
       "<div>\n",
       "<style>\n",
       "    .dataframe thead tr:only-child th {\n",
       "        text-align: right;\n",
       "    }\n",
       "\n",
       "    .dataframe thead th {\n",
       "        text-align: left;\n",
       "    }\n",
       "\n",
       "    .dataframe tbody tr th {\n",
       "        vertical-align: top;\n",
       "    }\n",
       "</style>\n",
       "<table border=\"1\" class=\"dataframe\">\n",
       "  <thead>\n",
       "    <tr style=\"text-align: right;\">\n",
       "      <th></th>\n",
       "      <th>num_runners</th>\n",
       "      <th>win_rank</th>\n",
       "      <th>win_perc</th>\n",
       "      <th>win_scaled</th>\n",
       "      <th>place_rank</th>\n",
       "      <th>place_perc</th>\n",
       "      <th>place_scaled</th>\n",
       "    </tr>\n",
       "  </thead>\n",
       "  <tbody>\n",
       "    <tr>\n",
       "      <th>count</th>\n",
       "      <td>73153.00000</td>\n",
       "      <td>73153.000000</td>\n",
       "      <td>73153.000000</td>\n",
       "      <td>73153.000000</td>\n",
       "      <td>73153.000000</td>\n",
       "      <td>73153.000000</td>\n",
       "      <td>73153.000000</td>\n",
       "    </tr>\n",
       "    <tr>\n",
       "      <th>mean</th>\n",
       "      <td>11.33691</td>\n",
       "      <td>6.056143</td>\n",
       "      <td>0.127011</td>\n",
       "      <td>0.096469</td>\n",
       "      <td>6.027709</td>\n",
       "      <td>0.348519</td>\n",
       "      <td>0.096469</td>\n",
       "    </tr>\n",
       "    <tr>\n",
       "      <th>std</th>\n",
       "      <td>3.30614</td>\n",
       "      <td>3.718357</td>\n",
       "      <td>0.130798</td>\n",
       "      <td>0.093881</td>\n",
       "      <td>3.719357</td>\n",
       "      <td>0.206349</td>\n",
       "      <td>0.062304</td>\n",
       "    </tr>\n",
       "    <tr>\n",
       "      <th>min</th>\n",
       "      <td>4.00000</td>\n",
       "      <td>1.000000</td>\n",
       "      <td>0.002494</td>\n",
       "      <td>0.000768</td>\n",
       "      <td>1.000000</td>\n",
       "      <td>0.000444</td>\n",
       "      <td>0.000066</td>\n",
       "    </tr>\n",
       "    <tr>\n",
       "      <th>25%</th>\n",
       "      <td>9.00000</td>\n",
       "      <td>3.000000</td>\n",
       "      <td>0.043478</td>\n",
       "      <td>0.031407</td>\n",
       "      <td>3.000000</td>\n",
       "      <td>0.183486</td>\n",
       "      <td>0.048167</td>\n",
       "    </tr>\n",
       "    <tr>\n",
       "      <th>50%</th>\n",
       "      <td>11.00000</td>\n",
       "      <td>6.000000</td>\n",
       "      <td>0.083333</td>\n",
       "      <td>0.065740</td>\n",
       "      <td>6.000000</td>\n",
       "      <td>0.312500</td>\n",
       "      <td>0.083996</td>\n",
       "    </tr>\n",
       "    <tr>\n",
       "      <th>75%</th>\n",
       "      <td>13.00000</td>\n",
       "      <td>9.000000</td>\n",
       "      <td>0.166667</td>\n",
       "      <td>0.131033</td>\n",
       "      <td>8.000000</td>\n",
       "      <td>0.487805</td>\n",
       "      <td>0.133464</td>\n",
       "    </tr>\n",
       "    <tr>\n",
       "      <th>max</th>\n",
       "      <td>24.00000</td>\n",
       "      <td>23.000000</td>\n",
       "      <td>0.990099</td>\n",
       "      <td>0.820518</td>\n",
       "      <td>23.000000</td>\n",
       "      <td>0.990099</td>\n",
       "      <td>0.441762</td>\n",
       "    </tr>\n",
       "  </tbody>\n",
       "</table>\n",
       "</div>"
      ],
      "text/plain": [
       "       num_runners      win_rank      win_perc    win_scaled    place_rank  \\\n",
       "count  73153.00000  73153.000000  73153.000000  73153.000000  73153.000000   \n",
       "mean      11.33691      6.056143      0.127011      0.096469      6.027709   \n",
       "std        3.30614      3.718357      0.130798      0.093881      3.719357   \n",
       "min        4.00000      1.000000      0.002494      0.000768      1.000000   \n",
       "25%        9.00000      3.000000      0.043478      0.031407      3.000000   \n",
       "50%       11.00000      6.000000      0.083333      0.065740      6.000000   \n",
       "75%       13.00000      9.000000      0.166667      0.131033      8.000000   \n",
       "max       24.00000     23.000000      0.990099      0.820518     23.000000   \n",
       "\n",
       "         place_perc  place_scaled  \n",
       "count  73153.000000  73153.000000  \n",
       "mean       0.348519      0.096469  \n",
       "std        0.206349      0.062304  \n",
       "min        0.000444      0.000066  \n",
       "25%        0.183486      0.048167  \n",
       "50%        0.312500      0.083996  \n",
       "75%        0.487805      0.133464  \n",
       "max        0.990099      0.441762  "
      ]
     },
     "execution_count": 12,
     "metadata": {},
     "output_type": "execute_result"
    }
   ],
   "source": [
    "X = pd.concat([xnr, \n",
    "               xwr, xwp, xws,\n",
    "               xpr, xpp, xps], axis=1)\n",
    "X.describe()\n",
    "# sns.pairplot(pd.concat([X, Y], axis=1))"
   ]
  },
  {
   "cell_type": "code",
   "execution_count": 14,
   "metadata": {},
   "outputs": [
    {
     "name": "stdout",
     "output_type": "stream",
     "text": [
      "input dimension = 7\n",
      "epochs = 250\n",
      "tag = R50x50\n"
     ]
    }
   ],
   "source": [
    "# For a single-input model with 2 classes (binary classification):\n",
    "\n",
    "n = len(X.columns)\n",
    "print('input dimension = {}'.format(n))\n",
    "\n",
    "epochs = 250\n",
    "print('epochs = {}'.format(epochs))\n",
    "\n",
    "tag = '{}50x50'.format(category)\n",
    "print('tag = {}'.format(tag))\n",
    "file_name = '/Users/jaco/code/tabby/models/{}.h5'.format(tag)\n",
    "\n",
    "try:\n",
    "    model = load_model(file_name)\n",
    "except OSError:\n",
    "    model = Sequential()\n",
    "    model.add(Dense(50, activation='relu', input_dim=n))\n",
    "    model.add(Dense(50, activation='relu'))\n",
    "    model.add(Dense(2, activation='sigmoid'))\n",
    "    model.compile(optimizer='adam',\n",
    "                  loss='binary_crossentropy',\n",
    "                  metrics=['accuracy'])"
   ]
  },
  {
   "cell_type": "code",
   "execution_count": 15,
   "metadata": {},
   "outputs": [
    {
     "data": {
      "application/vnd.jupyter.widget-view+json": {
       "model_id": "6f381fb2873f4231bbb3ebb11a2cb60c"
      }
     },
     "metadata": {},
     "output_type": "display_data"
    },
    {
     "data": {
      "application/vnd.jupyter.widget-view+json": {
       "model_id": "a7999dca87e84f0ca73a6ec0ce660106"
      }
     },
     "metadata": {},
     "output_type": "display_data"
    },
    {
     "data": {
      "application/vnd.jupyter.widget-view+json": {
       "model_id": "dc665052c6a04ec382a447e144cd3b61"
      }
     },
     "metadata": {},
     "output_type": "display_data"
    },
    {
     "data": {
      "application/vnd.jupyter.widget-view+json": {
       "model_id": "82dc610cac1c4479b639a8942b3c370a"
      }
     },
     "metadata": {},
     "output_type": "display_data"
    },
    {
     "data": {
      "application/vnd.jupyter.widget-view+json": {
       "model_id": "b7b0d96ce0e149229854e8c69955ada6"
      }
     },
     "metadata": {},
     "output_type": "display_data"
    },
    {
     "data": {
      "application/vnd.jupyter.widget-view+json": {
       "model_id": "fa5258628d794e1ba6020f88e63da306"
      }
     },
     "metadata": {},
     "output_type": "display_data"
    },
    {
     "data": {
      "application/vnd.jupyter.widget-view+json": {
       "model_id": "780ad2b34ff247e3a24a300c3caa9481"
      }
     },
     "metadata": {},
     "output_type": "display_data"
    },
    {
     "data": {
      "application/vnd.jupyter.widget-view+json": {
       "model_id": "b5655d17bac546838b0aa1d044aecb7d"
      }
     },
     "metadata": {},
     "output_type": "display_data"
    },
    {
     "data": {
      "application/vnd.jupyter.widget-view+json": {
       "model_id": "5b2b70aa948c49a2ae6b068da0f9ee62"
      }
     },
     "metadata": {},
     "output_type": "display_data"
    },
    {
     "data": {
      "application/vnd.jupyter.widget-view+json": {
       "model_id": "5440adff9ce44810ae54e802694b4814"
      }
     },
     "metadata": {},
     "output_type": "display_data"
    },
    {
     "data": {
      "application/vnd.jupyter.widget-view+json": {
       "model_id": "95ce7a3c919643b7be4d14c8d293dd0b"
      }
     },
     "metadata": {},
     "output_type": "display_data"
    },
    {
     "data": {
      "application/vnd.jupyter.widget-view+json": {
       "model_id": "5b721bce86854933917f7c0499335c6e"
      }
     },
     "metadata": {},
     "output_type": "display_data"
    },
    {
     "data": {
      "application/vnd.jupyter.widget-view+json": {
       "model_id": "099764a547ce4f4fa0c85425fde3907a"
      }
     },
     "metadata": {},
     "output_type": "display_data"
    },
    {
     "data": {
      "application/vnd.jupyter.widget-view+json": {
       "model_id": "9c3f6b2c7bba4c478591dd899aeba92a"
      }
     },
     "metadata": {},
     "output_type": "display_data"
    },
    {
     "data": {
      "application/vnd.jupyter.widget-view+json": {
       "model_id": "c24222a626674e879231edf94b15429b"
      }
     },
     "metadata": {},
     "output_type": "display_data"
    },
    {
     "data": {
      "application/vnd.jupyter.widget-view+json": {
       "model_id": "4c4b8b272a2f41c78736ff4843cbc3b8"
      }
     },
     "metadata": {},
     "output_type": "display_data"
    },
    {
     "data": {
      "application/vnd.jupyter.widget-view+json": {
       "model_id": "536683339ed849f78939bc79cf9061c3"
      }
     },
     "metadata": {},
     "output_type": "display_data"
    },
    {
     "data": {
      "application/vnd.jupyter.widget-view+json": {
       "model_id": "68671632c54a4e8887da9baec5575dfa"
      }
     },
     "metadata": {},
     "output_type": "display_data"
    },
    {
     "data": {
      "application/vnd.jupyter.widget-view+json": {
       "model_id": "d55045781da44deeabe6e78445526675"
      }
     },
     "metadata": {},
     "output_type": "display_data"
    },
    {
     "data": {
      "application/vnd.jupyter.widget-view+json": {
       "model_id": "4df92c63abe54a0986147969001d4812"
      }
     },
     "metadata": {},
     "output_type": "display_data"
    },
    {
     "data": {
      "application/vnd.jupyter.widget-view+json": {
       "model_id": "ed802ec1ac9345cca1fdb12a120d0113"
      }
     },
     "metadata": {},
     "output_type": "display_data"
    },
    {
     "data": {
      "application/vnd.jupyter.widget-view+json": {
       "model_id": "da2580bead674b7aa36f50c1e69e377b"
      }
     },
     "metadata": {},
     "output_type": "display_data"
    },
    {
     "data": {
      "application/vnd.jupyter.widget-view+json": {
       "model_id": "46f6a7dfd9454ff39656cc4072a935ff"
      }
     },
     "metadata": {},
     "output_type": "display_data"
    },
    {
     "data": {
      "application/vnd.jupyter.widget-view+json": {
       "model_id": "b6afbdf9f4e54582a86f08350e754e83"
      }
     },
     "metadata": {},
     "output_type": "display_data"
    },
    {
     "data": {
      "application/vnd.jupyter.widget-view+json": {
       "model_id": "949c9d998c364f558fa84150754ebe1e"
      }
     },
     "metadata": {},
     "output_type": "display_data"
    },
    {
     "data": {
      "application/vnd.jupyter.widget-view+json": {
       "model_id": "fe321ad5b01b4e38b089f2ec74811ca5"
      }
     },
     "metadata": {},
     "output_type": "display_data"
    },
    {
     "data": {
      "application/vnd.jupyter.widget-view+json": {
       "model_id": "3be2e76e7eae4e5f9fb7fa74aa493c4c"
      }
     },
     "metadata": {},
     "output_type": "display_data"
    },
    {
     "data": {
      "application/vnd.jupyter.widget-view+json": {
       "model_id": "967011fbfcac482d80ab2ac5bc5efe82"
      }
     },
     "metadata": {},
     "output_type": "display_data"
    },
    {
     "data": {
      "application/vnd.jupyter.widget-view+json": {
       "model_id": "6a93238881004609be4e715eb338f186"
      }
     },
     "metadata": {},
     "output_type": "display_data"
    },
    {
     "data": {
      "application/vnd.jupyter.widget-view+json": {
       "model_id": "0b10c3fe100d4b0eb1a3a349a8442e33"
      }
     },
     "metadata": {},
     "output_type": "display_data"
    },
    {
     "data": {
      "application/vnd.jupyter.widget-view+json": {
       "model_id": "04c57d920ae34a46a34497724036e986"
      }
     },
     "metadata": {},
     "output_type": "display_data"
    },
    {
     "data": {
      "application/vnd.jupyter.widget-view+json": {
       "model_id": "188c0047fe56492d81cf242dd0ba9fc8"
      }
     },
     "metadata": {},
     "output_type": "display_data"
    },
    {
     "data": {
      "application/vnd.jupyter.widget-view+json": {
       "model_id": "8f5e16f4de0c4cbba2faf556ecba76fa"
      }
     },
     "metadata": {},
     "output_type": "display_data"
    },
    {
     "data": {
      "application/vnd.jupyter.widget-view+json": {
       "model_id": "71aaaead55ec4a288153ac1426ecd715"
      }
     },
     "metadata": {},
     "output_type": "display_data"
    },
    {
     "data": {
      "application/vnd.jupyter.widget-view+json": {
       "model_id": "ed2ab8c8e2e94495a323f095bc581b1f"
      }
     },
     "metadata": {},
     "output_type": "display_data"
    },
    {
     "data": {
      "application/vnd.jupyter.widget-view+json": {
       "model_id": "27a169e783eb4171a4df228c4836506a"
      }
     },
     "metadata": {},
     "output_type": "display_data"
    },
    {
     "data": {
      "application/vnd.jupyter.widget-view+json": {
       "model_id": "291be0fe607f483297a29956616c25c7"
      }
     },
     "metadata": {},
     "output_type": "display_data"
    },
    {
     "data": {
      "application/vnd.jupyter.widget-view+json": {
       "model_id": "721c4bdc4bf34020a9c5ef5d03dff677"
      }
     },
     "metadata": {},
     "output_type": "display_data"
    },
    {
     "data": {
      "application/vnd.jupyter.widget-view+json": {
       "model_id": "0ab87f898a37442e8421c4537501369e"
      }
     },
     "metadata": {},
     "output_type": "display_data"
    },
    {
     "data": {
      "application/vnd.jupyter.widget-view+json": {
       "model_id": "7470f05278f441709a25242165c68143"
      }
     },
     "metadata": {},
     "output_type": "display_data"
    },
    {
     "data": {
      "application/vnd.jupyter.widget-view+json": {
       "model_id": "049be982fdab4856827dc9d38829e4da"
      }
     },
     "metadata": {},
     "output_type": "display_data"
    },
    {
     "data": {
      "application/vnd.jupyter.widget-view+json": {
       "model_id": "1e32de33c8374a95a24d3bfcf8da6950"
      }
     },
     "metadata": {},
     "output_type": "display_data"
    },
    {
     "data": {
      "application/vnd.jupyter.widget-view+json": {
       "model_id": "4c2802f15d3b49a5bfdf40ed531011b4"
      }
     },
     "metadata": {},
     "output_type": "display_data"
    },
    {
     "data": {
      "application/vnd.jupyter.widget-view+json": {
       "model_id": "e39d9009f7cd4e49b7eac063a0bf1174"
      }
     },
     "metadata": {},
     "output_type": "display_data"
    },
    {
     "data": {
      "application/vnd.jupyter.widget-view+json": {
       "model_id": "760d9f41d6b640d696434e5f1c0a151a"
      }
     },
     "metadata": {},
     "output_type": "display_data"
    },
    {
     "data": {
      "application/vnd.jupyter.widget-view+json": {
       "model_id": "e7fb31f31e7846a29fbbb8c06e35ecc2"
      }
     },
     "metadata": {},
     "output_type": "display_data"
    },
    {
     "data": {
      "application/vnd.jupyter.widget-view+json": {
       "model_id": "26e7f0710fcd4eb7b213f8806f0f0850"
      }
     },
     "metadata": {},
     "output_type": "display_data"
    },
    {
     "data": {
      "application/vnd.jupyter.widget-view+json": {
       "model_id": "14858e9311154121a3edea8bc6bf4e3e"
      }
     },
     "metadata": {},
     "output_type": "display_data"
    },
    {
     "data": {
      "application/vnd.jupyter.widget-view+json": {
       "model_id": "3899ee7a8cf74e0c81dffe7b54e61289"
      }
     },
     "metadata": {},
     "output_type": "display_data"
    },
    {
     "data": {
      "application/vnd.jupyter.widget-view+json": {
       "model_id": "2c6d532a8b15465581d4c0ca9cf9971e"
      }
     },
     "metadata": {},
     "output_type": "display_data"
    },
    {
     "data": {
      "application/vnd.jupyter.widget-view+json": {
       "model_id": "7a022a7ad3e54cc39a222152910ad8ed"
      }
     },
     "metadata": {},
     "output_type": "display_data"
    },
    {
     "data": {
      "application/vnd.jupyter.widget-view+json": {
       "model_id": "1d4b000a89614915a46d198d068a69a6"
      }
     },
     "metadata": {},
     "output_type": "display_data"
    },
    {
     "data": {
      "application/vnd.jupyter.widget-view+json": {
       "model_id": "0f330129a79e41329a73d2621700a069"
      }
     },
     "metadata": {},
     "output_type": "display_data"
    },
    {
     "data": {
      "application/vnd.jupyter.widget-view+json": {
       "model_id": "0224ced92d00487490e751e4e225fa2c"
      }
     },
     "metadata": {},
     "output_type": "display_data"
    },
    {
     "data": {
      "application/vnd.jupyter.widget-view+json": {
       "model_id": "fa2d1322f407418caae2e97ec177e825"
      }
     },
     "metadata": {},
     "output_type": "display_data"
    },
    {
     "data": {
      "application/vnd.jupyter.widget-view+json": {
       "model_id": "d38628c1d5254cc4925547a72d822b81"
      }
     },
     "metadata": {},
     "output_type": "display_data"
    },
    {
     "data": {
      "application/vnd.jupyter.widget-view+json": {
       "model_id": "b3dcccac635f4551836ff045b9414440"
      }
     },
     "metadata": {},
     "output_type": "display_data"
    },
    {
     "data": {
      "application/vnd.jupyter.widget-view+json": {
       "model_id": "7bbb69cdf2594544bba3594fc6c26700"
      }
     },
     "metadata": {},
     "output_type": "display_data"
    },
    {
     "data": {
      "application/vnd.jupyter.widget-view+json": {
       "model_id": "a7ee2b65d9b640249fc4cb2fef85dae1"
      }
     },
     "metadata": {},
     "output_type": "display_data"
    },
    {
     "data": {
      "application/vnd.jupyter.widget-view+json": {
       "model_id": "1e45248025f9423a8402866811ba272b"
      }
     },
     "metadata": {},
     "output_type": "display_data"
    },
    {
     "data": {
      "application/vnd.jupyter.widget-view+json": {
       "model_id": "14f895cea78f4576bbda39dd380065a5"
      }
     },
     "metadata": {},
     "output_type": "display_data"
    },
    {
     "data": {
      "application/vnd.jupyter.widget-view+json": {
       "model_id": "aa117fa08c2f4ecbbbba0848f8273efe"
      }
     },
     "metadata": {},
     "output_type": "display_data"
    },
    {
     "data": {
      "application/vnd.jupyter.widget-view+json": {
       "model_id": "8afc312cfd474c2d8945334a65949894"
      }
     },
     "metadata": {},
     "output_type": "display_data"
    },
    {
     "data": {
      "application/vnd.jupyter.widget-view+json": {
       "model_id": "1abb657fcb0e404f8260b778aac140c7"
      }
     },
     "metadata": {},
     "output_type": "display_data"
    },
    {
     "data": {
      "application/vnd.jupyter.widget-view+json": {
       "model_id": "fe4f1c4b4b2a493f8b200f4d7b20398c"
      }
     },
     "metadata": {},
     "output_type": "display_data"
    },
    {
     "data": {
      "application/vnd.jupyter.widget-view+json": {
       "model_id": "9f3e5ce29f5c48c890b203009a68996b"
      }
     },
     "metadata": {},
     "output_type": "display_data"
    },
    {
     "data": {
      "application/vnd.jupyter.widget-view+json": {
       "model_id": "24462984ae60445db1884fb8e4416d7d"
      }
     },
     "metadata": {},
     "output_type": "display_data"
    },
    {
     "data": {
      "application/vnd.jupyter.widget-view+json": {
       "model_id": "30116208697449d09c0e48f798923eab"
      }
     },
     "metadata": {},
     "output_type": "display_data"
    },
    {
     "data": {
      "application/vnd.jupyter.widget-view+json": {
       "model_id": "0901abea4197405cbd10baf5e17358b3"
      }
     },
     "metadata": {},
     "output_type": "display_data"
    },
    {
     "data": {
      "application/vnd.jupyter.widget-view+json": {
       "model_id": "ec9e673810734334a8fb1e9915510076"
      }
     },
     "metadata": {},
     "output_type": "display_data"
    },
    {
     "data": {
      "application/vnd.jupyter.widget-view+json": {
       "model_id": "72f6598e21cb4c948c7d44f482616bee"
      }
     },
     "metadata": {},
     "output_type": "display_data"
    },
    {
     "data": {
      "application/vnd.jupyter.widget-view+json": {
       "model_id": "49e5079827b14cbf83567aee0770d32f"
      }
     },
     "metadata": {},
     "output_type": "display_data"
    },
    {
     "data": {
      "application/vnd.jupyter.widget-view+json": {
       "model_id": "65de2fe7b36a4774955141d9f3c1aee0"
      }
     },
     "metadata": {},
     "output_type": "display_data"
    },
    {
     "data": {
      "application/vnd.jupyter.widget-view+json": {
       "model_id": "1ad85c8ba40a4a6ab1c980e180fa9f12"
      }
     },
     "metadata": {},
     "output_type": "display_data"
    },
    {
     "data": {
      "application/vnd.jupyter.widget-view+json": {
       "model_id": "6a300780e0a14e82a453da9d9709ee61"
      }
     },
     "metadata": {},
     "output_type": "display_data"
    },
    {
     "data": {
      "application/vnd.jupyter.widget-view+json": {
       "model_id": "8f0f4d4c22924b0b989e4791c49bfb37"
      }
     },
     "metadata": {},
     "output_type": "display_data"
    },
    {
     "data": {
      "application/vnd.jupyter.widget-view+json": {
       "model_id": "6c28f11638d6470f879f22709a640fc4"
      }
     },
     "metadata": {},
     "output_type": "display_data"
    },
    {
     "data": {
      "application/vnd.jupyter.widget-view+json": {
       "model_id": "74474922725147a0bedac0cbe1124cd4"
      }
     },
     "metadata": {},
     "output_type": "display_data"
    },
    {
     "data": {
      "application/vnd.jupyter.widget-view+json": {
       "model_id": "7cfdd94f181d497fa07a979072a26618"
      }
     },
     "metadata": {},
     "output_type": "display_data"
    },
    {
     "data": {
      "application/vnd.jupyter.widget-view+json": {
       "model_id": "dee918c434304083982263d63aaaff39"
      }
     },
     "metadata": {},
     "output_type": "display_data"
    },
    {
     "data": {
      "application/vnd.jupyter.widget-view+json": {
       "model_id": "9983b5b066cc4c5c95e809eb81c4ced8"
      }
     },
     "metadata": {},
     "output_type": "display_data"
    },
    {
     "data": {
      "application/vnd.jupyter.widget-view+json": {
       "model_id": "848b1a99b4624abfaf8b10fbf42683b6"
      }
     },
     "metadata": {},
     "output_type": "display_data"
    },
    {
     "data": {
      "application/vnd.jupyter.widget-view+json": {
       "model_id": "9f43f948e7d947ff81539dd4b34fbce4"
      }
     },
     "metadata": {},
     "output_type": "display_data"
    },
    {
     "data": {
      "application/vnd.jupyter.widget-view+json": {
       "model_id": "af7fc8c2f095440489c80213dfd4c440"
      }
     },
     "metadata": {},
     "output_type": "display_data"
    },
    {
     "data": {
      "application/vnd.jupyter.widget-view+json": {
       "model_id": "6197a7b8516f4c189cb7016c4b9a9ae4"
      }
     },
     "metadata": {},
     "output_type": "display_data"
    },
    {
     "data": {
      "application/vnd.jupyter.widget-view+json": {
       "model_id": "16c2936eee454bbbb82a79cbb10f1b4d"
      }
     },
     "metadata": {},
     "output_type": "display_data"
    },
    {
     "data": {
      "application/vnd.jupyter.widget-view+json": {
       "model_id": "2c62dc81707a45c6b835356a2c3c6358"
      }
     },
     "metadata": {},
     "output_type": "display_data"
    },
    {
     "data": {
      "application/vnd.jupyter.widget-view+json": {
       "model_id": "99088633898e4135b098546d4b61b3e1"
      }
     },
     "metadata": {},
     "output_type": "display_data"
    },
    {
     "data": {
      "application/vnd.jupyter.widget-view+json": {
       "model_id": "e785ade9ec554d2c84840fbdfa1912a8"
      }
     },
     "metadata": {},
     "output_type": "display_data"
    },
    {
     "data": {
      "application/vnd.jupyter.widget-view+json": {
       "model_id": "8c637edb84434ca2bae4d06252e0fd10"
      }
     },
     "metadata": {},
     "output_type": "display_data"
    },
    {
     "data": {
      "application/vnd.jupyter.widget-view+json": {
       "model_id": "6abf544515cd4f3682d68fe37ae7a22a"
      }
     },
     "metadata": {},
     "output_type": "display_data"
    },
    {
     "data": {
      "application/vnd.jupyter.widget-view+json": {
       "model_id": "c643b05cf19a41b0b4728d3f0babf808"
      }
     },
     "metadata": {},
     "output_type": "display_data"
    },
    {
     "data": {
      "application/vnd.jupyter.widget-view+json": {
       "model_id": "b5712f0b668342af882ca4e6246391c7"
      }
     },
     "metadata": {},
     "output_type": "display_data"
    },
    {
     "data": {
      "application/vnd.jupyter.widget-view+json": {
       "model_id": "c1a201fe52b7451887cdb05e441d313e"
      }
     },
     "metadata": {},
     "output_type": "display_data"
    },
    {
     "data": {
      "application/vnd.jupyter.widget-view+json": {
       "model_id": "1f51f8618ce9450ea81f80d5c4a571f3"
      }
     },
     "metadata": {},
     "output_type": "display_data"
    },
    {
     "data": {
      "application/vnd.jupyter.widget-view+json": {
       "model_id": "46270022972441fe89b3859938c769a6"
      }
     },
     "metadata": {},
     "output_type": "display_data"
    },
    {
     "data": {
      "application/vnd.jupyter.widget-view+json": {
       "model_id": "b3dce5aec5f44c60a3a012f37aac009d"
      }
     },
     "metadata": {},
     "output_type": "display_data"
    },
    {
     "data": {
      "application/vnd.jupyter.widget-view+json": {
       "model_id": "edc0a3e4e3e1466787cbd86bb6204298"
      }
     },
     "metadata": {},
     "output_type": "display_data"
    },
    {
     "data": {
      "application/vnd.jupyter.widget-view+json": {
       "model_id": "adf54e747eea4d7188b2fb68295def22"
      }
     },
     "metadata": {},
     "output_type": "display_data"
    },
    {
     "data": {
      "application/vnd.jupyter.widget-view+json": {
       "model_id": "bf576b44289c4c729da3a8558b2dc74f"
      }
     },
     "metadata": {},
     "output_type": "display_data"
    },
    {
     "data": {
      "application/vnd.jupyter.widget-view+json": {
       "model_id": "00b1b7cf90be4f2488cdd346a676934c"
      }
     },
     "metadata": {},
     "output_type": "display_data"
    },
    {
     "data": {
      "application/vnd.jupyter.widget-view+json": {
       "model_id": "dac9932120f14956817436a2de0822f6"
      }
     },
     "metadata": {},
     "output_type": "display_data"
    },
    {
     "data": {
      "application/vnd.jupyter.widget-view+json": {
       "model_id": "f1f2c1a0f8a643689c520bd89672b549"
      }
     },
     "metadata": {},
     "output_type": "display_data"
    },
    {
     "data": {
      "application/vnd.jupyter.widget-view+json": {
       "model_id": "a9c977ada6374fc88c7c328f1b80d6dc"
      }
     },
     "metadata": {},
     "output_type": "display_data"
    },
    {
     "data": {
      "application/vnd.jupyter.widget-view+json": {
       "model_id": "5cfeeb46341545a5a814147c11ee4cd6"
      }
     },
     "metadata": {},
     "output_type": "display_data"
    },
    {
     "data": {
      "application/vnd.jupyter.widget-view+json": {
       "model_id": "00671ff2fb0a4ed4b9754781968ffa14"
      }
     },
     "metadata": {},
     "output_type": "display_data"
    },
    {
     "data": {
      "application/vnd.jupyter.widget-view+json": {
       "model_id": "5d0a4cce881f45a6ba7efb0828fdba37"
      }
     },
     "metadata": {},
     "output_type": "display_data"
    },
    {
     "data": {
      "application/vnd.jupyter.widget-view+json": {
       "model_id": "9cf4836afacf4627b72633277cfd1634"
      }
     },
     "metadata": {},
     "output_type": "display_data"
    },
    {
     "data": {
      "application/vnd.jupyter.widget-view+json": {
       "model_id": "3aa3a561637d435097f2cc7ea0402156"
      }
     },
     "metadata": {},
     "output_type": "display_data"
    },
    {
     "data": {
      "application/vnd.jupyter.widget-view+json": {
       "model_id": "2329bcae27d448f596106f64623f10d5"
      }
     },
     "metadata": {},
     "output_type": "display_data"
    },
    {
     "data": {
      "application/vnd.jupyter.widget-view+json": {
       "model_id": "ae421a6b89ac4c92902a6d13808407ce"
      }
     },
     "metadata": {},
     "output_type": "display_data"
    },
    {
     "data": {
      "application/vnd.jupyter.widget-view+json": {
       "model_id": "0d195b3a770742cab985cf2faadf2dd3"
      }
     },
     "metadata": {},
     "output_type": "display_data"
    },
    {
     "data": {
      "application/vnd.jupyter.widget-view+json": {
       "model_id": "5d36d5a37a884fc18d36ada8c17d4b94"
      }
     },
     "metadata": {},
     "output_type": "display_data"
    },
    {
     "data": {
      "application/vnd.jupyter.widget-view+json": {
       "model_id": "372bfdb2afe3482e8147f3d537fde8bc"
      }
     },
     "metadata": {},
     "output_type": "display_data"
    },
    {
     "data": {
      "application/vnd.jupyter.widget-view+json": {
       "model_id": "40b27c15eb6542658fdb698f969fb9dd"
      }
     },
     "metadata": {},
     "output_type": "display_data"
    },
    {
     "data": {
      "application/vnd.jupyter.widget-view+json": {
       "model_id": "3752972cb3594df283dcfdbf91e78667"
      }
     },
     "metadata": {},
     "output_type": "display_data"
    },
    {
     "data": {
      "application/vnd.jupyter.widget-view+json": {
       "model_id": "de8bd16b60b042ed891f95d92618268c"
      }
     },
     "metadata": {},
     "output_type": "display_data"
    },
    {
     "data": {
      "application/vnd.jupyter.widget-view+json": {
       "model_id": "f9f58c3c50ca4e09a5d23a743eb9f981"
      }
     },
     "metadata": {},
     "output_type": "display_data"
    },
    {
     "data": {
      "application/vnd.jupyter.widget-view+json": {
       "model_id": "9dbec796f17a46b7b91e0a379b0f0ed1"
      }
     },
     "metadata": {},
     "output_type": "display_data"
    },
    {
     "data": {
      "application/vnd.jupyter.widget-view+json": {
       "model_id": "18dbfde77bb34a6d9e16fc7e98f7e54e"
      }
     },
     "metadata": {},
     "output_type": "display_data"
    },
    {
     "data": {
      "application/vnd.jupyter.widget-view+json": {
       "model_id": "3e7a29fc785f45d18dd3740f9fda3ade"
      }
     },
     "metadata": {},
     "output_type": "display_data"
    },
    {
     "data": {
      "application/vnd.jupyter.widget-view+json": {
       "model_id": "aaa475d3e5ad49818cc81aee02168ab8"
      }
     },
     "metadata": {},
     "output_type": "display_data"
    },
    {
     "data": {
      "application/vnd.jupyter.widget-view+json": {
       "model_id": "187ca325581249bd8fd69a87bac1c1e8"
      }
     },
     "metadata": {},
     "output_type": "display_data"
    },
    {
     "data": {
      "application/vnd.jupyter.widget-view+json": {
       "model_id": "c5338c81a7fe4809ad7e059497be76bd"
      }
     },
     "metadata": {},
     "output_type": "display_data"
    },
    {
     "data": {
      "application/vnd.jupyter.widget-view+json": {
       "model_id": "0870a1cffd2d4cc9bcb769a1ca3b7745"
      }
     },
     "metadata": {},
     "output_type": "display_data"
    },
    {
     "data": {
      "application/vnd.jupyter.widget-view+json": {
       "model_id": "b633099f297e43f98a241459f6bdbfb0"
      }
     },
     "metadata": {},
     "output_type": "display_data"
    },
    {
     "data": {
      "application/vnd.jupyter.widget-view+json": {
       "model_id": "654e4eda607a4f84909c7b5793d0012f"
      }
     },
     "metadata": {},
     "output_type": "display_data"
    },
    {
     "data": {
      "application/vnd.jupyter.widget-view+json": {
       "model_id": "69c8bf5654184b04be6a9f4b0291e1bc"
      }
     },
     "metadata": {},
     "output_type": "display_data"
    },
    {
     "data": {
      "application/vnd.jupyter.widget-view+json": {
       "model_id": "d4fc90ad92ef4d1c9d00401309667c43"
      }
     },
     "metadata": {},
     "output_type": "display_data"
    },
    {
     "data": {
      "application/vnd.jupyter.widget-view+json": {
       "model_id": "3c1d98bd0c874f78b99d1177e04750ef"
      }
     },
     "metadata": {},
     "output_type": "display_data"
    },
    {
     "data": {
      "application/vnd.jupyter.widget-view+json": {
       "model_id": "9569a51190be455ea0c0017f902e74b9"
      }
     },
     "metadata": {},
     "output_type": "display_data"
    },
    {
     "data": {
      "application/vnd.jupyter.widget-view+json": {
       "model_id": "1e36c02a2b12402ba5c7f630baf8fe74"
      }
     },
     "metadata": {},
     "output_type": "display_data"
    },
    {
     "data": {
      "application/vnd.jupyter.widget-view+json": {
       "model_id": "9cd5ff9e1388461fa486c0afd901a7e7"
      }
     },
     "metadata": {},
     "output_type": "display_data"
    },
    {
     "data": {
      "application/vnd.jupyter.widget-view+json": {
       "model_id": "40ab6d601ff54f2285d01c49af4a40da"
      }
     },
     "metadata": {},
     "output_type": "display_data"
    },
    {
     "data": {
      "application/vnd.jupyter.widget-view+json": {
       "model_id": "4c995fae7b024c368940fb23335b578f"
      }
     },
     "metadata": {},
     "output_type": "display_data"
    },
    {
     "data": {
      "application/vnd.jupyter.widget-view+json": {
       "model_id": "f10e05f2214641f3a9c85d4aee223bb3"
      }
     },
     "metadata": {},
     "output_type": "display_data"
    },
    {
     "data": {
      "application/vnd.jupyter.widget-view+json": {
       "model_id": "7633bb9d127e48aaa583670920b0180a"
      }
     },
     "metadata": {},
     "output_type": "display_data"
    },
    {
     "data": {
      "application/vnd.jupyter.widget-view+json": {
       "model_id": "4331fdd446014fa88534b0d6c59e6b28"
      }
     },
     "metadata": {},
     "output_type": "display_data"
    },
    {
     "data": {
      "application/vnd.jupyter.widget-view+json": {
       "model_id": "0dfd4b9275ae4c5f9e4831ccf2d11397"
      }
     },
     "metadata": {},
     "output_type": "display_data"
    },
    {
     "data": {
      "application/vnd.jupyter.widget-view+json": {
       "model_id": "1e1ce922a655439bbbe45de10f486f8f"
      }
     },
     "metadata": {},
     "output_type": "display_data"
    },
    {
     "data": {
      "application/vnd.jupyter.widget-view+json": {
       "model_id": "0dfcf91023b74326a848e76bc9fc942b"
      }
     },
     "metadata": {},
     "output_type": "display_data"
    },
    {
     "data": {
      "application/vnd.jupyter.widget-view+json": {
       "model_id": "f3c56d0efdd04cd4a34b4db4c907aefb"
      }
     },
     "metadata": {},
     "output_type": "display_data"
    },
    {
     "data": {
      "application/vnd.jupyter.widget-view+json": {
       "model_id": "32d743fc834d4cc7a9e9993c8aebab72"
      }
     },
     "metadata": {},
     "output_type": "display_data"
    },
    {
     "data": {
      "application/vnd.jupyter.widget-view+json": {
       "model_id": "97f86ee2960b4d2788ef219df8590210"
      }
     },
     "metadata": {},
     "output_type": "display_data"
    },
    {
     "data": {
      "application/vnd.jupyter.widget-view+json": {
       "model_id": "8c48ac1467524ef19a582e89399de3df"
      }
     },
     "metadata": {},
     "output_type": "display_data"
    },
    {
     "data": {
      "application/vnd.jupyter.widget-view+json": {
       "model_id": "8d56c3103c4044959b21c362a6a45f5b"
      }
     },
     "metadata": {},
     "output_type": "display_data"
    },
    {
     "data": {
      "application/vnd.jupyter.widget-view+json": {
       "model_id": "faefaf0168f24f38a555a424cb8e58c5"
      }
     },
     "metadata": {},
     "output_type": "display_data"
    },
    {
     "data": {
      "application/vnd.jupyter.widget-view+json": {
       "model_id": "73284e06b8a24badbd49349da40e3941"
      }
     },
     "metadata": {},
     "output_type": "display_data"
    },
    {
     "data": {
      "application/vnd.jupyter.widget-view+json": {
       "model_id": "2eb02d7ea80243959b70d0af22d6c5a6"
      }
     },
     "metadata": {},
     "output_type": "display_data"
    },
    {
     "data": {
      "application/vnd.jupyter.widget-view+json": {
       "model_id": "e8e827ee2a504482810573717c51abbf"
      }
     },
     "metadata": {},
     "output_type": "display_data"
    },
    {
     "data": {
      "application/vnd.jupyter.widget-view+json": {
       "model_id": "99054e698eb548e1a71a057c1b68e53c"
      }
     },
     "metadata": {},
     "output_type": "display_data"
    },
    {
     "data": {
      "application/vnd.jupyter.widget-view+json": {
       "model_id": "f9a767f39d6f4820b3eb4c493c82e46e"
      }
     },
     "metadata": {},
     "output_type": "display_data"
    },
    {
     "data": {
      "application/vnd.jupyter.widget-view+json": {
       "model_id": "0d654ca67ac64c959eafbb84745c267d"
      }
     },
     "metadata": {},
     "output_type": "display_data"
    },
    {
     "data": {
      "application/vnd.jupyter.widget-view+json": {
       "model_id": "f18ba35c156d4bbc9350f0760183a8e7"
      }
     },
     "metadata": {},
     "output_type": "display_data"
    },
    {
     "data": {
      "application/vnd.jupyter.widget-view+json": {
       "model_id": "4d01f24f14de4e6881ef75e13cebb6d5"
      }
     },
     "metadata": {},
     "output_type": "display_data"
    },
    {
     "data": {
      "application/vnd.jupyter.widget-view+json": {
       "model_id": "3ef1e00e99d44f628c51ca3c960a3109"
      }
     },
     "metadata": {},
     "output_type": "display_data"
    },
    {
     "data": {
      "application/vnd.jupyter.widget-view+json": {
       "model_id": "756b2a47e1a64cab90bfb828bcc6e542"
      }
     },
     "metadata": {},
     "output_type": "display_data"
    },
    {
     "data": {
      "application/vnd.jupyter.widget-view+json": {
       "model_id": "b7aacf1f964d4da182795d21eb577619"
      }
     },
     "metadata": {},
     "output_type": "display_data"
    },
    {
     "data": {
      "application/vnd.jupyter.widget-view+json": {
       "model_id": "2c27a328c1c54d3fb0fd3e34b26e708f"
      }
     },
     "metadata": {},
     "output_type": "display_data"
    },
    {
     "data": {
      "application/vnd.jupyter.widget-view+json": {
       "model_id": "b362873a6263429db1599d6fd4db89d6"
      }
     },
     "metadata": {},
     "output_type": "display_data"
    },
    {
     "data": {
      "application/vnd.jupyter.widget-view+json": {
       "model_id": "2564aabfacc34ed1b235ad478049a130"
      }
     },
     "metadata": {},
     "output_type": "display_data"
    },
    {
     "data": {
      "application/vnd.jupyter.widget-view+json": {
       "model_id": "7bb1af16fef547e99b584cd9df1b07fd"
      }
     },
     "metadata": {},
     "output_type": "display_data"
    },
    {
     "data": {
      "application/vnd.jupyter.widget-view+json": {
       "model_id": "fa5be6ac99594b3195b908918d9302aa"
      }
     },
     "metadata": {},
     "output_type": "display_data"
    },
    {
     "data": {
      "application/vnd.jupyter.widget-view+json": {
       "model_id": "de3265439c1948608935d2f61a9b8a61"
      }
     },
     "metadata": {},
     "output_type": "display_data"
    },
    {
     "data": {
      "application/vnd.jupyter.widget-view+json": {
       "model_id": "405db42962744f1dbf561536b0fda880"
      }
     },
     "metadata": {},
     "output_type": "display_data"
    },
    {
     "data": {
      "application/vnd.jupyter.widget-view+json": {
       "model_id": "254ae5e7a5ee46c3a0dc42ba167cb172"
      }
     },
     "metadata": {},
     "output_type": "display_data"
    },
    {
     "data": {
      "application/vnd.jupyter.widget-view+json": {
       "model_id": "f5630ff9bf744121bdc5354b39afd6d8"
      }
     },
     "metadata": {},
     "output_type": "display_data"
    },
    {
     "data": {
      "application/vnd.jupyter.widget-view+json": {
       "model_id": "2fb94a01979d484194608e3821983299"
      }
     },
     "metadata": {},
     "output_type": "display_data"
    },
    {
     "data": {
      "application/vnd.jupyter.widget-view+json": {
       "model_id": "530bbb5a58264e04a12b7d87eb4be8c1"
      }
     },
     "metadata": {},
     "output_type": "display_data"
    },
    {
     "data": {
      "application/vnd.jupyter.widget-view+json": {
       "model_id": "7904ee63574a4b57ae4faf2610634301"
      }
     },
     "metadata": {},
     "output_type": "display_data"
    },
    {
     "data": {
      "application/vnd.jupyter.widget-view+json": {
       "model_id": "d3549f03b20341c083f25037dc53c08e"
      }
     },
     "metadata": {},
     "output_type": "display_data"
    },
    {
     "data": {
      "application/vnd.jupyter.widget-view+json": {
       "model_id": "070eda08831c45d88d626ec5e46e7364"
      }
     },
     "metadata": {},
     "output_type": "display_data"
    },
    {
     "data": {
      "application/vnd.jupyter.widget-view+json": {
       "model_id": "cc3f5bc5ab764953a12f5ba67deed829"
      }
     },
     "metadata": {},
     "output_type": "display_data"
    },
    {
     "data": {
      "application/vnd.jupyter.widget-view+json": {
       "model_id": "1209ec459f684c719899f6fe1b959ce2"
      }
     },
     "metadata": {},
     "output_type": "display_data"
    },
    {
     "data": {
      "application/vnd.jupyter.widget-view+json": {
       "model_id": "23c7fe30f2eb4ed28d37829c2440ee98"
      }
     },
     "metadata": {},
     "output_type": "display_data"
    },
    {
     "data": {
      "application/vnd.jupyter.widget-view+json": {
       "model_id": "445ce19fa61642d1badb1eec6dc94ba9"
      }
     },
     "metadata": {},
     "output_type": "display_data"
    },
    {
     "data": {
      "application/vnd.jupyter.widget-view+json": {
       "model_id": "a39b9bcd004e4a0585322457f4672ecd"
      }
     },
     "metadata": {},
     "output_type": "display_data"
    },
    {
     "data": {
      "application/vnd.jupyter.widget-view+json": {
       "model_id": "dfdb230794964bffb2a4ca0ccd2416a1"
      }
     },
     "metadata": {},
     "output_type": "display_data"
    },
    {
     "data": {
      "application/vnd.jupyter.widget-view+json": {
       "model_id": "50d005f0a66d4332be6512bb2c945105"
      }
     },
     "metadata": {},
     "output_type": "display_data"
    },
    {
     "data": {
      "application/vnd.jupyter.widget-view+json": {
       "model_id": "12ae021b21a24b3fb1447703ec94fb5c"
      }
     },
     "metadata": {},
     "output_type": "display_data"
    },
    {
     "data": {
      "application/vnd.jupyter.widget-view+json": {
       "model_id": "51126b677fab473cbe131562ecc689d5"
      }
     },
     "metadata": {},
     "output_type": "display_data"
    },
    {
     "data": {
      "application/vnd.jupyter.widget-view+json": {
       "model_id": "6bbc801c163e4acfabe6a9280732dd5f"
      }
     },
     "metadata": {},
     "output_type": "display_data"
    },
    {
     "data": {
      "application/vnd.jupyter.widget-view+json": {
       "model_id": "5e70aea0e700462c925889b0ab165122"
      }
     },
     "metadata": {},
     "output_type": "display_data"
    },
    {
     "data": {
      "application/vnd.jupyter.widget-view+json": {
       "model_id": "8897754bfc0547d4bf90c7095b80ae70"
      }
     },
     "metadata": {},
     "output_type": "display_data"
    },
    {
     "data": {
      "application/vnd.jupyter.widget-view+json": {
       "model_id": "0cd42a8adbbd43b296ecb3b698082baa"
      }
     },
     "metadata": {},
     "output_type": "display_data"
    },
    {
     "data": {
      "application/vnd.jupyter.widget-view+json": {
       "model_id": "5b97b42fb2484d5e85a781a0090a245d"
      }
     },
     "metadata": {},
     "output_type": "display_data"
    },
    {
     "data": {
      "application/vnd.jupyter.widget-view+json": {
       "model_id": "5ea6582da56941cdac38aafea2a6f9dd"
      }
     },
     "metadata": {},
     "output_type": "display_data"
    },
    {
     "data": {
      "application/vnd.jupyter.widget-view+json": {
       "model_id": "32ac1a40f5354c7fa301a3a5cc0b64a1"
      }
     },
     "metadata": {},
     "output_type": "display_data"
    },
    {
     "data": {
      "application/vnd.jupyter.widget-view+json": {
       "model_id": "6a40aba14f4e4c1d8e0244ca00032359"
      }
     },
     "metadata": {},
     "output_type": "display_data"
    },
    {
     "data": {
      "application/vnd.jupyter.widget-view+json": {
       "model_id": "a8b12acd21c741c78f282f19de4b337c"
      }
     },
     "metadata": {},
     "output_type": "display_data"
    },
    {
     "data": {
      "application/vnd.jupyter.widget-view+json": {
       "model_id": "4680659b876b4687b3122cfca45c0f41"
      }
     },
     "metadata": {},
     "output_type": "display_data"
    },
    {
     "data": {
      "application/vnd.jupyter.widget-view+json": {
       "model_id": "b62faf4205bc44f4929aca4329da67ca"
      }
     },
     "metadata": {},
     "output_type": "display_data"
    },
    {
     "data": {
      "application/vnd.jupyter.widget-view+json": {
       "model_id": "b2f84f1274e347ec924ec8bdbb4ac9a7"
      }
     },
     "metadata": {},
     "output_type": "display_data"
    },
    {
     "data": {
      "application/vnd.jupyter.widget-view+json": {
       "model_id": "9a2cecf4f5cf42dea6f27819948fd49d"
      }
     },
     "metadata": {},
     "output_type": "display_data"
    },
    {
     "data": {
      "application/vnd.jupyter.widget-view+json": {
       "model_id": "231f2746c2df48debde5056e54477196"
      }
     },
     "metadata": {},
     "output_type": "display_data"
    },
    {
     "data": {
      "application/vnd.jupyter.widget-view+json": {
       "model_id": "3a6b7d8c0a4646c19d588cacdda80763"
      }
     },
     "metadata": {},
     "output_type": "display_data"
    },
    {
     "data": {
      "application/vnd.jupyter.widget-view+json": {
       "model_id": "7bcc93884cff436d855f960f5a297e17"
      }
     },
     "metadata": {},
     "output_type": "display_data"
    },
    {
     "data": {
      "application/vnd.jupyter.widget-view+json": {
       "model_id": "acd0227ff8714ba09bbf46f80f0581e8"
      }
     },
     "metadata": {},
     "output_type": "display_data"
    },
    {
     "data": {
      "application/vnd.jupyter.widget-view+json": {
       "model_id": "5d502169591e437b8c44f02bec2175e6"
      }
     },
     "metadata": {},
     "output_type": "display_data"
    },
    {
     "data": {
      "application/vnd.jupyter.widget-view+json": {
       "model_id": "2acd036c764240f2af925d6e26aefb3b"
      }
     },
     "metadata": {},
     "output_type": "display_data"
    },
    {
     "data": {
      "application/vnd.jupyter.widget-view+json": {
       "model_id": "926e93f1736546238deb6055be8770ef"
      }
     },
     "metadata": {},
     "output_type": "display_data"
    },
    {
     "data": {
      "application/vnd.jupyter.widget-view+json": {
       "model_id": "911e004ec3b74f9597a2942417a6ac92"
      }
     },
     "metadata": {},
     "output_type": "display_data"
    },
    {
     "data": {
      "application/vnd.jupyter.widget-view+json": {
       "model_id": "546e67b5e29c4b95bc481954a2bf5eb7"
      }
     },
     "metadata": {},
     "output_type": "display_data"
    },
    {
     "data": {
      "application/vnd.jupyter.widget-view+json": {
       "model_id": "1311706406174e9f9b5c2415a4c7b5d2"
      }
     },
     "metadata": {},
     "output_type": "display_data"
    },
    {
     "data": {
      "application/vnd.jupyter.widget-view+json": {
       "model_id": "8fe35568d0824e67a7c366997e5c0a17"
      }
     },
     "metadata": {},
     "output_type": "display_data"
    },
    {
     "data": {
      "application/vnd.jupyter.widget-view+json": {
       "model_id": "53be55f8923f4318bcd724cec23b0315"
      }
     },
     "metadata": {},
     "output_type": "display_data"
    },
    {
     "data": {
      "application/vnd.jupyter.widget-view+json": {
       "model_id": "db58df7ab7784d818600bf402b48de17"
      }
     },
     "metadata": {},
     "output_type": "display_data"
    },
    {
     "data": {
      "application/vnd.jupyter.widget-view+json": {
       "model_id": "d4a66070a7534c4d8baaa276726ece65"
      }
     },
     "metadata": {},
     "output_type": "display_data"
    },
    {
     "data": {
      "application/vnd.jupyter.widget-view+json": {
       "model_id": "5bbab89efd1d41ac9897dbd35891029c"
      }
     },
     "metadata": {},
     "output_type": "display_data"
    },
    {
     "data": {
      "application/vnd.jupyter.widget-view+json": {
       "model_id": "5ba367318e9d4396967e46c5c9ab6461"
      }
     },
     "metadata": {},
     "output_type": "display_data"
    },
    {
     "data": {
      "application/vnd.jupyter.widget-view+json": {
       "model_id": "1793e2fd43a84eba9efea570c127ef5b"
      }
     },
     "metadata": {},
     "output_type": "display_data"
    },
    {
     "data": {
      "application/vnd.jupyter.widget-view+json": {
       "model_id": "a5b7f42720744c81ad0d7003ef61eca0"
      }
     },
     "metadata": {},
     "output_type": "display_data"
    },
    {
     "data": {
      "application/vnd.jupyter.widget-view+json": {
       "model_id": "73ebde32ba2049e6918487e7a176fb19"
      }
     },
     "metadata": {},
     "output_type": "display_data"
    },
    {
     "data": {
      "application/vnd.jupyter.widget-view+json": {
       "model_id": "2b46a158d1b543d98f22fc6dd3fef1d9"
      }
     },
     "metadata": {},
     "output_type": "display_data"
    },
    {
     "data": {
      "application/vnd.jupyter.widget-view+json": {
       "model_id": "b2b446d58eb8463aa3f1c1fc592353e4"
      }
     },
     "metadata": {},
     "output_type": "display_data"
    },
    {
     "data": {
      "application/vnd.jupyter.widget-view+json": {
       "model_id": "8ef0b233b2bc4691a0aa5eacdc8b471e"
      }
     },
     "metadata": {},
     "output_type": "display_data"
    },
    {
     "data": {
      "application/vnd.jupyter.widget-view+json": {
       "model_id": "a09b5116d1564bd4b5af319e77e7e7b3"
      }
     },
     "metadata": {},
     "output_type": "display_data"
    },
    {
     "data": {
      "application/vnd.jupyter.widget-view+json": {
       "model_id": "c128c82e521f4e23b4630d0bee4737e2"
      }
     },
     "metadata": {},
     "output_type": "display_data"
    },
    {
     "data": {
      "application/vnd.jupyter.widget-view+json": {
       "model_id": "b0d8f206ff814c4180b4eb16d16175bd"
      }
     },
     "metadata": {},
     "output_type": "display_data"
    },
    {
     "data": {
      "application/vnd.jupyter.widget-view+json": {
       "model_id": "eb13d8a0c5c3473e91cb22741af05f44"
      }
     },
     "metadata": {},
     "output_type": "display_data"
    },
    {
     "data": {
      "application/vnd.jupyter.widget-view+json": {
       "model_id": "c42dc3c8a8f547648858e8dc1a4cd90e"
      }
     },
     "metadata": {},
     "output_type": "display_data"
    },
    {
     "data": {
      "application/vnd.jupyter.widget-view+json": {
       "model_id": "020c020e3db2401e8dbb177d775f97fc"
      }
     },
     "metadata": {},
     "output_type": "display_data"
    },
    {
     "data": {
      "application/vnd.jupyter.widget-view+json": {
       "model_id": "ab86189261ec403285cd50dfc5e8b34c"
      }
     },
     "metadata": {},
     "output_type": "display_data"
    },
    {
     "data": {
      "application/vnd.jupyter.widget-view+json": {
       "model_id": "b9813ebcca3249a6acecad419c758897"
      }
     },
     "metadata": {},
     "output_type": "display_data"
    },
    {
     "data": {
      "application/vnd.jupyter.widget-view+json": {
       "model_id": "84abb38d6c964acdaa0cddc965ef818d"
      }
     },
     "metadata": {},
     "output_type": "display_data"
    },
    {
     "data": {
      "application/vnd.jupyter.widget-view+json": {
       "model_id": "447d35f14a0e4d9dac7fe24525b05e47"
      }
     },
     "metadata": {},
     "output_type": "display_data"
    },
    {
     "data": {
      "application/vnd.jupyter.widget-view+json": {
       "model_id": "9e0e605237fc46c2911217b345b4ffaa"
      }
     },
     "metadata": {},
     "output_type": "display_data"
    },
    {
     "data": {
      "application/vnd.jupyter.widget-view+json": {
       "model_id": "016d9093007a468fb40d08f3f8922841"
      }
     },
     "metadata": {},
     "output_type": "display_data"
    },
    {
     "data": {
      "application/vnd.jupyter.widget-view+json": {
       "model_id": "3ee3aacc6d534217a22f4d5c5e610b1f"
      }
     },
     "metadata": {},
     "output_type": "display_data"
    },
    {
     "data": {
      "application/vnd.jupyter.widget-view+json": {
       "model_id": "21b6547d4d754b39a0cfc1fbaca7257c"
      }
     },
     "metadata": {},
     "output_type": "display_data"
    },
    {
     "data": {
      "application/vnd.jupyter.widget-view+json": {
       "model_id": "69052c43f1ff4646b7edfb1ab86bf112"
      }
     },
     "metadata": {},
     "output_type": "display_data"
    },
    {
     "data": {
      "application/vnd.jupyter.widget-view+json": {
       "model_id": "e702d814cdc84ab781cfb37079d920b6"
      }
     },
     "metadata": {},
     "output_type": "display_data"
    },
    {
     "data": {
      "application/vnd.jupyter.widget-view+json": {
       "model_id": "fa2de9099cbd48b295e78acf39bf579d"
      }
     },
     "metadata": {},
     "output_type": "display_data"
    },
    {
     "data": {
      "application/vnd.jupyter.widget-view+json": {
       "model_id": "ffd6cd3c4b4741c3b377c7e583830e53"
      }
     },
     "metadata": {},
     "output_type": "display_data"
    },
    {
     "data": {
      "application/vnd.jupyter.widget-view+json": {
       "model_id": "8c2597c77594408b9bccea12a022ef32"
      }
     },
     "metadata": {},
     "output_type": "display_data"
    },
    {
     "data": {
      "application/vnd.jupyter.widget-view+json": {
       "model_id": "b9fba83a161d4e2390501ee0940ffb6a"
      }
     },
     "metadata": {},
     "output_type": "display_data"
    },
    {
     "data": {
      "application/vnd.jupyter.widget-view+json": {
       "model_id": "b32946f69ceb4af7a31e3cc49072b9ff"
      }
     },
     "metadata": {},
     "output_type": "display_data"
    },
    {
     "data": {
      "application/vnd.jupyter.widget-view+json": {
       "model_id": "df19e52afee34ce183008cebfd3f1f11"
      }
     },
     "metadata": {},
     "output_type": "display_data"
    },
    {
     "data": {
      "application/vnd.jupyter.widget-view+json": {
       "model_id": "0edde63668c64861b51ee288c9830005"
      }
     },
     "metadata": {},
     "output_type": "display_data"
    },
    {
     "data": {
      "application/vnd.jupyter.widget-view+json": {
       "model_id": "3cf28096625e461f80a11c91944459b0"
      }
     },
     "metadata": {},
     "output_type": "display_data"
    },
    {
     "data": {
      "application/vnd.jupyter.widget-view+json": {
       "model_id": "eee2cc2f914f488cb1ac8c4693ad7954"
      }
     },
     "metadata": {},
     "output_type": "display_data"
    },
    {
     "data": {
      "application/vnd.jupyter.widget-view+json": {
       "model_id": "854f917996714182becf45a6cc48bb77"
      }
     },
     "metadata": {},
     "output_type": "display_data"
    },
    {
     "data": {
      "application/vnd.jupyter.widget-view+json": {
       "model_id": "21192f4fcff245ec99589d283279a503"
      }
     },
     "metadata": {},
     "output_type": "display_data"
    },
    {
     "data": {
      "application/vnd.jupyter.widget-view+json": {
       "model_id": "7d73e97c61bf48df8890928f4e39868e"
      }
     },
     "metadata": {},
     "output_type": "display_data"
    },
    {
     "data": {
      "application/vnd.jupyter.widget-view+json": {
       "model_id": "d57fd4bf1bab4060964b69c4f27f1299"
      }
     },
     "metadata": {},
     "output_type": "display_data"
    },
    {
     "data": {
      "application/vnd.jupyter.widget-view+json": {
       "model_id": "5bf759a47cbb4c399acb3a0b5853fb8e"
      }
     },
     "metadata": {},
     "output_type": "display_data"
    },
    {
     "data": {
      "application/vnd.jupyter.widget-view+json": {
       "model_id": "a85f0ead5a784a828867da2ff62c1b2b"
      }
     },
     "metadata": {},
     "output_type": "display_data"
    },
    {
     "data": {
      "application/vnd.jupyter.widget-view+json": {
       "model_id": "eddbfa89d99e4aebac03108b8e956057"
      }
     },
     "metadata": {},
     "output_type": "display_data"
    },
    {
     "data": {
      "application/vnd.jupyter.widget-view+json": {
       "model_id": "738eb10e6a7a4a8a965fbcd65b993376"
      }
     },
     "metadata": {},
     "output_type": "display_data"
    },
    {
     "data": {
      "application/vnd.jupyter.widget-view+json": {
       "model_id": "e3563f59116544d0b3114fb86b749f90"
      }
     },
     "metadata": {},
     "output_type": "display_data"
    },
    {
     "data": {
      "application/vnd.jupyter.widget-view+json": {
       "model_id": "b58d85cefe1c4811b18ec634b2b75daf"
      }
     },
     "metadata": {},
     "output_type": "display_data"
    },
    {
     "name": "stdout",
     "output_type": "stream",
     "text": [
      "\n"
     ]
    }
   ],
   "source": [
    "# Train the model, iterating on the data in batches of 32 samples\n",
    "tqdm = TQDMNotebookCallback()\n",
    "\n",
    "tbCallBack = keras.callbacks.TensorBoard(\n",
    "    log_dir='/Users/jaco/code/tabby/summary/{}'.format(tag), \n",
    "    histogram_freq=0,\n",
    "    write_graph=True,\n",
    "    write_images=True)\n",
    "\n",
    "model.fit(\n",
    "    X.as_matrix(), \n",
    "    Y.as_matrix(),\n",
    "    validation_split=0.2,\n",
    "    shuffle=True,\n",
    "    epochs=epochs,\n",
    "    batch_size=32,\n",
    "    verbose=0,\n",
    "    callbacks=[tqdm, tbCallBack])\n",
    "\n",
    "# creates a HDF5 file 'my_model.h5'\n",
    "model.save(file_name)"
   ]
  },
  {
   "cell_type": "code",
   "execution_count": null,
   "metadata": {
    "collapsed": true
   },
   "outputs": [],
   "source": []
  }
 ],
 "metadata": {
  "kernelspec": {
   "display_name": "Python 3",
   "language": "python",
   "name": "python3"
  },
  "language_info": {
   "codemirror_mode": {
    "name": "ipython",
    "version": 3
   },
   "file_extension": ".py",
   "mimetype": "text/x-python",
   "name": "python",
   "nbconvert_exporter": "python",
   "pygments_lexer": "ipython3",
   "version": "3.6.1"
  }
 },
 "nbformat": 4,
 "nbformat_minor": 2
}
