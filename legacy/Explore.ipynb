{
 "cells": [
  {
   "cell_type": "code",
   "execution_count": 1,
   "metadata": {
    "collapsed": true
   },
   "outputs": [],
   "source": [
    "from sqlalchemy import create_engine\n",
    "from operator import itemgetter\n",
    "import json\n",
    "import math\n",
    "import time\n",
    "\n",
    "import pandas as pd\n",
    "import numpy as np\n",
    "#import seaborn as sns\n",
    "from sklearn import linear_model\n",
    "from skopt import gp_minimize\n",
    "import scipy as sp\n",
    "import matplotlib.pyplot as plt\n",
    "%matplotlib inline\n",
    "\n",
    "np.set_printoptions(precision=6, suppress=True)"
   ]
  },
  {
   "cell_type": "code",
   "execution_count": 2,
   "metadata": {
    "collapsed": true
   },
   "outputs": [],
   "source": [
    "race_type = 'G'"
   ]
  },
  {
   "cell_type": "code",
   "execution_count": 3,
   "metadata": {},
   "outputs": [
    {
     "name": "stdout",
     "output_type": "stream",
     "text": [
      "38673 races loaded!\n"
     ]
    }
   ],
   "source": [
    "engine = create_engine('sqlite:///data/race.db')\n",
    "conn = engine.connect()\n",
    "conn\n",
    "dfoo = pd.read_sql_table('race', conn)\n",
    "print('{} races loaded!'.format(len(dfoo)))"
   ]
  },
  {
   "cell_type": "code",
   "execution_count": 4,
   "metadata": {},
   "outputs": [
    {
     "name": "stdout",
     "output_type": "stream",
     "text": [
      "16501 G races!\n"
     ]
    }
   ],
   "source": [
    "dfo = dfoo.loc[dfoo['race_type'].isin([race_type])]\n",
    "print('{} {} races!'.format(len(dfo), race_type))"
   ]
  },
  {
   "cell_type": "code",
   "execution_count": 5,
   "metadata": {},
   "outputs": [
    {
     "name": "stdout",
     "output_type": "stream",
     "text": [
      "11107 of 8 runners races!\n"
     ]
    }
   ],
   "source": [
    "dfo = dfo[dfo['num_runners'] == 8]\n",
    "print('{} of 8 runners races!'.format(len(dfo)))"
   ]
  },
  {
   "cell_type": "code",
   "execution_count": 6,
   "metadata": {},
   "outputs": [
    {
     "data": {
      "text/html": [
       "<div>\n",
       "<style>\n",
       "    .dataframe thead tr:only-child th {\n",
       "        text-align: right;\n",
       "    }\n",
       "\n",
       "    .dataframe thead th {\n",
       "        text-align: left;\n",
       "    }\n",
       "\n",
       "    .dataframe tbody tr th {\n",
       "        vertical-align: top;\n",
       "    }\n",
       "</style>\n",
       "<table border=\"1\" class=\"dataframe\">\n",
       "  <thead>\n",
       "    <tr style=\"text-align: right;\">\n",
       "      <th></th>\n",
       "      <th>id</th>\n",
       "      <th>meeting_name</th>\n",
       "      <th>location</th>\n",
       "      <th>venue_mnemonic</th>\n",
       "      <th>race_type</th>\n",
       "      <th>meeting_date</th>\n",
       "      <th>race_number</th>\n",
       "      <th>race_name</th>\n",
       "      <th>race_start_time</th>\n",
       "      <th>race_status</th>\n",
       "      <th>race_distance</th>\n",
       "      <th>results_data</th>\n",
       "      <th>num_runners</th>\n",
       "      <th>runners_data</th>\n",
       "      <th>quinella</th>\n",
       "      <th>exacta</th>\n",
       "      <th>trifecta</th>\n",
       "      <th>first_four</th>\n",
       "      <th>results</th>\n",
       "      <th>runners</th>\n",
       "    </tr>\n",
       "  </thead>\n",
       "  <tbody>\n",
       "    <tr>\n",
       "      <th>11</th>\n",
       "      <td>16</td>\n",
       "      <td>CANBERRA</td>\n",
       "      <td>ACT</td>\n",
       "      <td>C</td>\n",
       "      <td>G</td>\n",
       "      <td>2017-10-01</td>\n",
       "      <td>1</td>\n",
       "      <td>THE CLIMATE DOCTOR MAIDEN</td>\n",
       "      <td>2017-10-01 05:57:00</td>\n",
       "      <td>Paying</td>\n",
       "      <td>310</td>\n",
       "      <td>[[1], [7], [2], [3]]</td>\n",
       "      <td>8.0</td>\n",
       "      <td>[{\"runnerName\": \"SUTTON LEWIS\", \"runnerNumber\"...</td>\n",
       "      <td>2.1</td>\n",
       "      <td>3.6</td>\n",
       "      <td>15.3</td>\n",
       "      <td>72.0</td>\n",
       "      <td>[[1], [7], [2], [3]]</td>\n",
       "      <td>[{'runnerName': 'SUTTON LEWIS', 'runnerNumber'...</td>\n",
       "    </tr>\n",
       "    <tr>\n",
       "      <th>13</th>\n",
       "      <td>20</td>\n",
       "      <td>CANBERRA</td>\n",
       "      <td>ACT</td>\n",
       "      <td>C</td>\n",
       "      <td>G</td>\n",
       "      <td>2017-10-01</td>\n",
       "      <td>5</td>\n",
       "      <td>TAB WE LOVE A BET STAKES</td>\n",
       "      <td>2017-10-01 07:18:00</td>\n",
       "      <td>Paying</td>\n",
       "      <td>530</td>\n",
       "      <td>[[4], [6], [8], [5]]</td>\n",
       "      <td>8.0</td>\n",
       "      <td>[{\"runnerName\": \"UNCHANGEABLE\", \"runnerNumber\"...</td>\n",
       "      <td>24.5</td>\n",
       "      <td>21.4</td>\n",
       "      <td>75.0</td>\n",
       "      <td>479.3</td>\n",
       "      <td>[[4], [6], [8], [5]]</td>\n",
       "      <td>[{'runnerName': 'UNCHANGEABLE', 'runnerNumber'...</td>\n",
       "    </tr>\n",
       "    <tr>\n",
       "      <th>14</th>\n",
       "      <td>23</td>\n",
       "      <td>CANBERRA</td>\n",
       "      <td>ACT</td>\n",
       "      <td>C</td>\n",
       "      <td>G</td>\n",
       "      <td>2017-10-01</td>\n",
       "      <td>8</td>\n",
       "      <td>CANBERRA TO BULLI 1-3 HEAT2</td>\n",
       "      <td>2017-10-01 08:29:00</td>\n",
       "      <td>Paying</td>\n",
       "      <td>440</td>\n",
       "      <td>[[3], [1], [4], [8]]</td>\n",
       "      <td>8.0</td>\n",
       "      <td>[{\"runnerName\": \"CLEO PARKER\", \"runnerNumber\":...</td>\n",
       "      <td>2.3</td>\n",
       "      <td>2.9</td>\n",
       "      <td>9.2</td>\n",
       "      <td>48.2</td>\n",
       "      <td>[[3], [1], [4], [8]]</td>\n",
       "      <td>[{'runnerName': 'CLEO PARKER', 'runnerNumber':...</td>\n",
       "    </tr>\n",
       "  </tbody>\n",
       "</table>\n",
       "</div>"
      ],
      "text/plain": [
       "    id meeting_name location venue_mnemonic race_type meeting_date  \\\n",
       "11  16     CANBERRA      ACT              C         G   2017-10-01   \n",
       "13  20     CANBERRA      ACT              C         G   2017-10-01   \n",
       "14  23     CANBERRA      ACT              C         G   2017-10-01   \n",
       "\n",
       "    race_number                    race_name     race_start_time race_status  \\\n",
       "11            1    THE CLIMATE DOCTOR MAIDEN 2017-10-01 05:57:00      Paying   \n",
       "13            5     TAB WE LOVE A BET STAKES 2017-10-01 07:18:00      Paying   \n",
       "14            8  CANBERRA TO BULLI 1-3 HEAT2 2017-10-01 08:29:00      Paying   \n",
       "\n",
       "    race_distance          results_data  num_runners  \\\n",
       "11            310  [[1], [7], [2], [3]]          8.0   \n",
       "13            530  [[4], [6], [8], [5]]          8.0   \n",
       "14            440  [[3], [1], [4], [8]]          8.0   \n",
       "\n",
       "                                         runners_data  quinella  exacta  \\\n",
       "11  [{\"runnerName\": \"SUTTON LEWIS\", \"runnerNumber\"...       2.1     3.6   \n",
       "13  [{\"runnerName\": \"UNCHANGEABLE\", \"runnerNumber\"...      24.5    21.4   \n",
       "14  [{\"runnerName\": \"CLEO PARKER\", \"runnerNumber\":...       2.3     2.9   \n",
       "\n",
       "    trifecta  first_four               results  \\\n",
       "11      15.3        72.0  [[1], [7], [2], [3]]   \n",
       "13      75.0       479.3  [[4], [6], [8], [5]]   \n",
       "14       9.2        48.2  [[3], [1], [4], [8]]   \n",
       "\n",
       "                                              runners  \n",
       "11  [{'runnerName': 'SUTTON LEWIS', 'runnerNumber'...  \n",
       "13  [{'runnerName': 'UNCHANGEABLE', 'runnerNumber'...  \n",
       "14  [{'runnerName': 'CLEO PARKER', 'runnerNumber':...  "
      ]
     },
     "execution_count": 6,
     "metadata": {},
     "output_type": "execute_result"
    }
   ],
   "source": [
    "dfo['results'] = dfo['results_data'].map(json.loads)\n",
    "dfo['runners'] = dfo['runners_data'].map(json.loads)\n",
    "dfo.head(3)"
   ]
  },
  {
   "cell_type": "code",
   "execution_count": 7,
   "metadata": {},
   "outputs": [
    {
     "name": "stdout",
     "output_type": "stream",
     "text": [
      "88856\n"
     ]
    }
   ],
   "source": [
    "data = []\n",
    "for _, race in dfo.iterrows():\n",
    "#     print(race)\n",
    "#     print(race['runners'])\n",
    "    runners = [r for r in race['runners'] if r['has_odds']]\n",
    "    runners = sorted(runners, key=itemgetter('win_odds'))\n",
    "    win_scales = [r['win_scaled'] for r in runners]\n",
    "    poly = np.polyfit(win_scales, np.arange(8) + 1, 2)\n",
    "    for i, r in enumerate(runners):\n",
    "#         print('#{} {} {}'.format(r['runnerNumber'], r['finishingPosition'], r['win_odds']))\n",
    "        success = r['finishingPosition'] == 1\n",
    "        div = r['win_odds'] if success else 0\n",
    "        item = {\n",
    "            'pos': i + 1,\n",
    "            'odds': r['win_odds'],\n",
    "            'perc': r['win_perc'],\n",
    "            'success': int(success),\n",
    "            'profit': -1 + div,\n",
    "            'poly_a': poly[0],\n",
    "            'poly_b': poly[1],\n",
    "            'poly_c': poly[2],\n",
    "        }\n",
    "        data.append(item)\n",
    "print(len(data))"
   ]
  },
  {
   "cell_type": "code",
   "execution_count": 12,
   "metadata": {},
   "outputs": [
    {
     "data": {
      "text/html": [
       "<div>\n",
       "<style>\n",
       "    .dataframe thead tr:only-child th {\n",
       "        text-align: right;\n",
       "    }\n",
       "\n",
       "    .dataframe thead th {\n",
       "        text-align: left;\n",
       "    }\n",
       "\n",
       "    .dataframe tbody tr th {\n",
       "        vertical-align: top;\n",
       "    }\n",
       "</style>\n",
       "<table border=\"1\" class=\"dataframe\">\n",
       "  <thead>\n",
       "    <tr style=\"text-align: right;\">\n",
       "      <th></th>\n",
       "      <th>odds</th>\n",
       "      <th>perc</th>\n",
       "      <th>poly_a</th>\n",
       "      <th>poly_b</th>\n",
       "      <th>poly_c</th>\n",
       "      <th>pos</th>\n",
       "      <th>profit</th>\n",
       "      <th>success</th>\n",
       "    </tr>\n",
       "  </thead>\n",
       "  <tbody>\n",
       "    <tr>\n",
       "      <th>88851</th>\n",
       "      <td>7.8</td>\n",
       "      <td>0.128205</td>\n",
       "      <td>104.881984</td>\n",
       "      <td>-61.900904</td>\n",
       "      <td>10.072535</td>\n",
       "      <td>4</td>\n",
       "      <td>-1.0</td>\n",
       "      <td>0</td>\n",
       "    </tr>\n",
       "    <tr>\n",
       "      <th>88852</th>\n",
       "      <td>8.6</td>\n",
       "      <td>0.116279</td>\n",
       "      <td>104.881984</td>\n",
       "      <td>-61.900904</td>\n",
       "      <td>10.072535</td>\n",
       "      <td>5</td>\n",
       "      <td>-1.0</td>\n",
       "      <td>0</td>\n",
       "    </tr>\n",
       "    <tr>\n",
       "      <th>88853</th>\n",
       "      <td>10.4</td>\n",
       "      <td>0.096154</td>\n",
       "      <td>104.881984</td>\n",
       "      <td>-61.900904</td>\n",
       "      <td>10.072535</td>\n",
       "      <td>6</td>\n",
       "      <td>-1.0</td>\n",
       "      <td>0</td>\n",
       "    </tr>\n",
       "    <tr>\n",
       "      <th>88854</th>\n",
       "      <td>12.1</td>\n",
       "      <td>0.082645</td>\n",
       "      <td>104.881984</td>\n",
       "      <td>-61.900904</td>\n",
       "      <td>10.072535</td>\n",
       "      <td>7</td>\n",
       "      <td>-1.0</td>\n",
       "      <td>0</td>\n",
       "    </tr>\n",
       "    <tr>\n",
       "      <th>88855</th>\n",
       "      <td>28.8</td>\n",
       "      <td>0.034722</td>\n",
       "      <td>104.881984</td>\n",
       "      <td>-61.900904</td>\n",
       "      <td>10.072535</td>\n",
       "      <td>8</td>\n",
       "      <td>-1.0</td>\n",
       "      <td>0</td>\n",
       "    </tr>\n",
       "  </tbody>\n",
       "</table>\n",
       "</div>"
      ],
      "text/plain": [
       "       odds      perc      poly_a     poly_b     poly_c  pos  profit  success\n",
       "88851   7.8  0.128205  104.881984 -61.900904  10.072535    4    -1.0        0\n",
       "88852   8.6  0.116279  104.881984 -61.900904  10.072535    5    -1.0        0\n",
       "88853  10.4  0.096154  104.881984 -61.900904  10.072535    6    -1.0        0\n",
       "88854  12.1  0.082645  104.881984 -61.900904  10.072535    7    -1.0        0\n",
       "88855  28.8  0.034722  104.881984 -61.900904  10.072535    8    -1.0        0"
      ]
     },
     "execution_count": 12,
     "metadata": {},
     "output_type": "execute_result"
    }
   ],
   "source": [
    "df = pd.DataFrame(data)\n",
    "df.tail()"
   ]
  },
  {
   "cell_type": "code",
   "execution_count": 13,
   "metadata": {},
   "outputs": [],
   "source": [
    "# groups_pos = df.groupby(df['pos']).mean()\n",
    "# print(groups_pos)\n",
    "# groups_pos.plot(kind='bar', y='success', title='Avg win rate per pos')\n",
    "# groups_pos.plot(kind='bar', y='perc', title='Avg perc rate per pos')\n",
    "# groups_pos.plot(kind='bar', y='profit', title='Avg profit rate per pos')\n"
   ]
  },
  {
   "cell_type": "code",
   "execution_count": 14,
   "metadata": {},
   "outputs": [
    {
     "data": {
      "text/plain": [
       "<matplotlib.axes._subplots.AxesSubplot at 0x122f2afd0>"
      ]
     },
     "execution_count": 14,
     "metadata": {},
     "output_type": "execute_result"
    },
    {
     "data": {
      "image/png": "[encoded data removed]",
      "text/plain": [
       "<matplotlib.figure.Figure at 0x11f354ac8>"
      ]
     },
     "metadata": {},
     "output_type": "display_data"
    }
   ],
   "source": [
    "dfa = df[df['pos'] == 1]\n",
    "# groups = df.groupby(df['success']).mean()\n",
    "# groups.plot(kind='bar', y='poly_a', title='poly a')\n",
    "# groups.plot(kind='bar', y='poly_b', title='poly b')\n",
    "# groups.plot(kind='bar', y='poly_c', title='poly c')\n",
    "\n",
    "groups = df.groupby(df['poly_a'].apply(lambda x: round(x, 1))).mean()\n",
    "groups.plot(kind='bar', y='success', title='')\n"
   ]
  },
  {
   "cell_type": "code",
   "execution_count": null,
   "metadata": {
    "collapsed": true
   },
   "outputs": [],
   "source": []
  }
 ],
 "metadata": {
  "kernelspec": {
   "display_name": "Python 3",
   "language": "python",
   "name": "python3"
  },
  "language_info": {
   "codemirror_mode": {
    "name": "ipython",
    "version": 3
   },
   "file_extension": ".py",
   "mimetype": "text/x-python",
   "name": "python",
   "nbconvert_exporter": "python",
   "pygments_lexer": "ipython3",
   "version": "3.6.1"
  }
 },
 "nbformat": 4,
 "nbformat_minor": 2
}
