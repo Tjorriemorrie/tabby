{
 "cells": [
  {
   "cell_type": "code",
   "execution_count": 2,
   "metadata": {
    "collapsed": true
   },
   "outputs": [],
   "source": [
    "from sqlalchemy import create_engine\n",
    "from operator import itemgetter\n",
    "import json\n",
    "import math\n",
    "import time\n",
    "\n",
    "import pandas as pd\n",
    "import numpy as np\n",
    "#import seaborn as sns\n",
    "from sklearn import linear_model\n",
    "from skopt import gp_minimize\n",
    "import scipy as sp\n",
    "import matplotlib.pyplot as plt\n",
    "%matplotlib inline\n",
    "\n",
    "np.set_printoptions(precision=6, suppress=True)\n",
    "pd.options.mode.chained_assignment = None"
   ]
  },
  {
   "cell_type": "code",
   "execution_count": 3,
   "metadata": {
    "collapsed": true
   },
   "outputs": [],
   "source": [
    "category = 'R'\n",
    "# category = 'G'\n",
    "# category = 'H'\n",
    "\n",
    "bet_type = 'W'\n",
    "# bet_type = 'P'\n",
    "\n",
    "pred = '{}_pred'.format(bet_type)\n",
    "prob = '{}_prob'.format(bet_type)\n",
    "bet = '{}_bet'.format(bet_type)"
   ]
  },
  {
   "cell_type": "code",
   "execution_count": 4,
   "metadata": {},
   "outputs": [
    {
     "name": "stdout",
     "output_type": "stream",
     "text": [
      "41694 races loaded!\n"
     ]
    }
   ],
   "source": [
    "engine = create_engine('sqlite:///../../data/race.db')\n",
    "conn = engine.connect()\n",
    "\n",
    "dfoo = pd.read_sql_table('race', conn)\n",
    "print('{} races loaded!'.format(len(dfoo)))"
   ]
  },
  {
   "cell_type": "code",
   "execution_count": 5,
   "metadata": {},
   "outputs": [
    {
     "name": "stdout",
     "output_type": "stream",
     "text": [
      "13545 R races for W betting!\n"
     ]
    }
   ],
   "source": [
    "dfo = dfoo.loc[dfoo['race_type'].isin([category])]\n",
    "print('{} {} races for {} betting!'.format(len(dfo), category, bet_type))"
   ]
  },
  {
   "cell_type": "code",
   "execution_count": 6,
   "metadata": {},
   "outputs": [
    {
     "data": {
      "text/html": [
       "<div>\n",
       "<style>\n",
       "    .dataframe thead tr:only-child th {\n",
       "        text-align: right;\n",
       "    }\n",
       "\n",
       "    .dataframe thead th {\n",
       "        text-align: left;\n",
       "    }\n",
       "\n",
       "    .dataframe tbody tr th {\n",
       "        vertical-align: top;\n",
       "    }\n",
       "</style>\n",
       "<table border=\"1\" class=\"dataframe\">\n",
       "  <thead>\n",
       "    <tr style=\"text-align: right;\">\n",
       "      <th></th>\n",
       "      <th>id</th>\n",
       "      <th>meeting_name</th>\n",
       "      <th>location</th>\n",
       "      <th>venue_mnemonic</th>\n",
       "      <th>race_type</th>\n",
       "      <th>meeting_date</th>\n",
       "      <th>race_number</th>\n",
       "      <th>race_name</th>\n",
       "      <th>race_start_time</th>\n",
       "      <th>race_status</th>\n",
       "      <th>race_distance</th>\n",
       "      <th>results_data</th>\n",
       "      <th>num_runners</th>\n",
       "      <th>runners_data</th>\n",
       "      <th>quinella</th>\n",
       "      <th>exacta</th>\n",
       "      <th>trifecta</th>\n",
       "      <th>first_four</th>\n",
       "      <th>results</th>\n",
       "      <th>runners</th>\n",
       "    </tr>\n",
       "  </thead>\n",
       "  <tbody>\n",
       "    <tr>\n",
       "      <th>41676</th>\n",
       "      <td>54199</td>\n",
       "      <td>TRAMORE</td>\n",
       "      <td>IRL</td>\n",
       "      <td>I</td>\n",
       "      <td>R</td>\n",
       "      <td>2017-06-02</td>\n",
       "      <td>2</td>\n",
       "      <td>TRAMORE GOLF CLUB HANDICAP CHASE</td>\n",
       "      <td>2017-06-02 17:18:00</td>\n",
       "      <td>Paying</td>\n",
       "      <td>4400</td>\n",
       "      <td>[[5], [11], [6], []]</td>\n",
       "      <td>NaN</td>\n",
       "      <td>[{\"runnerName\": \"SHANKLYS DAWN\", \"runnerNumber...</td>\n",
       "      <td>62.7</td>\n",
       "      <td>0.0</td>\n",
       "      <td>0.0</td>\n",
       "      <td>NaN</td>\n",
       "      <td>[[5], [11], [6], []]</td>\n",
       "      <td>[{'runnerName': 'SHANKLYS DAWN', 'runnerNumber...</td>\n",
       "    </tr>\n",
       "    <tr>\n",
       "      <th>41678</th>\n",
       "      <td>54201</td>\n",
       "      <td>DONCASTER</td>\n",
       "      <td>GBR</td>\n",
       "      <td>K</td>\n",
       "      <td>R</td>\n",
       "      <td>2017-06-02</td>\n",
       "      <td>1</td>\n",
       "      <td>WELDRICKS PHARMACY HANDICAP</td>\n",
       "      <td>2017-06-02 17:00:00</td>\n",
       "      <td>Paying</td>\n",
       "      <td>2400</td>\n",
       "      <td>[[9], [8], [3], []]</td>\n",
       "      <td>NaN</td>\n",
       "      <td>[{\"runnerName\": \"AKAMANTO\", \"runnerNumber\": 1,...</td>\n",
       "      <td>19.8</td>\n",
       "      <td>0.0</td>\n",
       "      <td>0.0</td>\n",
       "      <td>NaN</td>\n",
       "      <td>[[9], [8], [3], []]</td>\n",
       "      <td>[{'runnerName': 'AKAMANTO', 'runnerNumber': 1,...</td>\n",
       "    </tr>\n",
       "    <tr>\n",
       "      <th>41680</th>\n",
       "      <td>54203</td>\n",
       "      <td>DONCASTER</td>\n",
       "      <td>GBR</td>\n",
       "      <td>K</td>\n",
       "      <td>R</td>\n",
       "      <td>2017-06-02</td>\n",
       "      <td>2</td>\n",
       "      <td>NAPOLEONS FILLIES' HANDICAP</td>\n",
       "      <td>2017-06-02 17:30:00</td>\n",
       "      <td>Paying</td>\n",
       "      <td>2000</td>\n",
       "      <td>[[2], [4], [3], []]</td>\n",
       "      <td>NaN</td>\n",
       "      <td>[{\"runnerName\": \"SERANGOON\", \"runnerNumber\": 7...</td>\n",
       "      <td>2.6</td>\n",
       "      <td>17.9</td>\n",
       "      <td>42.5</td>\n",
       "      <td>NaN</td>\n",
       "      <td>[[2], [4], [3], []]</td>\n",
       "      <td>[{'runnerName': 'SERANGOON', 'runnerNumber': 7...</td>\n",
       "    </tr>\n",
       "  </tbody>\n",
       "</table>\n",
       "</div>"
      ],
      "text/plain": [
       "          id meeting_name location venue_mnemonic race_type meeting_date  \\\n",
       "41676  54199      TRAMORE      IRL              I         R   2017-06-02   \n",
       "41678  54201    DONCASTER      GBR              K         R   2017-06-02   \n",
       "41680  54203    DONCASTER      GBR              K         R   2017-06-02   \n",
       "\n",
       "       race_number                         race_name     race_start_time  \\\n",
       "41676            2  TRAMORE GOLF CLUB HANDICAP CHASE 2017-06-02 17:18:00   \n",
       "41678            1       WELDRICKS PHARMACY HANDICAP 2017-06-02 17:00:00   \n",
       "41680            2       NAPOLEONS FILLIES' HANDICAP 2017-06-02 17:30:00   \n",
       "\n",
       "      race_status  race_distance          results_data  num_runners  \\\n",
       "41676      Paying           4400  [[5], [11], [6], []]          NaN   \n",
       "41678      Paying           2400   [[9], [8], [3], []]          NaN   \n",
       "41680      Paying           2000   [[2], [4], [3], []]          NaN   \n",
       "\n",
       "                                            runners_data  quinella  exacta  \\\n",
       "41676  [{\"runnerName\": \"SHANKLYS DAWN\", \"runnerNumber...      62.7     0.0   \n",
       "41678  [{\"runnerName\": \"AKAMANTO\", \"runnerNumber\": 1,...      19.8     0.0   \n",
       "41680  [{\"runnerName\": \"SERANGOON\", \"runnerNumber\": 7...       2.6    17.9   \n",
       "\n",
       "       trifecta  first_four               results  \\\n",
       "41676       0.0         NaN  [[5], [11], [6], []]   \n",
       "41678       0.0         NaN   [[9], [8], [3], []]   \n",
       "41680      42.5         NaN   [[2], [4], [3], []]   \n",
       "\n",
       "                                                 runners  \n",
       "41676  [{'runnerName': 'SHANKLYS DAWN', 'runnerNumber...  \n",
       "41678  [{'runnerName': 'AKAMANTO', 'runnerNumber': 1,...  \n",
       "41680  [{'runnerName': 'SERANGOON', 'runnerNumber': 7...  "
      ]
     },
     "execution_count": 6,
     "metadata": {},
     "output_type": "execute_result"
    }
   ],
   "source": [
    "dfo['results'] = dfo['results_data'].map(json.loads)\n",
    "dfo['runners'] = dfo['runners_data'].map(json.loads)\n",
    "dfo.tail(3)"
   ]
  },
  {
   "cell_type": "code",
   "execution_count": 7,
   "metadata": {
    "collapsed": true
   },
   "outputs": [],
   "source": [
    "# bet size\n",
    "balance = 1000\n",
    "bet_chunk = balance * 0.01"
   ]
  },
  {
   "cell_type": "code",
   "execution_count": 8,
   "metadata": {
    "collapsed": true
   },
   "outputs": [],
   "source": [
    "def process_strategy(dfp, strategy, x):\n",
    "    \"\"\"run strategy, must pass runners returned back into results (it might be modified)\"\"\"\n",
    "    book = []\n",
    "    for _, race in dfp.iterrows():\n",
    "#         print(race['num_runners'])\n",
    "        runners = race['runners']\n",
    "        \n",
    "        # drop scratched\n",
    "        runners = [r for r in runners if r['has_odds']]\n",
    "        if not runners:\n",
    "            continue\n",
    "\n",
    "        try:\n",
    "            runners, num_bets = strategy(runners, bet_chunk, bet_type, x)\n",
    "        except Exception as e:\n",
    "            print(runners)\n",
    "            raise\n",
    "            \n",
    "        if num_bets:\n",
    "            bet_results(book, runners, bet_chunk, num_bets)\n",
    "            \n",
    "    book_df = pd.DataFrame(book)\n",
    "    return book_df"
   ]
  },
  {
   "cell_type": "code",
   "execution_count": null,
   "metadata": {
    "collapsed": true
   },
   "outputs": [],
   "source": [
    "def bet_results(book, runners, bet_chunk, num_bets):\n",
    "    \"\"\"get results from bets\"\"\"\n",
    "    place_cutoff = 3 if len(runners) >= 8 else 2\n",
    "\n",
    "    win_diff = 0\n",
    "    max_diff = 0\n",
    "    prob2scales = []\n",
    "    prob0scales = []\n",
    "    # profit start with loss of bet made\n",
    "    outcome = {\n",
    "        'success': 0,\n",
    "        'profit': -bet_chunk,\n",
    "        'num_bets': num_bets,\n",
    "        'num_runners': len(runners),\n",
    "    }\n",
    "    for i, runner in enumerate(runners):\n",
    "        diff = abs(runner['win_scaled'] - runner[prob])\n",
    "        max_diff = max(max_diff, diff)\n",
    "        if int(runner['finishingPosition']) == 1:\n",
    "            win_diff = diff\n",
    "\n",
    "        if runner[bet]:\n",
    "            prob2scales.append(runner[prob] / runner['win_scaled'])\n",
    "            prob0scales.append(runner[prob] - runner['win_scaled'])\n",
    "\n",
    "            if bet_type == 'W':\n",
    "                if int(runner['finishingPosition']) == 1:\n",
    "                    outcome['success'] = 1\n",
    "                    # profit will be payout added against inital deduction\n",
    "                    # winnings is the bet made times the odds\n",
    "                    winnings = runner[bet] * runner['win_odds']\n",
    "                    outcome['profit'] += winnings\n",
    "                break\n",
    "            elif bet_type == 'P':\n",
    "                if 1 <= int(runner['finishingPosition']) <= place_cutoff:\n",
    "                    # success is how correct each placement was\n",
    "                    outcome['success'] += 1 / num_bets\n",
    "                    # profit will be return added and offset against inital deduction\n",
    "                    # winnings is the bet made times the odds\n",
    "                    winnings = runner[bet] * runner['place_odds']\n",
    "                    outcome['profit'] += winnings\n",
    "\n",
    "    outcome['max_diff'] = max_diff\n",
    "    outcome['win_diff'] = win_diff\n",
    "    outcome['prob2scale_avg'] = sum(prob2scales) / len(prob2scales)\n",
    "    outcome['prob2scale'] = min(prob2scales)\n",
    "    outcome['prob0scale'] = min(prob0scales)\n",
    "    outcome['bet_chunk'] = bet_chunk\n",
    "#     outcome['runners'] = runners\n",
    "    \n",
    "    # add odds curve\n",
    "#     probs = sorted([r['win_odds'] for r in runners if runner['win_odds']])\n",
    "#     p = np.polyfit(np.arange(len(probs)), probs, 2)\n",
    "#     outcome['pa'] = p[0]\n",
    "#     outcome['pb'] = p[1]\n",
    "#     outcome['pc'] = p[2]\n",
    "    \n",
    "    book.append(outcome)"
   ]
  },
  {
   "cell_type": "code",
   "execution_count": null,
   "metadata": {
    "collapsed": true
   },
   "outputs": [],
   "source": [
    "def bet_positive_dutch(runners, bet_chunk, bet_type, x):\n",
    "    \"\"\"dutch betting on probability\"\"\"\n",
    "    scaled = '{}_scaled'.format(bet_type)\n",
    "    pred = '{}_pred'.format(bet_type)\n",
    "    prob = '{}_prob'.format(bet_type)\n",
    "    bet = '{}_bet'.format(bet_type)\n",
    "\n",
    "    # sort runners from favourite to underdog\n",
    "    runners.sort(key=lambda r: r.get(pred, 0), reverse=True)\n",
    "    \n",
    "    # start betting on all and cut off worse runner till positive outcome\n",
    "    for num_bets in range(len(runners), 0, -1):\n",
    "\n",
    "        # reset bets\n",
    "        for runner in runners:\n",
    "            runner[bet] = 0\n",
    "\n",
    "        # recreate smaller pool\n",
    "        pool = runners[:num_bets]\n",
    "#         print('pool is {} from {} bets'.format(len(pool), num_bets))\n",
    "\n",
    "        # all prediction values\n",
    "        total_preds = sum([r[pred] for r in pool])\n",
    "#         print('total preds = {:.2f}'.format(total_preds))\n",
    "\n",
    "        # dutch for all in pool\n",
    "        profits = []\n",
    "        scales = []\n",
    "        for runner in pool:\n",
    "\n",
    "            # scale bet according to prediction\n",
    "            runner[bet] = bet_chunk * runner[pred] / total_preds\n",
    "            runner['{}_type'.format(bet)] = 'parimutuel'\n",
    "#             print('bet {:.2f}'.format(runner[bet]))\n",
    "\n",
    "            # need to check all as we scale to probs and not odds\n",
    "            if bet_type == 'W':\n",
    "                odds = runner['win_odds']\n",
    "                scaled = runner['win_scaled']\n",
    "            elif bet_type == 'P':\n",
    "                odds = runner['place_odds']\n",
    "                scaled = runner['place_scaled']\n",
    "#             print('odds {:.2f} and scaled {:.2f}'.format(odds, scaled))\n",
    "            profits.append(runner[bet] * odds - bet_chunk)\n",
    "            scales.append(runner[prob] / scaled)\n",
    "\n",
    "        ###################################################################################\n",
    "        # MIN PROFIT\n",
    "        ###################################################################################\n",
    "        min_profit_flag = False\n",
    "        min_profit = min(profits)\n",
    "        if min_profit > bet_chunk * x[0]:\n",
    "            min_profit_flag = True\n",
    "\n",
    "        ###################################################################################\n",
    "        # MIN SCALED\n",
    "        ###################################################################################\n",
    "        min_scaled_flag = False\n",
    "        min_scaled = min(scales)\n",
    "        if min_scaled >= x[1]:\n",
    "            min_scaled_flag = True\n",
    "\n",
    "#         print('min profit {} min scaled {}'.format(min_profit_flag, min_scaled_flag))\n",
    "        if min_profit_flag and min_scaled_flag:\n",
    "#             print('breaking!')\n",
    "            break\n",
    "    else:\n",
    "#         print('no profit determined')\n",
    "        return [], 0\n",
    "\n",
    "    # put bets from pool into runners\n",
    "    for p in pool:\n",
    "        for r in runners:\n",
    "            if r['runnerNumber'] == p['runnerNumber']:\n",
    "                r[bet] = p[bet]\n",
    "                r['{}_type'.format(bet)] = p['{}_type'.format(bet)]\n",
    "                break\n",
    "\n",
    "    return runners, num_bets"
   ]
  },
  {
   "cell_type": "code",
   "execution_count": null,
   "metadata": {},
   "outputs": [],
   "source": [
    "def f(x):\n",
    "    print('.', end='')\n",
    "    book_df = process_strategy(dfo, bet_positive_dutch, x)\n",
    "    #print(book_df)\n",
    "    if not len(book_df):\n",
    "        return 0\n",
    "    profit = book_df.profit.sum()\n",
    "#     if bet_type == 'W':\n",
    "#         participation = (len(book_df) ** 2) / (len(dfo) ** 2)\n",
    "#     else:\n",
    "#         participation = 1\n",
    "#     return profit * participation * -1\n",
    "    return profit / len(dfo) * -1\n",
    "    \n",
    "\n",
    "print('optimizing', end='')\n",
    "time_start = time.time()\n",
    "\n",
    "# x0 => min profit\n",
    "# x1 => min probs2scale\n",
    "# fail => avg profit\n",
    "\n",
    "x, *grid = sp.optimize.brute(f, np.s_[0:3:5j, 0.9:1.5:20j], full_output=True)\n",
    "\n",
    "print('')\n",
    "print('done: took {:.0f}s'.format((time.time() - time_start)))\n",
    "# print('x: {}'.format(x))\n",
    "# print('grid: {}'.format(grid))"
   ]
  },
  {
   "cell_type": "code",
   "execution_count": null,
   "metadata": {
    "scrolled": true
   },
   "outputs": [],
   "source": [
    "print('category: {}'.format(category))\n",
    "print('bet type: {}'.format(bet_type))\n",
    "print('x: {}'.format(x))\n",
    "df = process_strategy(dfo, bet_positive_dutch, x)\n",
    "print('${:.2f} profit per race'.format(df.profit.sum() / len(dfo)))\n",
    "print('{:.0f}% of races {} / {}'.format(len(df) / len(dfo) * 100, len(df), len(dfo)))"
   ]
  },
  {
   "cell_type": "code",
   "execution_count": null,
   "metadata": {},
   "outputs": [],
   "source": [
    "df['ones'] = np.ones(len(df))\n",
    "df['win_rate'] = df.success.cumsum() / df.ones.cumsum()\n",
    "win_title = '{:.0f}% win rate'.format(df.win_rate.iloc[-1] * 100)\n",
    "df.win_rate.plot(title=win_title, xlim=(100), ylim=(0, 1))"
   ]
  },
  {
   "cell_type": "code",
   "execution_count": null,
   "metadata": {},
   "outputs": [],
   "source": [
    "# ROI\n",
    "roi = df.profit.rolling(20).sum() / df.bet_chunk.rolling(20).sum()\n",
    "roi.plot(xlim=(100), ylim=(-1, 1), alpha=0.3)\n",
    "roi = df.profit.cumsum() / df.bet_chunk.cumsum()\n",
    "roi_title = '{:.1f}% ROI'.format(roi.iloc[-1] * 100)\n",
    "roi.plot(xlim=(100), ylim=(-2, 2), title=roi_title)"
   ]
  },
  {
   "cell_type": "code",
   "execution_count": null,
   "metadata": {},
   "outputs": [],
   "source": [
    "# profit per num bets \n",
    "df.num_bets.plot(kind='hist', title='# bets')\n",
    "groups = df.groupby('num_bets').mean()\n",
    "groups.plot(kind='bar', y='success', title='Win rate per #bets')\n",
    "groups.plot(kind='bar', y='profit', title='Profit per #bets')"
   ]
  },
  {
   "cell_type": "code",
   "execution_count": null,
   "metadata": {},
   "outputs": [],
   "source": [
    "# profit per num runners\n",
    "df.num_runners.hist()\n",
    "groups = df.groupby('num_runners').mean()\n",
    "groups.plot(kind='bar', y='success', title='Win rate per #runners')\n",
    "groups.plot(kind='bar', y='profit', title='Profit per #runners')"
   ]
  },
  {
   "cell_type": "code",
   "execution_count": null,
   "metadata": {},
   "outputs": [],
   "source": [
    "# max diff\n",
    "df.win_diff.plot(kind='hist', bins=200, alpha=0.6, ylim=(0, 100), xlim=(0, 0.3))\n",
    "df.max_diff.plot(kind='hist', bins=200, alpha=0.2, ylim=(0, 100), xlim=(0, 0.3))"
   ]
  },
  {
   "cell_type": "code",
   "execution_count": null,
   "metadata": {},
   "outputs": [],
   "source": [
    "# df.profit.plot(kind='hist', bins=50, xlim=(-5), ylim=(0, 140))\n",
    "df.profit.rolling(100).sum().plot(alpha=0.4)\n",
    "df.profit.cumsum().plot(alpha=0.8)"
   ]
  },
  {
   "cell_type": "code",
   "execution_count": null,
   "metadata": {},
   "outputs": [],
   "source": [
    "# bets/runners\n",
    "df['bets_vs_runners'] = df.num_bets / df.num_runners\n",
    "df['bets_vs_runners'].hist(bins=10)\n",
    "groups = df.groupby(df['bets_vs_runners'].apply(lambda x: round(x, 3))).sum()\n",
    "groups.plot(kind='line', y='profit', title='mean profit/bets_per_runners')"
   ]
  },
  {
   "cell_type": "code",
   "execution_count": null,
   "metadata": {
    "collapsed": true
   },
   "outputs": [],
   "source": [
    "# # pred vs scale\n",
    "# df['prob_vs_scale'] = df.pr / df.num_runners\n",
    "# df['bets_vs_runners'].hist(bins=10)\n",
    "# groups = df.groupby(df['bets_vs_runners'].apply(lambda x: round(x, 3))).sum()\n",
    "# groups.plot(kind='line', y='profit', title='mean profit/bets_per_runners')"
   ]
  },
  {
   "cell_type": "code",
   "execution_count": null,
   "metadata": {},
   "outputs": [],
   "source": [
    "df.prob2scale.plot(kind='hist', bins=500, title='min prob2scale', xlim=(1, 1.5))\n",
    "groups = df.groupby(df['prob2scale'].apply(lambda x: round(x, 1))).mean()\n",
    "groups.plot(kind='bar', y='profit', title='profit / prob2scale')\n",
    "groups.plot(kind='bar', y='win_rate', title='winrate / prob2scale')\n",
    "\n",
    "groups_sum = df.groupby(df['prob2scale'].apply(lambda x: round(x, 1))).sum()\n",
    "groups_sum.plot(kind='bar', y='profit', title='sum profit / prob2scale')"
   ]
  },
  {
   "cell_type": "code",
   "execution_count": null,
   "metadata": {},
   "outputs": [],
   "source": [
    "df.prob0scale.plot(kind='hist', bins=50, title='min prob0scale')\n",
    "groups = df.groupby(df['prob0scale'].apply(lambda x: round(x, 2))).mean()\n",
    "groups.plot(kind='bar', y='profit', title='profit / prob0scale')\n",
    "groups.plot(kind='bar', y='win_rate', title='winrate / prob0scale')\n",
    "\n",
    "groups_sum = df.groupby(df['prob0scale'].apply(lambda x: round(x, 2))).sum()\n",
    "groups_sum.plot(kind='bar', y='profit', title='total profit')"
   ]
  }
 ],
 "metadata": {
  "kernelspec": {
   "display_name": "Python 3",
   "language": "python",
   "name": "python3"
  },
  "language_info": {
   "codemirror_mode": {
    "name": "ipython",
    "version": 3
   },
   "file_extension": ".py",
   "mimetype": "text/x-python",
   "name": "python",
   "nbconvert_exporter": "python",
   "pygments_lexer": "ipython3",
   "version": "3.6.1"
  }
 },
 "nbformat": 4,
 "nbformat_minor": 2
}
