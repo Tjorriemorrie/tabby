{
 "cells": [
  {
   "cell_type": "code",
   "execution_count": 1,
   "metadata": {
    "collapsed": true
   },
   "outputs": [],
   "source": [
    "from sqlalchemy import create_engine\n",
    "from operator import itemgetter\n",
    "import json\n",
    "import math\n",
    "import time\n",
    "\n",
    "import pandas as pd\n",
    "import numpy as np\n",
    "#import seaborn as sns\n",
    "from sklearn import linear_model\n",
    "from skopt import gp_minimize\n",
    "import scipy as sp\n",
    "import matplotlib.pyplot as plt\n",
    "%matplotlib inline\n",
    "\n",
    "np.set_printoptions(precision=3, suppress=True)\n",
    "pd.options.mode.chained_assignment = None"
   ]
  },
  {
   "cell_type": "code",
   "execution_count": 2,
   "metadata": {
    "collapsed": true
   },
   "outputs": [],
   "source": [
    "race_type = 'R'\n",
    "# race_type = 'G'\n",
    "# race_type = 'H'\n",
    "\n",
    "# bet_type = 'W'\n",
    "bet_type = 'P'\n",
    "\n",
    "pred = '{}_pred'.format(bet_type)\n",
    "prob = '{}_prob'.format(bet_type)\n",
    "bet = '{}_bet'.format(bet_type)"
   ]
  },
  {
   "cell_type": "code",
   "execution_count": 3,
   "metadata": {},
   "outputs": [
    {
     "name": "stdout",
     "output_type": "stream",
     "text": [
      "61376 races loaded!\n"
     ]
    }
   ],
   "source": [
    "engine = create_engine('sqlite:///../../data/race.db')\n",
    "conn = engine.connect()\n",
    "\n",
    "dfoo = pd.read_sql_table('race', conn)\n",
    "dfoo = dfoo.sort_values('race_start_time')\n",
    "dfoo = dfoo[int(len(dfoo) * 0.15):]\n",
    "print('{} races loaded!'.format(len(dfoo)))"
   ]
  },
  {
   "cell_type": "code",
   "execution_count": 4,
   "metadata": {},
   "outputs": [
    {
     "name": "stdout",
     "output_type": "stream",
     "text": [
      "20205 R races for P betting!\n"
     ]
    }
   ],
   "source": [
    "dfo = dfoo.loc[dfoo['race_type'].isin([race_type])]\n",
    "print('{} {} races for {} betting!'.format(len(dfo), race_type, bet_type))"
   ]
  },
  {
   "cell_type": "code",
   "execution_count": 5,
   "metadata": {},
   "outputs": [
    {
     "name": "stdout",
     "output_type": "stream",
     "text": [
      "results and runners decoded\n"
     ]
    }
   ],
   "source": [
    "dfo['results'] = dfo['results_data'].map(json.loads)\n",
    "dfo['runners'] = dfo['runners_data'].map(json.loads)\n",
    "print('results and runners decoded')"
   ]
  },
  {
   "cell_type": "code",
   "execution_count": 6,
   "metadata": {
    "collapsed": true
   },
   "outputs": [],
   "source": [
    "# bet size\n",
    "balance = 1000\n",
    "profit_goal = balance * 0.01\n",
    "session_profit = 0\n",
    "bet_mul = 1"
   ]
  },
  {
   "cell_type": "code",
   "execution_count": null,
   "metadata": {
    "collapsed": true
   },
   "outputs": [],
   "source": [
    "def process_strategy(dfp, strategy, x):\n",
    "    \"\"\"run strategy, must pass runners returned back into results (it might be modified)\"\"\"\n",
    "    book = []\n",
    "    for _, race in dfp.iterrows():\n",
    "#         print(race['num_runners'])\n",
    "        runners = race['runners']\n",
    "        \n",
    "        # drop scratched\n",
    "        runners = [r for r in runners if r['has_odds']]\n",
    "        if not runners:\n",
    "            continue\n",
    "\n",
    "        # bet chunk should be the bet size * the multiplier\n",
    "        bet_chunk = bet_size * bet_mul\n",
    "        try:\n",
    "            runners, num_bets = strategy(runners, bet_chunk, race_type, bet_type, x)\n",
    "        except Exception as e:\n",
    "            print(runners)\n",
    "            raise\n",
    "            \n",
    "        if num_bets:\n",
    "            profit = bet_results(book, runners, bet_chunk, num_bets)\n",
    "            session_profit += profit\n",
    "            # success if we make any kind of money\n",
    "            if session_profit > 0:\n",
    "                session_profit = 0\n",
    "                bet_mul = 1\n",
    "            # \n",
    "            else:\n",
    "            \n",
    "    book_df = pd.DataFrame(book)\n",
    "    return book_df"
   ]
  },
  {
   "cell_type": "code",
   "execution_count": null,
   "metadata": {
    "collapsed": true
   },
   "outputs": [],
   "source": [
    "def bet_results(book, runners, bet_chunk, num_bets):\n",
    "    \"\"\"get results from bets\"\"\"\n",
    "    place_cutoff = 3 if len(runners) >= 8 else 2\n",
    "\n",
    "    win_diff = 0\n",
    "    max_diff = 0\n",
    "    odds_scales = []\n",
    "    rating_scales = []\n",
    "    # profit start with loss of bet made\n",
    "    outcome = {\n",
    "        'success': 0,\n",
    "        'profit': -bet_chunk,\n",
    "        'num_bets': num_bets,\n",
    "        'num_runners': len(runners),\n",
    "    }\n",
    "    for i, runner in enumerate(runners):\n",
    "        diff = abs(runner['fws'] - runner[prob])\n",
    "        max_diff = max(max_diff, diff)\n",
    "        if int(runner['finishingPosition']) == 1:\n",
    "            win_diff = diff\n",
    "\n",
    "        if runner[bet]:\n",
    "            odds_scales.append(runner['odds_scaled'])\n",
    "\n",
    "            if bet_type == 'W':\n",
    "                if int(runner['finishingPosition']) == 1:\n",
    "                    outcome['success'] = 1\n",
    "                    # profit will be payout added against inital deduction\n",
    "                    # winnings is the bet made times the odds\n",
    "                    winnings = runner[bet] * runner['win_odds']\n",
    "                    outcome['profit'] += winnings\n",
    "                break\n",
    "            elif bet_type == 'P':\n",
    "                if 1 <= int(runner['finishingPosition']) <= place_cutoff:\n",
    "                    # success is how correct each placement was\n",
    "                    outcome['success'] += 1 / num_bets\n",
    "                    # profit will be return added and offset against inital deduction\n",
    "                    # winnings is the bet made times the odds\n",
    "                    winnings = runner[bet] * runner['place_odds']\n",
    "                    outcome['profit'] += winnings\n",
    "\n",
    "    outcome['max_diff'] = max_diff\n",
    "    outcome['win_diff'] = win_diff\n",
    "    outcome['odds_scales'] = min(odds_scales)\n",
    "    outcome['bet_chunk'] = bet_chunk\n",
    "\n",
    "    book.append(outcome)\n",
    "    return outcome['profit']"
   ]
  },
  {
   "cell_type": "code",
   "execution_count": null,
   "metadata": {
    "collapsed": true
   },
   "outputs": [],
   "source": [
    "def bet_positive_dutch(runners, bet_chunk, race_type, bet_type, x=None):\n",
    "    \"\"\"dutch betting on probability\"\"\"\n",
    "    scaled = '{}_scaled'.format(bet_type)\n",
    "    prob = '{}_prob'.format(bet_type)\n",
    "    bet = '{}_bet'.format(bet_type)\n",
    "\n",
    "    if bet_type == 'W':\n",
    "        key_odds = 'win_odds'\n",
    "        key_scaled = 'fws'\n",
    "    else:\n",
    "        key_odds = 'place_odds'\n",
    "        key_scaled = 'fps'\n",
    "\n",
    "    # sort runners from favourite to underdog\n",
    "    runners.sort(key=lambda r: r.get(prob, 0), reverse=True)\n",
    "    \n",
    "    # start betting on all and cut off worse runner till positive outcome\n",
    "    for num_bets in range(len(runners), -1, -1):\n",
    "\n",
    "        # reset bets\n",
    "        for runner in runners:\n",
    "            runner[bet] = 0\n",
    "\n",
    "        # recreate smaller pool\n",
    "        pool = runners[:num_bets]\n",
    "        assert len(pool) == num_bets\n",
    "        if not pool:\n",
    "            continue\n",
    "\n",
    "        # all prediction values\n",
    "        total_probs = sum([r[prob] for r in pool])\n",
    "        if not total_probs:\n",
    "            continue\n",
    "\n",
    "        # dutch for all in pool\n",
    "        for runner in pool:\n",
    "\n",
    "            # scale bet according to prediction\n",
    "            runner[bet] = round(bet_chunk * runner[prob] / total_probs, 1)\n",
    "            runner['{}_type'.format(bet)] = 'parimutuel'\n",
    "#             print('bet {:.2f}'.format(runner[bet]))\n",
    "\n",
    "            # need to check all as we scale to probs and not odds\n",
    "            odds = runner[key_odds]\n",
    "            odds_scaled = runner[key_scaled]\n",
    "            runner['payout'] = runner[bet] * odds\n",
    "            runner['odds_scaled'] = runner[prob] / odds_scaled\n",
    "\n",
    "        total_bets = sum(p[bet] for p in pool)\n",
    "        profits = [p['payout'] - total_bets for p in pool]\n",
    "        odds_scaled = [r['odds_scaled'] for r in runners]\n",
    "\n",
    "        ###################################################################################\n",
    "        # MIN PROFIT\n",
    "        ###################################################################################\n",
    "        min_profit_flag = False\n",
    "        if min(profits) / bet_chunk >= x[0]:\n",
    "            min_profit_flag = True\n",
    "\n",
    "        ###################################################################################\n",
    "        # SCALED\n",
    "        ###################################################################################\n",
    "        scaled_flag = False\n",
    "        if min(odds_scaled) >= x[1]:\n",
    "            scaled_flag = True\n",
    "\n",
    "        if min_profit_flag and scaled_flag:\n",
    "#             print('breaking!')\n",
    "            break\n",
    "    else:\n",
    "        assert all(r[bet] == 0 for r in runners)\n",
    "        assert num_bets == 0\n",
    "        return runners, num_bets\n",
    "\n",
    "    # put bets from pool into runners\n",
    "    for p in pool:\n",
    "        for r in runners:\n",
    "            if r['runnerNumber'] == p['runnerNumber']:\n",
    "                r[bet] = p[bet]\n",
    "                r['{}_type'.format(bet)] = p['{}_type'.format(bet)]\n",
    "                break\n",
    "\n",
    "    return runners, num_bets"
   ]
  },
  {
   "cell_type": "code",
   "execution_count": null,
   "metadata": {},
   "outputs": [],
   "source": [
    "def f(x):\n",
    "    print('.', end='')\n",
    "    df_sample = dfo.sample(frac=0.3)\n",
    "#     print('sample size of {}/{}'.format(len(df_sample), len(dfo)))\n",
    "    book_df = process_strategy(df_sample, bet_positive_dutch, x)\n",
    "#     print(book_df)\n",
    "    if not len(book_df):\n",
    "        return 0\n",
    "    profit = book_df.profit.sum()\n",
    "    return profit / len(dfo) * -1\n",
    "\n",
    "\n",
    "print('optimizing', end='')\n",
    "time_start = time.time()\n",
    "x_slice = np.s_[0:5:10j, 0.5:1.5:10j]\n",
    "x, *grid = sp.optimize.brute(f, ranges=x_slice, full_output=True)\n",
    "\n",
    "# SKopt\n",
    "# res = gp_minimize(f, [(0., 5.), (0., 5.)], n_calls=200, n_jobs=8)\n",
    "# print(res)\n",
    "\n",
    "print('done: took {:.0f}s'.format((time.time() - time_start)), flush=True)\n",
    "# print('x: {}'.format(x))\n",
    "# print('grid: {}'.format(grid))"
   ]
  },
  {
   "cell_type": "code",
   "execution_count": null,
   "metadata": {
    "scrolled": true
   },
   "outputs": [],
   "source": [
    "print('race type: {}'.format(race_type))\n",
    "print('bet type: {}'.format(bet_type))\n",
    "print('x: {}'.format(x))\n",
    "df = process_strategy(dfo, bet_positive_dutch, x)\n",
    "print('${:.2f} profit per race'.format(df.profit.sum() / len(dfo)))\n",
    "print('{:.0f}% of races {} / {}'.format(len(df) / len(dfo) * 100, len(df), len(dfo)))"
   ]
  },
  {
   "cell_type": "code",
   "execution_count": null,
   "metadata": {},
   "outputs": [],
   "source": [
    "df['ones'] = np.ones(len(df))\n",
    "df['win_rate'] = df.success.cumsum() / df.ones.cumsum()\n",
    "win_title = '{:.0f}% win rate'.format(df.win_rate.iloc[-1] * 100)\n",
    "df.win_rate.plot(title=win_title, xlim=(100), ylim=(0, 1))"
   ]
  },
  {
   "cell_type": "code",
   "execution_count": null,
   "metadata": {},
   "outputs": [],
   "source": [
    "# ROI\n",
    "roi = df.profit.rolling(20).sum() / df.bet_chunk.rolling(20).sum()\n",
    "roi.plot(xlim=(100), ylim=(-1, 1), alpha=0.3)\n",
    "roi = df.profit.cumsum() / df.bet_chunk.cumsum()\n",
    "roi_title = '{:.1f}% ROI'.format(roi.iloc[-1] * 100)\n",
    "roi.plot(xlim=(100), ylim=(-1, 1), title=roi_title)"
   ]
  },
  {
   "cell_type": "code",
   "execution_count": null,
   "metadata": {},
   "outputs": [],
   "source": [
    "# profit per num bets \n",
    "df.num_bets.plot(kind='hist', title='# bets')\n",
    "groups = df.groupby('num_bets').mean()\n",
    "groups.plot(kind='bar', y='success', title='Win rate per #bets')\n",
    "groups.plot(kind='bar', y='profit', title='Profit per #bets')"
   ]
  },
  {
   "cell_type": "code",
   "execution_count": null,
   "metadata": {},
   "outputs": [],
   "source": [
    "# profit per num runners\n",
    "df.num_runners.hist()\n",
    "groups = df.groupby('num_runners').mean()\n",
    "groups.plot(kind='bar', y='success', title='Win rate per #runners')\n",
    "groups.plot(kind='bar', y='profit', title='Profit per #runners')"
   ]
  },
  {
   "cell_type": "code",
   "execution_count": null,
   "metadata": {},
   "outputs": [],
   "source": [
    "# max diff\n",
    "df.win_diff.plot(kind='hist', bins=100, alpha=0.6, ylim=(0, 300), xlim=(0, 0.3))\n",
    "df.max_diff.plot(kind='hist', bins=100, alpha=0.1, ylim=(0, 300), xlim=(0, 0.3))"
   ]
  },
  {
   "cell_type": "code",
   "execution_count": null,
   "metadata": {},
   "outputs": [],
   "source": [
    "# df.profit.plot(kind='hist', bins=50, xlim=(-5), ylim=(0, 140))\n",
    "df.profit.rolling(100).sum().plot(alpha=0.1)\n",
    "df.profit.cumsum().plot(alpha=0.8)"
   ]
  },
  {
   "cell_type": "code",
   "execution_count": null,
   "metadata": {},
   "outputs": [],
   "source": [
    "# bets/runners\n",
    "df['bets_vs_runners'] = df.num_bets / df.num_runners\n",
    "df['bets_vs_runners'].hist(bins=10)\n",
    "groups = df.groupby(df['bets_vs_runners'].apply(lambda x: round(x, 3))).sum()\n",
    "groups.plot(kind='line', y='profit', title='mean profit/bets_per_runners')"
   ]
  },
  {
   "cell_type": "code",
   "execution_count": null,
   "metadata": {
    "collapsed": true
   },
   "outputs": [],
   "source": [
    "# # pred vs scale\n",
    "# df['prob_vs_scale'] = df.pr / df.num_runners\n",
    "# df['bets_vs_runners'].hist(bins=10)\n",
    "# groups = df.groupby(df['bets_vs_runners'].apply(lambda x: round(x, 3))).sum()\n",
    "# groups.plot(kind='line', y='profit', title='mean profit/bets_per_runners')"
   ]
  },
  {
   "cell_type": "code",
   "execution_count": null,
   "metadata": {},
   "outputs": [],
   "source": [
    "df.odds_scales.plot(kind='hist', bins=500, title='min odds scale', xlim=(0, 2))\n",
    "groups = df.groupby(df['odds_scales'].apply(lambda x: round(x, 1))).mean()\n",
    "groups.plot(kind='bar', y='profit', title='profit / scales')\n",
    "groups.plot(kind='bar', y='win_rate', title='winrate / scales')\n",
    "\n",
    "groups_sum = df.groupby(df['odds_scales'].apply(lambda x: round(x, 1))).sum()\n",
    "groups_sum.plot(kind='bar', y='profit', title='sum profit / scales')"
   ]
  },
  {
   "cell_type": "code",
   "execution_count": null,
   "metadata": {
    "collapsed": true
   },
   "outputs": [],
   "source": []
  }
 ],
 "metadata": {
  "kernelspec": {
   "display_name": "Python 3",
   "language": "python",
   "name": "python3"
  },
  "language_info": {
   "codemirror_mode": {
    "name": "ipython",
    "version": 3
   },
   "file_extension": ".py",
   "mimetype": "text/x-python",
   "name": "python",
   "nbconvert_exporter": "python",
   "pygments_lexer": "ipython3",
   "version": "3.6.1"
  }
 },
 "nbformat": 4,
 "nbformat_minor": 2
}
