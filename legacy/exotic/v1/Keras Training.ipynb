{
 "cells": [
  {
   "cell_type": "code",
   "execution_count": 1,
   "metadata": {},
   "outputs": [
    {
     "name": "stderr",
     "output_type": "stream",
     "text": [
      "Using TensorFlow backend.\n"
     ]
    }
   ],
   "source": [
    "from keras.models import Sequential, load_model\n",
    "from keras.layers import Dense, Activation, Dropout\n",
    "from keras_tqdm import TQDMNotebookCallback\n",
    "import keras.callbacks\n",
    "\n",
    "from sqlalchemy import create_engine\n",
    "import json\n",
    "\n",
    "import pandas as pd\n",
    "import numpy as np\n",
    "import seaborn as sns\n",
    "import matplotlib.pyplot as plt\n",
    "%matplotlib inline"
   ]
  },
  {
   "cell_type": "code",
   "execution_count": 2,
   "metadata": {
    "collapsed": true
   },
   "outputs": [],
   "source": [
    "version = 'v1'\n",
    "\n",
    "bet_type = 'Q'\n",
    "\n",
    "race_type = 'R'"
   ]
  },
  {
   "cell_type": "code",
   "execution_count": 13,
   "metadata": {},
   "outputs": [
    {
     "name": "stdout",
     "output_type": "stream",
     "text": [
      "307571 exotics loaded!\n"
     ]
    }
   ],
   "source": [
    "engine = create_engine('sqlite:///../../data/exotic.db')\n",
    "conn = engine.connect()\n",
    "conn\n",
    "dfoo = pd.read_sql_table('exotic', conn)\n",
    "print('{} exotics loaded!'.format(len(dfoo)))"
   ]
  },
  {
   "cell_type": "code",
   "execution_count": 14,
   "metadata": {},
   "outputs": [
    {
     "name": "stdout",
     "output_type": "stream",
     "text": [
      "307571 R races!\n"
     ]
    }
   ],
   "source": [
    "dfo = dfoo.loc[dfoo['race_type'].isin([race_type])]\n",
    "print('{} {} races!'.format(len(dfo), race_type))"
   ]
  },
  {
   "cell_type": "code",
   "execution_count": 19,
   "metadata": {},
   "outputs": [
    {
     "data": {
      "text/html": [
       "<div>\n",
       "<style>\n",
       "    .dataframe thead tr:only-child th {\n",
       "        text-align: right;\n",
       "    }\n",
       "\n",
       "    .dataframe thead th {\n",
       "        text-align: left;\n",
       "    }\n",
       "\n",
       "    .dataframe tbody tr th {\n",
       "        vertical-align: top;\n",
       "    }\n",
       "</style>\n",
       "<table border=\"1\" class=\"dataframe\">\n",
       "  <thead>\n",
       "    <tr style=\"text-align: right;\">\n",
       "      <th></th>\n",
       "      <th>id</th>\n",
       "      <th>race_type</th>\n",
       "      <th>bet_type</th>\n",
       "      <th>res1</th>\n",
       "      <th>res2</th>\n",
       "      <th>res3</th>\n",
       "      <th>res4</th>\n",
       "      <th>num_runners</th>\n",
       "      <th>run1_num</th>\n",
       "      <th>run1_win_perc</th>\n",
       "      <th>...</th>\n",
       "      <th>run4_num</th>\n",
       "      <th>run4_win_perc</th>\n",
       "      <th>run4_win_scaled</th>\n",
       "      <th>run4_win_rank</th>\n",
       "      <th>run4_place_perc</th>\n",
       "      <th>run4_place_scaled</th>\n",
       "      <th>run4_place_rank</th>\n",
       "      <th>prediction</th>\n",
       "      <th>success</th>\n",
       "      <th>dividend</th>\n",
       "    </tr>\n",
       "  </thead>\n",
       "  <tbody>\n",
       "    <tr>\n",
       "      <th>307561</th>\n",
       "      <td>307562</td>\n",
       "      <td>R</td>\n",
       "      <td>Q</td>\n",
       "      <td>6</td>\n",
       "      <td>5</td>\n",
       "      <td>11</td>\n",
       "      <td>9</td>\n",
       "      <td>13.0</td>\n",
       "      <td>11</td>\n",
       "      <td>0.038168</td>\n",
       "      <td>...</td>\n",
       "      <td>None</td>\n",
       "      <td>NaN</td>\n",
       "      <td>NaN</td>\n",
       "      <td>NaN</td>\n",
       "      <td>NaN</td>\n",
       "      <td>NaN</td>\n",
       "      <td>NaN</td>\n",
       "      <td>NaN</td>\n",
       "      <td>0</td>\n",
       "      <td>89.1</td>\n",
       "    </tr>\n",
       "    <tr>\n",
       "      <th>307562</th>\n",
       "      <td>307563</td>\n",
       "      <td>R</td>\n",
       "      <td>Q</td>\n",
       "      <td>6</td>\n",
       "      <td>5</td>\n",
       "      <td>11</td>\n",
       "      <td>9</td>\n",
       "      <td>13.0</td>\n",
       "      <td>11</td>\n",
       "      <td>0.038168</td>\n",
       "      <td>...</td>\n",
       "      <td>None</td>\n",
       "      <td>NaN</td>\n",
       "      <td>NaN</td>\n",
       "      <td>NaN</td>\n",
       "      <td>NaN</td>\n",
       "      <td>NaN</td>\n",
       "      <td>NaN</td>\n",
       "      <td>NaN</td>\n",
       "      <td>0</td>\n",
       "      <td>89.1</td>\n",
       "    </tr>\n",
       "    <tr>\n",
       "      <th>307563</th>\n",
       "      <td>307564</td>\n",
       "      <td>R</td>\n",
       "      <td>Q</td>\n",
       "      <td>6</td>\n",
       "      <td>5</td>\n",
       "      <td>11</td>\n",
       "      <td>9</td>\n",
       "      <td>13.0</td>\n",
       "      <td>11</td>\n",
       "      <td>0.038168</td>\n",
       "      <td>...</td>\n",
       "      <td>None</td>\n",
       "      <td>NaN</td>\n",
       "      <td>NaN</td>\n",
       "      <td>NaN</td>\n",
       "      <td>NaN</td>\n",
       "      <td>NaN</td>\n",
       "      <td>NaN</td>\n",
       "      <td>NaN</td>\n",
       "      <td>0</td>\n",
       "      <td>89.1</td>\n",
       "    </tr>\n",
       "    <tr>\n",
       "      <th>307564</th>\n",
       "      <td>307565</td>\n",
       "      <td>R</td>\n",
       "      <td>Q</td>\n",
       "      <td>6</td>\n",
       "      <td>5</td>\n",
       "      <td>11</td>\n",
       "      <td>9</td>\n",
       "      <td>13.0</td>\n",
       "      <td>11</td>\n",
       "      <td>0.038168</td>\n",
       "      <td>...</td>\n",
       "      <td>None</td>\n",
       "      <td>NaN</td>\n",
       "      <td>NaN</td>\n",
       "      <td>NaN</td>\n",
       "      <td>NaN</td>\n",
       "      <td>NaN</td>\n",
       "      <td>NaN</td>\n",
       "      <td>NaN</td>\n",
       "      <td>0</td>\n",
       "      <td>89.1</td>\n",
       "    </tr>\n",
       "    <tr>\n",
       "      <th>307565</th>\n",
       "      <td>307566</td>\n",
       "      <td>R</td>\n",
       "      <td>Q</td>\n",
       "      <td>6</td>\n",
       "      <td>5</td>\n",
       "      <td>11</td>\n",
       "      <td>9</td>\n",
       "      <td>13.0</td>\n",
       "      <td>5</td>\n",
       "      <td>0.032154</td>\n",
       "      <td>...</td>\n",
       "      <td>None</td>\n",
       "      <td>NaN</td>\n",
       "      <td>NaN</td>\n",
       "      <td>NaN</td>\n",
       "      <td>NaN</td>\n",
       "      <td>NaN</td>\n",
       "      <td>NaN</td>\n",
       "      <td>NaN</td>\n",
       "      <td>0</td>\n",
       "      <td>89.1</td>\n",
       "    </tr>\n",
       "    <tr>\n",
       "      <th>307566</th>\n",
       "      <td>307567</td>\n",
       "      <td>R</td>\n",
       "      <td>Q</td>\n",
       "      <td>6</td>\n",
       "      <td>5</td>\n",
       "      <td>11</td>\n",
       "      <td>9</td>\n",
       "      <td>13.0</td>\n",
       "      <td>5</td>\n",
       "      <td>0.032154</td>\n",
       "      <td>...</td>\n",
       "      <td>None</td>\n",
       "      <td>NaN</td>\n",
       "      <td>NaN</td>\n",
       "      <td>NaN</td>\n",
       "      <td>NaN</td>\n",
       "      <td>NaN</td>\n",
       "      <td>NaN</td>\n",
       "      <td>NaN</td>\n",
       "      <td>0</td>\n",
       "      <td>89.1</td>\n",
       "    </tr>\n",
       "    <tr>\n",
       "      <th>307567</th>\n",
       "      <td>307568</td>\n",
       "      <td>R</td>\n",
       "      <td>Q</td>\n",
       "      <td>6</td>\n",
       "      <td>5</td>\n",
       "      <td>11</td>\n",
       "      <td>9</td>\n",
       "      <td>13.0</td>\n",
       "      <td>5</td>\n",
       "      <td>0.032154</td>\n",
       "      <td>...</td>\n",
       "      <td>None</td>\n",
       "      <td>NaN</td>\n",
       "      <td>NaN</td>\n",
       "      <td>NaN</td>\n",
       "      <td>NaN</td>\n",
       "      <td>NaN</td>\n",
       "      <td>NaN</td>\n",
       "      <td>NaN</td>\n",
       "      <td>0</td>\n",
       "      <td>89.1</td>\n",
       "    </tr>\n",
       "    <tr>\n",
       "      <th>307568</th>\n",
       "      <td>307569</td>\n",
       "      <td>R</td>\n",
       "      <td>Q</td>\n",
       "      <td>6</td>\n",
       "      <td>5</td>\n",
       "      <td>11</td>\n",
       "      <td>9</td>\n",
       "      <td>13.0</td>\n",
       "      <td>9</td>\n",
       "      <td>0.032154</td>\n",
       "      <td>...</td>\n",
       "      <td>None</td>\n",
       "      <td>NaN</td>\n",
       "      <td>NaN</td>\n",
       "      <td>NaN</td>\n",
       "      <td>NaN</td>\n",
       "      <td>NaN</td>\n",
       "      <td>NaN</td>\n",
       "      <td>NaN</td>\n",
       "      <td>0</td>\n",
       "      <td>89.1</td>\n",
       "    </tr>\n",
       "    <tr>\n",
       "      <th>307569</th>\n",
       "      <td>307570</td>\n",
       "      <td>R</td>\n",
       "      <td>Q</td>\n",
       "      <td>6</td>\n",
       "      <td>5</td>\n",
       "      <td>11</td>\n",
       "      <td>9</td>\n",
       "      <td>13.0</td>\n",
       "      <td>9</td>\n",
       "      <td>0.032154</td>\n",
       "      <td>...</td>\n",
       "      <td>None</td>\n",
       "      <td>NaN</td>\n",
       "      <td>NaN</td>\n",
       "      <td>NaN</td>\n",
       "      <td>NaN</td>\n",
       "      <td>NaN</td>\n",
       "      <td>NaN</td>\n",
       "      <td>NaN</td>\n",
       "      <td>0</td>\n",
       "      <td>89.1</td>\n",
       "    </tr>\n",
       "    <tr>\n",
       "      <th>307570</th>\n",
       "      <td>307571</td>\n",
       "      <td>R</td>\n",
       "      <td>Q</td>\n",
       "      <td>6</td>\n",
       "      <td>5</td>\n",
       "      <td>11</td>\n",
       "      <td>9</td>\n",
       "      <td>13.0</td>\n",
       "      <td>13</td>\n",
       "      <td>0.012048</td>\n",
       "      <td>...</td>\n",
       "      <td>None</td>\n",
       "      <td>NaN</td>\n",
       "      <td>NaN</td>\n",
       "      <td>NaN</td>\n",
       "      <td>NaN</td>\n",
       "      <td>NaN</td>\n",
       "      <td>NaN</td>\n",
       "      <td>NaN</td>\n",
       "      <td>0</td>\n",
       "      <td>89.1</td>\n",
       "    </tr>\n",
       "  </tbody>\n",
       "</table>\n",
       "<p>10 rows × 39 columns</p>\n",
       "</div>"
      ],
      "text/plain": [
       "            id race_type bet_type  res1  res2  res3  res4  num_runners  \\\n",
       "307561  307562         R        Q     6     5    11     9         13.0   \n",
       "307562  307563         R        Q     6     5    11     9         13.0   \n",
       "307563  307564         R        Q     6     5    11     9         13.0   \n",
       "307564  307565         R        Q     6     5    11     9         13.0   \n",
       "307565  307566         R        Q     6     5    11     9         13.0   \n",
       "307566  307567         R        Q     6     5    11     9         13.0   \n",
       "307567  307568         R        Q     6     5    11     9         13.0   \n",
       "307568  307569         R        Q     6     5    11     9         13.0   \n",
       "307569  307570         R        Q     6     5    11     9         13.0   \n",
       "307570  307571         R        Q     6     5    11     9         13.0   \n",
       "\n",
       "        run1_num  run1_win_perc    ...     run4_num  run4_win_perc  \\\n",
       "307561        11       0.038168    ...         None            NaN   \n",
       "307562        11       0.038168    ...         None            NaN   \n",
       "307563        11       0.038168    ...         None            NaN   \n",
       "307564        11       0.038168    ...         None            NaN   \n",
       "307565         5       0.032154    ...         None            NaN   \n",
       "307566         5       0.032154    ...         None            NaN   \n",
       "307567         5       0.032154    ...         None            NaN   \n",
       "307568         9       0.032154    ...         None            NaN   \n",
       "307569         9       0.032154    ...         None            NaN   \n",
       "307570        13       0.012048    ...         None            NaN   \n",
       "\n",
       "        run4_win_scaled  run4_win_rank  run4_place_perc  run4_place_scaled  \\\n",
       "307561              NaN            NaN              NaN                NaN   \n",
       "307562              NaN            NaN              NaN                NaN   \n",
       "307563              NaN            NaN              NaN                NaN   \n",
       "307564              NaN            NaN              NaN                NaN   \n",
       "307565              NaN            NaN              NaN                NaN   \n",
       "307566              NaN            NaN              NaN                NaN   \n",
       "307567              NaN            NaN              NaN                NaN   \n",
       "307568              NaN            NaN              NaN                NaN   \n",
       "307569              NaN            NaN              NaN                NaN   \n",
       "307570              NaN            NaN              NaN                NaN   \n",
       "\n",
       "        run4_place_rank  prediction  success  dividend  \n",
       "307561              NaN         NaN        0      89.1  \n",
       "307562              NaN         NaN        0      89.1  \n",
       "307563              NaN         NaN        0      89.1  \n",
       "307564              NaN         NaN        0      89.1  \n",
       "307565              NaN         NaN        0      89.1  \n",
       "307566              NaN         NaN        0      89.1  \n",
       "307567              NaN         NaN        0      89.1  \n",
       "307568              NaN         NaN        0      89.1  \n",
       "307569              NaN         NaN        0      89.1  \n",
       "307570              NaN         NaN        0      89.1  \n",
       "\n",
       "[10 rows x 39 columns]"
      ]
     },
     "execution_count": 19,
     "metadata": {},
     "output_type": "execute_result"
    }
   ],
   "source": [
    "dfo.tail(10)"
   ]
  },
  {
   "cell_type": "code",
   "execution_count": 20,
   "metadata": {},
   "outputs": [
    {
     "data": {
      "text/plain": [
       "count    307571.000000\n",
       "mean          0.011379\n",
       "std           0.106066\n",
       "min           0.000000\n",
       "25%           0.000000\n",
       "50%           0.000000\n",
       "75%           0.000000\n",
       "max           1.000000\n",
       "Name: success, dtype: float64"
      ]
     },
     "execution_count": 20,
     "metadata": {},
     "output_type": "execute_result"
    }
   ],
   "source": [
    "# get label data\n",
    "Y = dfo['success']\n",
    "\n",
    "#print(data['finishingPosition'].head(10))\n",
    "Y = Y.astype(int)\n",
    "# Y.head(10)\n",
    "Y.describe()"
   ]
  },
  {
   "cell_type": "code",
   "execution_count": 22,
   "metadata": {},
   "outputs": [
    {
     "data": {
      "text/html": [
       "<div>\n",
       "<style>\n",
       "    .dataframe thead tr:only-child th {\n",
       "        text-align: right;\n",
       "    }\n",
       "\n",
       "    .dataframe thead th {\n",
       "        text-align: left;\n",
       "    }\n",
       "\n",
       "    .dataframe tbody tr th {\n",
       "        vertical-align: top;\n",
       "    }\n",
       "</style>\n",
       "<table border=\"1\" class=\"dataframe\">\n",
       "  <thead>\n",
       "    <tr style=\"text-align: right;\">\n",
       "      <th></th>\n",
       "      <th>num_runners</th>\n",
       "      <th>run1_win_perc</th>\n",
       "      <th>run1_win_scaled</th>\n",
       "      <th>run1_win_rank</th>\n",
       "      <th>run1_place_perc</th>\n",
       "      <th>run1_place_scaled</th>\n",
       "      <th>run1_place_rank</th>\n",
       "      <th>run2_win_perc</th>\n",
       "      <th>run2_win_scaled</th>\n",
       "      <th>run2_win_rank</th>\n",
       "      <th>run2_place_perc</th>\n",
       "      <th>run2_place_scaled</th>\n",
       "      <th>run2_place_rank</th>\n",
       "    </tr>\n",
       "  </thead>\n",
       "  <tbody>\n",
       "    <tr>\n",
       "      <th>count</th>\n",
       "      <td>307571.000000</td>\n",
       "      <td>307571.000000</td>\n",
       "      <td>307571.000000</td>\n",
       "      <td>307571.000000</td>\n",
       "      <td>307571.000000</td>\n",
       "      <td>307571.000000</td>\n",
       "      <td>307571.000000</td>\n",
       "      <td>307571.000000</td>\n",
       "      <td>307571.000000</td>\n",
       "      <td>307571.000000</td>\n",
       "      <td>307571.000000</td>\n",
       "      <td>307571.000000</td>\n",
       "      <td>307571.000000</td>\n",
       "    </tr>\n",
       "    <tr>\n",
       "      <th>mean</th>\n",
       "      <td>11.612854</td>\n",
       "      <td>0.160377</td>\n",
       "      <td>0.135550</td>\n",
       "      <td>0.757941</td>\n",
       "      <td>0.418737</td>\n",
       "      <td>0.120957</td>\n",
       "      <td>0.746520</td>\n",
       "      <td>0.054387</td>\n",
       "      <td>0.046008</td>\n",
       "      <td>0.433814</td>\n",
       "      <td>0.209458</td>\n",
       "      <td>0.060601</td>\n",
       "      <td>0.453725</td>\n",
       "    </tr>\n",
       "    <tr>\n",
       "      <th>std</th>\n",
       "      <td>2.501838</td>\n",
       "      <td>0.123352</td>\n",
       "      <td>0.103836</td>\n",
       "      <td>0.202889</td>\n",
       "      <td>0.204893</td>\n",
       "      <td>0.062255</td>\n",
       "      <td>0.215810</td>\n",
       "      <td>0.047745</td>\n",
       "      <td>0.040373</td>\n",
       "      <td>0.212575</td>\n",
       "      <td>0.140881</td>\n",
       "      <td>0.042180</td>\n",
       "      <td>0.225546</td>\n",
       "    </tr>\n",
       "    <tr>\n",
       "      <th>min</th>\n",
       "      <td>3.000000</td>\n",
       "      <td>0.003120</td>\n",
       "      <td>0.002561</td>\n",
       "      <td>0.111111</td>\n",
       "      <td>0.013263</td>\n",
       "      <td>0.003719</td>\n",
       "      <td>0.055556</td>\n",
       "      <td>0.001122</td>\n",
       "      <td>0.000946</td>\n",
       "      <td>0.055556</td>\n",
       "      <td>0.007479</td>\n",
       "      <td>0.002242</td>\n",
       "      <td>0.055556</td>\n",
       "    </tr>\n",
       "    <tr>\n",
       "      <th>25%</th>\n",
       "      <td>10.000000</td>\n",
       "      <td>0.071429</td>\n",
       "      <td>0.060580</td>\n",
       "      <td>0.625000</td>\n",
       "      <td>0.256410</td>\n",
       "      <td>0.073852</td>\n",
       "      <td>0.600000</td>\n",
       "      <td>0.020964</td>\n",
       "      <td>0.017732</td>\n",
       "      <td>0.266667</td>\n",
       "      <td>0.103093</td>\n",
       "      <td>0.029345</td>\n",
       "      <td>0.277778</td>\n",
       "    </tr>\n",
       "    <tr>\n",
       "      <th>50%</th>\n",
       "      <td>12.000000</td>\n",
       "      <td>0.126582</td>\n",
       "      <td>0.107661</td>\n",
       "      <td>0.800000</td>\n",
       "      <td>0.400000</td>\n",
       "      <td>0.112658</td>\n",
       "      <td>0.785714</td>\n",
       "      <td>0.039216</td>\n",
       "      <td>0.033225</td>\n",
       "      <td>0.416667</td>\n",
       "      <td>0.175439</td>\n",
       "      <td>0.049771</td>\n",
       "      <td>0.428571</td>\n",
       "    </tr>\n",
       "    <tr>\n",
       "      <th>75%</th>\n",
       "      <td>13.000000</td>\n",
       "      <td>0.212766</td>\n",
       "      <td>0.180827</td>\n",
       "      <td>0.928571</td>\n",
       "      <td>0.555556</td>\n",
       "      <td>0.156542</td>\n",
       "      <td>0.923077</td>\n",
       "      <td>0.071942</td>\n",
       "      <td>0.060870</td>\n",
       "      <td>0.583333</td>\n",
       "      <td>0.277778</td>\n",
       "      <td>0.080537</td>\n",
       "      <td>0.615385</td>\n",
       "    </tr>\n",
       "    <tr>\n",
       "      <th>max</th>\n",
       "      <td>18.000000</td>\n",
       "      <td>0.961538</td>\n",
       "      <td>0.801560</td>\n",
       "      <td>1.000000</td>\n",
       "      <td>1.000000</td>\n",
       "      <td>0.946292</td>\n",
       "      <td>1.000000</td>\n",
       "      <td>0.500000</td>\n",
       "      <td>0.417292</td>\n",
       "      <td>1.000000</td>\n",
       "      <td>1.000000</td>\n",
       "      <td>0.488712</td>\n",
       "      <td>1.000000</td>\n",
       "    </tr>\n",
       "  </tbody>\n",
       "</table>\n",
       "</div>"
      ],
      "text/plain": [
       "         num_runners  run1_win_perc  run1_win_scaled  run1_win_rank  \\\n",
       "count  307571.000000  307571.000000    307571.000000  307571.000000   \n",
       "mean       11.612854       0.160377         0.135550       0.757941   \n",
       "std         2.501838       0.123352         0.103836       0.202889   \n",
       "min         3.000000       0.003120         0.002561       0.111111   \n",
       "25%        10.000000       0.071429         0.060580       0.625000   \n",
       "50%        12.000000       0.126582         0.107661       0.800000   \n",
       "75%        13.000000       0.212766         0.180827       0.928571   \n",
       "max        18.000000       0.961538         0.801560       1.000000   \n",
       "\n",
       "       run1_place_perc  run1_place_scaled  run1_place_rank  run2_win_perc  \\\n",
       "count    307571.000000      307571.000000    307571.000000  307571.000000   \n",
       "mean          0.418737           0.120957         0.746520       0.054387   \n",
       "std           0.204893           0.062255         0.215810       0.047745   \n",
       "min           0.013263           0.003719         0.055556       0.001122   \n",
       "25%           0.256410           0.073852         0.600000       0.020964   \n",
       "50%           0.400000           0.112658         0.785714       0.039216   \n",
       "75%           0.555556           0.156542         0.923077       0.071942   \n",
       "max           1.000000           0.946292         1.000000       0.500000   \n",
       "\n",
       "       run2_win_scaled  run2_win_rank  run2_place_perc  run2_place_scaled  \\\n",
       "count    307571.000000  307571.000000    307571.000000      307571.000000   \n",
       "mean          0.046008       0.433814         0.209458           0.060601   \n",
       "std           0.040373       0.212575         0.140881           0.042180   \n",
       "min           0.000946       0.055556         0.007479           0.002242   \n",
       "25%           0.017732       0.266667         0.103093           0.029345   \n",
       "50%           0.033225       0.416667         0.175439           0.049771   \n",
       "75%           0.060870       0.583333         0.277778           0.080537   \n",
       "max           0.417292       1.000000         1.000000           0.488712   \n",
       "\n",
       "       run2_place_rank  \n",
       "count    307571.000000  \n",
       "mean          0.453725  \n",
       "std           0.225546  \n",
       "min           0.055556  \n",
       "25%           0.277778  \n",
       "50%           0.428571  \n",
       "75%           0.615385  \n",
       "max           1.000000  "
      ]
     },
     "execution_count": 22,
     "metadata": {},
     "output_type": "execute_result"
    }
   ],
   "source": [
    "xn = dfo['num_runners']\n",
    "\n",
    "x1wp = dfo['run1_win_perc']\n",
    "x1ws = dfo['run1_win_scaled']\n",
    "x1wr = dfo['run1_win_rank']\n",
    "x1pp = dfo['run1_place_perc']\n",
    "x1ps = dfo['run1_place_scaled']\n",
    "x1pr = dfo['run1_place_rank']\n",
    "\n",
    "x2wp = dfo['run2_win_perc']\n",
    "x2ws = dfo['run2_win_scaled']\n",
    "x2wr = dfo['run2_win_rank']\n",
    "x2pp = dfo['run2_place_perc']\n",
    "x2ps = dfo['run2_place_scaled']\n",
    "x2pr = dfo['run2_place_rank']\n",
    "\n",
    "X = pd.concat([xn, \n",
    "               x1wp, x1ws, x1wr, x1pp, x1ps, x1pr,\n",
    "               x2wp, x2ws, x2wr, x2pp, x2ps, x2pr\n",
    "              ], axis=1)\n",
    "X.describe()"
   ]
  },
  {
   "cell_type": "code",
   "execution_count": 24,
   "metadata": {},
   "outputs": [
    {
     "name": "stdout",
     "output_type": "stream",
     "text": [
      "input dimension = 13\n",
      "epochs = 100\n",
      "tag = R40x40Q\n",
      "model created\n"
     ]
    }
   ],
   "source": [
    "# For a single-input model with 2 classes (binary classification):\n",
    "\n",
    "n = len(X.columns)\n",
    "print('input dimension = {}'.format(n))\n",
    "\n",
    "epochs = 100\n",
    "print('epochs = {}'.format(epochs))\n",
    "\n",
    "layer_1 = 40\n",
    "layer_2 = 40\n",
    "\n",
    "tag = '{}{}x{}{}'.format(race_type, layer_1, layer_2, bet_type)\n",
    "print('tag = {}'.format(tag))\n",
    "file_name = '/Users/jaco/code/tabby/exotic/{}/models/{}.h5'.format(version, tag)\n",
    "\n",
    "try:\n",
    "    model = load_model(file_name)\n",
    "    print('model loaded')\n",
    "except OSError:\n",
    "    model = Sequential()\n",
    "    model.add(Dense(layer_1, activation='relu', input_dim=n))\n",
    "    model.add(Dense(layer_2, activation='relu'))\n",
    "    model.add(Dense(1, activation='sigmoid'))\n",
    "    model.compile(optimizer='adam',\n",
    "                  loss='binary_crossentropy',\n",
    "                  metrics=['accuracy'])\n",
    "    print('model created')"
   ]
  },
  {
   "cell_type": "code",
   "execution_count": 25,
   "metadata": {},
   "outputs": [
    {
     "data": {
      "application/vnd.jupyter.widget-view+json": {
       "model_id": "3d22e1fbf71245fc98e7c8c18d14834e"
      }
     },
     "metadata": {},
     "output_type": "display_data"
    },
    {
     "data": {
      "application/vnd.jupyter.widget-view+json": {
       "model_id": "ac01c0ff9c434deb8b3f3b9504d4273d"
      }
     },
     "metadata": {},
     "output_type": "display_data"
    },
    {
     "data": {
      "application/vnd.jupyter.widget-view+json": {
       "model_id": "645fe381bad34526896485cad3f1bfd4"
      }
     },
     "metadata": {},
     "output_type": "display_data"
    },
    {
     "data": {
      "application/vnd.jupyter.widget-view+json": {
       "model_id": "98249b9e40b94333b1eeaaa2b7f5f9f8"
      }
     },
     "metadata": {},
     "output_type": "display_data"
    },
    {
     "data": {
      "application/vnd.jupyter.widget-view+json": {
       "model_id": "83bbc8803fc54d1a979ecdebb3dbf995"
      }
     },
     "metadata": {},
     "output_type": "display_data"
    },
    {
     "data": {
      "application/vnd.jupyter.widget-view+json": {
       "model_id": "2d6f21b6ebf04157a794261605ad8d6a"
      }
     },
     "metadata": {},
     "output_type": "display_data"
    },
    {
     "data": {
      "application/vnd.jupyter.widget-view+json": {
       "model_id": "14aa9845c0de46219fe789164829e1a9"
      }
     },
     "metadata": {},
     "output_type": "display_data"
    },
    {
     "data": {
      "application/vnd.jupyter.widget-view+json": {
       "model_id": "0b1c0c3f7eac45a88ac0fa917f7b0095"
      }
     },
     "metadata": {},
     "output_type": "display_data"
    },
    {
     "data": {
      "application/vnd.jupyter.widget-view+json": {
       "model_id": "d3d79f1ca24e461dabfbd5b6e9b8308e"
      }
     },
     "metadata": {},
     "output_type": "display_data"
    },
    {
     "data": {
      "application/vnd.jupyter.widget-view+json": {
       "model_id": "4e1834772d484db6ac5a0543f1ab6d5b"
      }
     },
     "metadata": {},
     "output_type": "display_data"
    },
    {
     "data": {
      "application/vnd.jupyter.widget-view+json": {
       "model_id": "c7f66cf31db645a0827ed94d1e94e23a"
      }
     },
     "metadata": {},
     "output_type": "display_data"
    },
    {
     "data": {
      "application/vnd.jupyter.widget-view+json": {
       "model_id": "6bb518a5e93248f8a1c3527fb1748c8b"
      }
     },
     "metadata": {},
     "output_type": "display_data"
    },
    {
     "data": {
      "application/vnd.jupyter.widget-view+json": {
       "model_id": "eec7f14ce1f740b89893e2dac07564f6"
      }
     },
     "metadata": {},
     "output_type": "display_data"
    },
    {
     "data": {
      "application/vnd.jupyter.widget-view+json": {
       "model_id": "525ea2b54ada4b96886a7338c3bef6cc"
      }
     },
     "metadata": {},
     "output_type": "display_data"
    },
    {
     "data": {
      "application/vnd.jupyter.widget-view+json": {
       "model_id": "ee5a6b3e55d940699bf291ef214c277c"
      }
     },
     "metadata": {},
     "output_type": "display_data"
    },
    {
     "data": {
      "application/vnd.jupyter.widget-view+json": {
       "model_id": "88769f9968f844e383799e837bc3854d"
      }
     },
     "metadata": {},
     "output_type": "display_data"
    },
    {
     "data": {
      "application/vnd.jupyter.widget-view+json": {
       "model_id": "972c81450f6b4f02ab18b2b624b7ba47"
      }
     },
     "metadata": {},
     "output_type": "display_data"
    },
    {
     "data": {
      "application/vnd.jupyter.widget-view+json": {
       "model_id": "e0197b2d33634fd7b112a189b38a5f67"
      }
     },
     "metadata": {},
     "output_type": "display_data"
    },
    {
     "data": {
      "application/vnd.jupyter.widget-view+json": {
       "model_id": "dca9c99d245d4692a41cddc77d6182f2"
      }
     },
     "metadata": {},
     "output_type": "display_data"
    },
    {
     "data": {
      "application/vnd.jupyter.widget-view+json": {
       "model_id": "672b395932804fc2b0c6b379e47d9d45"
      }
     },
     "metadata": {},
     "output_type": "display_data"
    },
    {
     "data": {
      "application/vnd.jupyter.widget-view+json": {
       "model_id": "544bdf9cebf142dc9c8c0310136ae89d"
      }
     },
     "metadata": {},
     "output_type": "display_data"
    },
    {
     "data": {
      "application/vnd.jupyter.widget-view+json": {
       "model_id": "e3c44a0c35d444aaa20b6e1b0f241e62"
      }
     },
     "metadata": {},
     "output_type": "display_data"
    },
    {
     "data": {
      "application/vnd.jupyter.widget-view+json": {
       "model_id": "35a6b2b550044a1fb8edf9b81ecff63f"
      }
     },
     "metadata": {},
     "output_type": "display_data"
    },
    {
     "data": {
      "application/vnd.jupyter.widget-view+json": {
       "model_id": "d352bf12bdf340048a1f53c7389c1f7b"
      }
     },
     "metadata": {},
     "output_type": "display_data"
    },
    {
     "data": {
      "application/vnd.jupyter.widget-view+json": {
       "model_id": "249dccea7d0c42fb8787ced33f11b679"
      }
     },
     "metadata": {},
     "output_type": "display_data"
    },
    {
     "data": {
      "application/vnd.jupyter.widget-view+json": {
       "model_id": "0567d30fd9cc490c94a380fe0a320a97"
      }
     },
     "metadata": {},
     "output_type": "display_data"
    },
    {
     "data": {
      "application/vnd.jupyter.widget-view+json": {
       "model_id": "bf4bdfeca50f4dda883dbfa8f2f93488"
      }
     },
     "metadata": {},
     "output_type": "display_data"
    },
    {
     "data": {
      "application/vnd.jupyter.widget-view+json": {
       "model_id": "9eef18ee67c04ad099d616e02dab3fc5"
      }
     },
     "metadata": {},
     "output_type": "display_data"
    },
    {
     "data": {
      "application/vnd.jupyter.widget-view+json": {
       "model_id": "f7bbafcf4c8c43a1bd779d1d7d5e0e3d"
      }
     },
     "metadata": {},
     "output_type": "display_data"
    },
    {
     "data": {
      "application/vnd.jupyter.widget-view+json": {
       "model_id": "9cac8cdd9bca437990a05a46aef77127"
      }
     },
     "metadata": {},
     "output_type": "display_data"
    },
    {
     "data": {
      "application/vnd.jupyter.widget-view+json": {
       "model_id": "7ad667faa8074752a5aa260efd68d2b6"
      }
     },
     "metadata": {},
     "output_type": "display_data"
    },
    {
     "data": {
      "application/vnd.jupyter.widget-view+json": {
       "model_id": "9d0cf7bc3e234e1d852e2a7067db4dc2"
      }
     },
     "metadata": {},
     "output_type": "display_data"
    },
    {
     "data": {
      "application/vnd.jupyter.widget-view+json": {
       "model_id": "d1faa0a5c1204837876a41f151789b36"
      }
     },
     "metadata": {},
     "output_type": "display_data"
    },
    {
     "data": {
      "application/vnd.jupyter.widget-view+json": {
       "model_id": "bf9c0389cdb14cdb915df15f73fa92ce"
      }
     },
     "metadata": {},
     "output_type": "display_data"
    },
    {
     "data": {
      "application/vnd.jupyter.widget-view+json": {
       "model_id": "b20a4de0846348249cdbcd759e3ee584"
      }
     },
     "metadata": {},
     "output_type": "display_data"
    },
    {
     "data": {
      "application/vnd.jupyter.widget-view+json": {
       "model_id": "c7533c0b4cf84a739c9a9b7cbae7cc55"
      }
     },
     "metadata": {},
     "output_type": "display_data"
    },
    {
     "data": {
      "application/vnd.jupyter.widget-view+json": {
       "model_id": "315cab2ea34a48e9984d9c3ea8be7546"
      }
     },
     "metadata": {},
     "output_type": "display_data"
    },
    {
     "data": {
      "application/vnd.jupyter.widget-view+json": {
       "model_id": "85db229a3d30403d840922694100eac1"
      }
     },
     "metadata": {},
     "output_type": "display_data"
    },
    {
     "data": {
      "application/vnd.jupyter.widget-view+json": {
       "model_id": "3fe558335fbf4055bae8ff7fc0c4d966"
      }
     },
     "metadata": {},
     "output_type": "display_data"
    },
    {
     "data": {
      "application/vnd.jupyter.widget-view+json": {
       "model_id": "ae9fcc2fbec24e75aaf15b525ca82da9"
      }
     },
     "metadata": {},
     "output_type": "display_data"
    },
    {
     "data": {
      "application/vnd.jupyter.widget-view+json": {
       "model_id": "ab26bcd53d30462a857d5a6f360f79e8"
      }
     },
     "metadata": {},
     "output_type": "display_data"
    },
    {
     "data": {
      "application/vnd.jupyter.widget-view+json": {
       "model_id": "ed09e9014b2a4102b2f007c316d75dd1"
      }
     },
     "metadata": {},
     "output_type": "display_data"
    },
    {
     "data": {
      "application/vnd.jupyter.widget-view+json": {
       "model_id": "071822d864074ada9f296a262740429c"
      }
     },
     "metadata": {},
     "output_type": "display_data"
    },
    {
     "data": {
      "application/vnd.jupyter.widget-view+json": {
       "model_id": "82b53059f8c749e2a8c5b3eadad3f00a"
      }
     },
     "metadata": {},
     "output_type": "display_data"
    },
    {
     "data": {
      "application/vnd.jupyter.widget-view+json": {
       "model_id": "8b2430d89f7b499ba5960dd80044e31f"
      }
     },
     "metadata": {},
     "output_type": "display_data"
    },
    {
     "data": {
      "application/vnd.jupyter.widget-view+json": {
       "model_id": "8017a2545e5947c2a3f8933ff591917f"
      }
     },
     "metadata": {},
     "output_type": "display_data"
    },
    {
     "data": {
      "application/vnd.jupyter.widget-view+json": {
       "model_id": "ddd06af342bb4f0a8c3a28cafcb994f1"
      }
     },
     "metadata": {},
     "output_type": "display_data"
    },
    {
     "data": {
      "application/vnd.jupyter.widget-view+json": {
       "model_id": "c282ae9f160e465bb7014f456c53e9d6"
      }
     },
     "metadata": {},
     "output_type": "display_data"
    },
    {
     "data": {
      "application/vnd.jupyter.widget-view+json": {
       "model_id": "e6c6789fa17b4df782c95726b9f717e3"
      }
     },
     "metadata": {},
     "output_type": "display_data"
    },
    {
     "data": {
      "application/vnd.jupyter.widget-view+json": {
       "model_id": "dec09b37a20846988b2a965430e59b41"
      }
     },
     "metadata": {},
     "output_type": "display_data"
    },
    {
     "data": {
      "application/vnd.jupyter.widget-view+json": {
       "model_id": "be49179e894d4003b50446ffb199c9db"
      }
     },
     "metadata": {},
     "output_type": "display_data"
    },
    {
     "data": {
      "application/vnd.jupyter.widget-view+json": {
       "model_id": "74ae344d28a447cfb4a5ef62b92d71bd"
      }
     },
     "metadata": {},
     "output_type": "display_data"
    },
    {
     "data": {
      "application/vnd.jupyter.widget-view+json": {
       "model_id": "c1186dd9221f4ecdb389459d5c35710e"
      }
     },
     "metadata": {},
     "output_type": "display_data"
    },
    {
     "data": {
      "application/vnd.jupyter.widget-view+json": {
       "model_id": "fd02059eab2349e4b7724313ec47bce9"
      }
     },
     "metadata": {},
     "output_type": "display_data"
    },
    {
     "data": {
      "application/vnd.jupyter.widget-view+json": {
       "model_id": "1ba415c3ee5544b4a5cb8102ecbef980"
      }
     },
     "metadata": {},
     "output_type": "display_data"
    },
    {
     "data": {
      "application/vnd.jupyter.widget-view+json": {
       "model_id": "b6374a2c8da8458581f0431433413254"
      }
     },
     "metadata": {},
     "output_type": "display_data"
    },
    {
     "data": {
      "application/vnd.jupyter.widget-view+json": {
       "model_id": "5efa0f9d9a454b1e9dd8c9e7ffbcf2d9"
      }
     },
     "metadata": {},
     "output_type": "display_data"
    },
    {
     "data": {
      "application/vnd.jupyter.widget-view+json": {
       "model_id": "f280fee25e544858a935121c08babd10"
      }
     },
     "metadata": {},
     "output_type": "display_data"
    },
    {
     "data": {
      "application/vnd.jupyter.widget-view+json": {
       "model_id": "c8f87d74e5d045dd9dcddb71e26f57e0"
      }
     },
     "metadata": {},
     "output_type": "display_data"
    },
    {
     "data": {
      "application/vnd.jupyter.widget-view+json": {
       "model_id": "fdf855442a8d40e88b1309b48e7c0a10"
      }
     },
     "metadata": {},
     "output_type": "display_data"
    },
    {
     "data": {
      "application/vnd.jupyter.widget-view+json": {
       "model_id": "19cc5b2e8cb54e96aeb06c7e9cebf222"
      }
     },
     "metadata": {},
     "output_type": "display_data"
    },
    {
     "data": {
      "application/vnd.jupyter.widget-view+json": {
       "model_id": "70512d7de6054851afcc55ed156c401d"
      }
     },
     "metadata": {},
     "output_type": "display_data"
    },
    {
     "data": {
      "application/vnd.jupyter.widget-view+json": {
       "model_id": "0ac794c9b4474d33bda35ecb4bcd74cf"
      }
     },
     "metadata": {},
     "output_type": "display_data"
    },
    {
     "data": {
      "application/vnd.jupyter.widget-view+json": {
       "model_id": "16c86e4f8a864098a38a6533c9dd067e"
      }
     },
     "metadata": {},
     "output_type": "display_data"
    },
    {
     "data": {
      "application/vnd.jupyter.widget-view+json": {
       "model_id": "51699f9700db41dea8a55dd4152d1e20"
      }
     },
     "metadata": {},
     "output_type": "display_data"
    },
    {
     "data": {
      "application/vnd.jupyter.widget-view+json": {
       "model_id": "202ad341319243b8acf627b0e9cb3485"
      }
     },
     "metadata": {},
     "output_type": "display_data"
    },
    {
     "data": {
      "application/vnd.jupyter.widget-view+json": {
       "model_id": "ed698eee866342abaada1eba182e8872"
      }
     },
     "metadata": {},
     "output_type": "display_data"
    },
    {
     "data": {
      "application/vnd.jupyter.widget-view+json": {
       "model_id": "c2d11dc7941646a0920a18e5cfd3a23f"
      }
     },
     "metadata": {},
     "output_type": "display_data"
    },
    {
     "data": {
      "application/vnd.jupyter.widget-view+json": {
       "model_id": "751d8efa64694f3ab255b811e8bdb88b"
      }
     },
     "metadata": {},
     "output_type": "display_data"
    },
    {
     "data": {
      "application/vnd.jupyter.widget-view+json": {
       "model_id": "2ff0f76d27b546e3ae4417c9da68e0b7"
      }
     },
     "metadata": {},
     "output_type": "display_data"
    },
    {
     "data": {
      "application/vnd.jupyter.widget-view+json": {
       "model_id": "7791da5d4ba246a1aa26fd5e1e071fb4"
      }
     },
     "metadata": {},
     "output_type": "display_data"
    },
    {
     "data": {
      "application/vnd.jupyter.widget-view+json": {
       "model_id": "38fc55c5936d47e1895a73ae4bb663cc"
      }
     },
     "metadata": {},
     "output_type": "display_data"
    },
    {
     "data": {
      "application/vnd.jupyter.widget-view+json": {
       "model_id": "086f3cddfb6c47efb4d3464055d6ba79"
      }
     },
     "metadata": {},
     "output_type": "display_data"
    },
    {
     "data": {
      "application/vnd.jupyter.widget-view+json": {
       "model_id": "d4c5b23a61f2453985dff45367529513"
      }
     },
     "metadata": {},
     "output_type": "display_data"
    },
    {
     "data": {
      "application/vnd.jupyter.widget-view+json": {
       "model_id": "ba035d12d233446fbce04ebdfa274f35"
      }
     },
     "metadata": {},
     "output_type": "display_data"
    },
    {
     "data": {
      "application/vnd.jupyter.widget-view+json": {
       "model_id": "a2b290a71b9948c09f687249afc2d70d"
      }
     },
     "metadata": {},
     "output_type": "display_data"
    },
    {
     "data": {
      "application/vnd.jupyter.widget-view+json": {
       "model_id": "0abae8c89da54437affa4acf5a16e4e7"
      }
     },
     "metadata": {},
     "output_type": "display_data"
    },
    {
     "data": {
      "application/vnd.jupyter.widget-view+json": {
       "model_id": "8f12e392422b4b78ac1698fc3604ea61"
      }
     },
     "metadata": {},
     "output_type": "display_data"
    },
    {
     "data": {
      "application/vnd.jupyter.widget-view+json": {
       "model_id": "d1056456f7f2442aaa1e37a698a5524b"
      }
     },
     "metadata": {},
     "output_type": "display_data"
    },
    {
     "data": {
      "application/vnd.jupyter.widget-view+json": {
       "model_id": "b8703feec61e46d9aa518519f8f4a860"
      }
     },
     "metadata": {},
     "output_type": "display_data"
    },
    {
     "data": {
      "application/vnd.jupyter.widget-view+json": {
       "model_id": "7a1345f9b0664e3e95bdcf8cff83c0a1"
      }
     },
     "metadata": {},
     "output_type": "display_data"
    },
    {
     "data": {
      "application/vnd.jupyter.widget-view+json": {
       "model_id": "87cd7bd6d9d04d4b84c2a4260f8602d2"
      }
     },
     "metadata": {},
     "output_type": "display_data"
    },
    {
     "data": {
      "application/vnd.jupyter.widget-view+json": {
       "model_id": "09734334f2634cdb9e7519f4cf5dfe13"
      }
     },
     "metadata": {},
     "output_type": "display_data"
    },
    {
     "data": {
      "application/vnd.jupyter.widget-view+json": {
       "model_id": "850e93e583f44d9e9f82ade2ce3401cb"
      }
     },
     "metadata": {},
     "output_type": "display_data"
    },
    {
     "data": {
      "application/vnd.jupyter.widget-view+json": {
       "model_id": "68011fd6f69946ad968c1794ac15e57e"
      }
     },
     "metadata": {},
     "output_type": "display_data"
    },
    {
     "data": {
      "application/vnd.jupyter.widget-view+json": {
       "model_id": "88be90792a804e0e8e1d9d365482b6ef"
      }
     },
     "metadata": {},
     "output_type": "display_data"
    },
    {
     "data": {
      "application/vnd.jupyter.widget-view+json": {
       "model_id": "9a33c366f54b47889a7c62b133eb7b55"
      }
     },
     "metadata": {},
     "output_type": "display_data"
    },
    {
     "data": {
      "application/vnd.jupyter.widget-view+json": {
       "model_id": "a39d02363ef44aa39c79935338596101"
      }
     },
     "metadata": {},
     "output_type": "display_data"
    },
    {
     "data": {
      "application/vnd.jupyter.widget-view+json": {
       "model_id": "a696cd3542e847f9a70c4b446843bb8e"
      }
     },
     "metadata": {},
     "output_type": "display_data"
    },
    {
     "data": {
      "application/vnd.jupyter.widget-view+json": {
       "model_id": "7873597ceeff4bd292f69155e669d647"
      }
     },
     "metadata": {},
     "output_type": "display_data"
    },
    {
     "data": {
      "application/vnd.jupyter.widget-view+json": {
       "model_id": "8228cecbd68d42e98d06c98d82121166"
      }
     },
     "metadata": {},
     "output_type": "display_data"
    },
    {
     "data": {
      "application/vnd.jupyter.widget-view+json": {
       "model_id": "62ba36d599ee43df92d4871243bb7f41"
      }
     },
     "metadata": {},
     "output_type": "display_data"
    },
    {
     "data": {
      "application/vnd.jupyter.widget-view+json": {
       "model_id": "4c5f539f53484332ac7c74bdadde97b5"
      }
     },
     "metadata": {},
     "output_type": "display_data"
    },
    {
     "data": {
      "application/vnd.jupyter.widget-view+json": {
       "model_id": "1a922aa14065463ba5a0377dc82a7e60"
      }
     },
     "metadata": {},
     "output_type": "display_data"
    },
    {
     "data": {
      "application/vnd.jupyter.widget-view+json": {
       "model_id": "3502e0ee4b22496c86c63eb8691c8e3f"
      }
     },
     "metadata": {},
     "output_type": "display_data"
    },
    {
     "data": {
      "application/vnd.jupyter.widget-view+json": {
       "model_id": "d30d152437d34e9aae2992ab11b2b023"
      }
     },
     "metadata": {},
     "output_type": "display_data"
    },
    {
     "data": {
      "application/vnd.jupyter.widget-view+json": {
       "model_id": "f0044adcd74848a1b057dde2627e931a"
      }
     },
     "metadata": {},
     "output_type": "display_data"
    },
    {
     "data": {
      "application/vnd.jupyter.widget-view+json": {
       "model_id": "2a4af2586dd44d14b79516c097fc7c44"
      }
     },
     "metadata": {},
     "output_type": "display_data"
    },
    {
     "data": {
      "application/vnd.jupyter.widget-view+json": {
       "model_id": "917d8a653c814a9a8385f062fff31b38"
      }
     },
     "metadata": {},
     "output_type": "display_data"
    },
    {
     "data": {
      "application/vnd.jupyter.widget-view+json": {
       "model_id": "25b1123b8cbf420ba569b0db8b2d8b32"
      }
     },
     "metadata": {},
     "output_type": "display_data"
    },
    {
     "data": {
      "application/vnd.jupyter.widget-view+json": {
       "model_id": "b3cb498d206b433c87589edc7fb21462"
      }
     },
     "metadata": {},
     "output_type": "display_data"
    },
    {
     "name": "stdout",
     "output_type": "stream",
     "text": [
      "\n",
      "model saved\n"
     ]
    }
   ],
   "source": [
    "# Train the model, iterating on the data in batches of 32 samples\n",
    "tqdm = TQDMNotebookCallback()\n",
    "\n",
    "tbCallBack = keras.callbacks.TensorBoard(\n",
    "    log_dir='/Users/jaco/code/tabby/exotic/{}/summary/{}'.format(version, tag), \n",
    "    histogram_freq=0,\n",
    "    write_graph=True,\n",
    "    write_images=True)\n",
    "\n",
    "model.fit(\n",
    "    X.as_matrix(), \n",
    "    Y.as_matrix(),\n",
    "    validation_split=0.2,\n",
    "    shuffle=True,\n",
    "    epochs=epochs,\n",
    "    batch_size=32,\n",
    "    verbose=0,\n",
    "    callbacks=[tqdm, tbCallBack])\n",
    "\n",
    "# creates a HDF5 file\n",
    "model.save(file_name)\n",
    "print('model saved')"
   ]
  },
  {
   "cell_type": "code",
   "execution_count": null,
   "metadata": {
    "collapsed": true
   },
   "outputs": [],
   "source": []
  }
 ],
 "metadata": {
  "kernelspec": {
   "display_name": "Python 3",
   "language": "python",
   "name": "python3"
  },
  "language_info": {
   "codemirror_mode": {
    "name": "ipython",
    "version": 3
   },
   "file_extension": ".py",
   "mimetype": "text/x-python",
   "name": "python",
   "nbconvert_exporter": "python",
   "pygments_lexer": "ipython3",
   "version": "3.6.1"
  }
 },
 "nbformat": 4,
 "nbformat_minor": 2
}
