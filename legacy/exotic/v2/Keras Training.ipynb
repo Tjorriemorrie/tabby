{
 "cells": [
  {
   "cell_type": "code",
   "execution_count": 27,
   "metadata": {},
   "outputs": [],
   "source": [
    "from keras.models import Sequential, load_model\n",
    "from keras.layers import Dense, Activation, Dropout\n",
    "from keras_tqdm import TQDMNotebookCallback\n",
    "import keras.callbacks\n",
    "\n",
    "from sqlalchemy import create_engine\n",
    "from itertools import combinations\n",
    "from operator import itemgetter\n",
    "import json\n",
    "import time\n",
    "\n",
    "import pandas as pd\n",
    "import numpy as np\n",
    "import seaborn as sns\n",
    "import matplotlib.pyplot as plt\n",
    "%matplotlib inline"
   ]
  },
  {
   "cell_type": "code",
   "execution_count": 28,
   "metadata": {
    "collapsed": true
   },
   "outputs": [],
   "source": [
    "version = 'v2'\n",
    "\n",
    "race_type = 'R'\n",
    "r = 2\n",
    "\n",
    "bet_type = 'E'"
   ]
  },
  {
   "cell_type": "code",
   "execution_count": 29,
   "metadata": {},
   "outputs": [
    {
     "name": "stdout",
     "output_type": "stream",
     "text": [
      "372604 exotics loaded!\n"
     ]
    }
   ],
   "source": [
    "engine = create_engine('sqlite:///../../data/exotic.db')\n",
    "conn = engine.connect()\n",
    "conn\n",
    "dfoo = pd.read_sql_table('exotic', conn)\n",
    "print('{} exotics loaded!'.format(len(dfoo)))"
   ]
  },
  {
   "cell_type": "code",
   "execution_count": 30,
   "metadata": {},
   "outputs": [
    {
     "name": "stdout",
     "output_type": "stream",
     "text": [
      "372604 R exotics!\n"
     ]
    }
   ],
   "source": [
    "dfo = dfoo.loc[dfoo['race_type'].isin([race_type])]\n",
    "print('{} {} exotics!'.format(len(dfo), race_type))"
   ]
  },
  {
   "cell_type": "code",
   "execution_count": 32,
   "metadata": {},
   "outputs": [
    {
     "data": {
      "text/html": [
       "<div>\n",
       "<style>\n",
       "    .dataframe thead tr:only-child th {\n",
       "        text-align: right;\n",
       "    }\n",
       "\n",
       "    .dataframe thead th {\n",
       "        text-align: left;\n",
       "    }\n",
       "\n",
       "    .dataframe tbody tr th {\n",
       "        vertical-align: top;\n",
       "    }\n",
       "</style>\n",
       "<table border=\"1\" class=\"dataframe\">\n",
       "  <thead>\n",
       "    <tr style=\"text-align: right;\">\n",
       "      <th></th>\n",
       "      <th>id</th>\n",
       "      <th>race_type</th>\n",
       "      <th>bet_type</th>\n",
       "      <th>res1</th>\n",
       "      <th>res2</th>\n",
       "      <th>res3</th>\n",
       "      <th>res4</th>\n",
       "      <th>num_runners</th>\n",
       "      <th>run1_num</th>\n",
       "      <th>run1_win_perc</th>\n",
       "      <th>...</th>\n",
       "      <th>run4_num</th>\n",
       "      <th>run4_win_perc</th>\n",
       "      <th>run4_win_scaled</th>\n",
       "      <th>run4_win_rank</th>\n",
       "      <th>run4_place_perc</th>\n",
       "      <th>run4_place_scaled</th>\n",
       "      <th>run4_place_rank</th>\n",
       "      <th>prediction</th>\n",
       "      <th>success</th>\n",
       "      <th>dividend</th>\n",
       "    </tr>\n",
       "  </thead>\n",
       "  <tbody>\n",
       "    <tr>\n",
       "      <th>372599</th>\n",
       "      <td>372600</td>\n",
       "      <td>R</td>\n",
       "      <td>Q</td>\n",
       "      <td>3</td>\n",
       "      <td>1</td>\n",
       "      <td>9</td>\n",
       "      <td>4</td>\n",
       "      <td>8.0</td>\n",
       "      <td>4</td>\n",
       "      <td>0.090909</td>\n",
       "      <td>...</td>\n",
       "      <td>None</td>\n",
       "      <td>NaN</td>\n",
       "      <td>NaN</td>\n",
       "      <td>NaN</td>\n",
       "      <td>NaN</td>\n",
       "      <td>NaN</td>\n",
       "      <td>NaN</td>\n",
       "      <td>NaN</td>\n",
       "      <td>0</td>\n",
       "      <td>7.7</td>\n",
       "    </tr>\n",
       "    <tr>\n",
       "      <th>372600</th>\n",
       "      <td>372601</td>\n",
       "      <td>R</td>\n",
       "      <td>Q</td>\n",
       "      <td>3</td>\n",
       "      <td>1</td>\n",
       "      <td>9</td>\n",
       "      <td>4</td>\n",
       "      <td>8.0</td>\n",
       "      <td>4</td>\n",
       "      <td>0.090909</td>\n",
       "      <td>...</td>\n",
       "      <td>None</td>\n",
       "      <td>NaN</td>\n",
       "      <td>NaN</td>\n",
       "      <td>NaN</td>\n",
       "      <td>NaN</td>\n",
       "      <td>NaN</td>\n",
       "      <td>NaN</td>\n",
       "      <td>NaN</td>\n",
       "      <td>0</td>\n",
       "      <td>7.7</td>\n",
       "    </tr>\n",
       "    <tr>\n",
       "      <th>372601</th>\n",
       "      <td>372602</td>\n",
       "      <td>R</td>\n",
       "      <td>Q</td>\n",
       "      <td>3</td>\n",
       "      <td>1</td>\n",
       "      <td>9</td>\n",
       "      <td>4</td>\n",
       "      <td>8.0</td>\n",
       "      <td>6</td>\n",
       "      <td>0.081967</td>\n",
       "      <td>...</td>\n",
       "      <td>None</td>\n",
       "      <td>NaN</td>\n",
       "      <td>NaN</td>\n",
       "      <td>NaN</td>\n",
       "      <td>NaN</td>\n",
       "      <td>NaN</td>\n",
       "      <td>NaN</td>\n",
       "      <td>NaN</td>\n",
       "      <td>0</td>\n",
       "      <td>7.7</td>\n",
       "    </tr>\n",
       "    <tr>\n",
       "      <th>372602</th>\n",
       "      <td>372603</td>\n",
       "      <td>R</td>\n",
       "      <td>Q</td>\n",
       "      <td>3</td>\n",
       "      <td>1</td>\n",
       "      <td>9</td>\n",
       "      <td>4</td>\n",
       "      <td>8.0</td>\n",
       "      <td>6</td>\n",
       "      <td>0.081967</td>\n",
       "      <td>...</td>\n",
       "      <td>None</td>\n",
       "      <td>NaN</td>\n",
       "      <td>NaN</td>\n",
       "      <td>NaN</td>\n",
       "      <td>NaN</td>\n",
       "      <td>NaN</td>\n",
       "      <td>NaN</td>\n",
       "      <td>NaN</td>\n",
       "      <td>0</td>\n",
       "      <td>7.7</td>\n",
       "    </tr>\n",
       "    <tr>\n",
       "      <th>372603</th>\n",
       "      <td>372604</td>\n",
       "      <td>R</td>\n",
       "      <td>Q</td>\n",
       "      <td>3</td>\n",
       "      <td>1</td>\n",
       "      <td>9</td>\n",
       "      <td>4</td>\n",
       "      <td>8.0</td>\n",
       "      <td>7</td>\n",
       "      <td>0.057471</td>\n",
       "      <td>...</td>\n",
       "      <td>None</td>\n",
       "      <td>NaN</td>\n",
       "      <td>NaN</td>\n",
       "      <td>NaN</td>\n",
       "      <td>NaN</td>\n",
       "      <td>NaN</td>\n",
       "      <td>NaN</td>\n",
       "      <td>NaN</td>\n",
       "      <td>0</td>\n",
       "      <td>7.7</td>\n",
       "    </tr>\n",
       "  </tbody>\n",
       "</table>\n",
       "<p>5 rows × 39 columns</p>\n",
       "</div>"
      ],
      "text/plain": [
       "            id race_type bet_type  res1  res2  res3  res4  num_runners  \\\n",
       "372599  372600         R        Q     3     1     9     4          8.0   \n",
       "372600  372601         R        Q     3     1     9     4          8.0   \n",
       "372601  372602         R        Q     3     1     9     4          8.0   \n",
       "372602  372603         R        Q     3     1     9     4          8.0   \n",
       "372603  372604         R        Q     3     1     9     4          8.0   \n",
       "\n",
       "        run1_num  run1_win_perc    ...     run4_num  run4_win_perc  \\\n",
       "372599         4       0.090909    ...         None            NaN   \n",
       "372600         4       0.090909    ...         None            NaN   \n",
       "372601         6       0.081967    ...         None            NaN   \n",
       "372602         6       0.081967    ...         None            NaN   \n",
       "372603         7       0.057471    ...         None            NaN   \n",
       "\n",
       "        run4_win_scaled  run4_win_rank  run4_place_perc  run4_place_scaled  \\\n",
       "372599              NaN            NaN              NaN                NaN   \n",
       "372600              NaN            NaN              NaN                NaN   \n",
       "372601              NaN            NaN              NaN                NaN   \n",
       "372602              NaN            NaN              NaN                NaN   \n",
       "372603              NaN            NaN              NaN                NaN   \n",
       "\n",
       "        run4_place_rank  prediction  success  dividend  \n",
       "372599              NaN         NaN        0       7.7  \n",
       "372600              NaN         NaN        0       7.7  \n",
       "372601              NaN         NaN        0       7.7  \n",
       "372602              NaN         NaN        0       7.7  \n",
       "372603              NaN         NaN        0       7.7  \n",
       "\n",
       "[5 rows x 39 columns]"
      ]
     },
     "execution_count": 32,
     "metadata": {},
     "output_type": "execute_result"
    }
   ],
   "source": [
    "dfo.tail()"
   ]
  },
  {
   "cell_type": "code",
   "execution_count": 22,
   "metadata": {},
   "outputs": [
    {
     "data": {
      "text/html": [
       "<div>\n",
       "<style>\n",
       "    .dataframe thead tr:only-child th {\n",
       "        text-align: right;\n",
       "    }\n",
       "\n",
       "    .dataframe thead th {\n",
       "        text-align: left;\n",
       "    }\n",
       "\n",
       "    .dataframe tbody tr th {\n",
       "        vertical-align: top;\n",
       "    }\n",
       "</style>\n",
       "<table border=\"1\" class=\"dataframe\">\n",
       "  <thead>\n",
       "    <tr style=\"text-align: right;\">\n",
       "      <th></th>\n",
       "      <th>bet_type</th>\n",
       "      <th>dividend</th>\n",
       "      <th>num_runners</th>\n",
       "      <th>race_type</th>\n",
       "      <th>run1_num</th>\n",
       "      <th>run1_place_perc</th>\n",
       "      <th>run1_place_rank</th>\n",
       "      <th>run1_place_scaled</th>\n",
       "      <th>run1_win_perc</th>\n",
       "      <th>run1_win_rank</th>\n",
       "      <th>run1_win_scaled</th>\n",
       "      <th>run2_num</th>\n",
       "      <th>run2_place_perc</th>\n",
       "      <th>run2_place_rank</th>\n",
       "      <th>run2_place_scaled</th>\n",
       "      <th>run2_win_perc</th>\n",
       "      <th>run2_win_rank</th>\n",
       "      <th>run2_win_scaled</th>\n",
       "      <th>success</th>\n",
       "    </tr>\n",
       "  </thead>\n",
       "  <tbody>\n",
       "    <tr>\n",
       "      <th>16</th>\n",
       "      <td>E</td>\n",
       "      <td>8.4</td>\n",
       "      <td>7.0</td>\n",
       "      <td>R</td>\n",
       "      <td>6</td>\n",
       "      <td>0.625000</td>\n",
       "      <td>1.000000</td>\n",
       "      <td>0.262295</td>\n",
       "      <td>0.136986</td>\n",
       "      <td>0.666667</td>\n",
       "      <td>0.116077</td>\n",
       "      <td>7</td>\n",
       "      <td>0.270270</td>\n",
       "      <td>0.444444</td>\n",
       "      <td>0.113425</td>\n",
       "      <td>0.064935</td>\n",
       "      <td>0.444444</td>\n",
       "      <td>0.055024</td>\n",
       "      <td>0</td>\n",
       "    </tr>\n",
       "    <tr>\n",
       "      <th>17</th>\n",
       "      <td>E</td>\n",
       "      <td>8.4</td>\n",
       "      <td>7.0</td>\n",
       "      <td>R</td>\n",
       "      <td>6</td>\n",
       "      <td>0.625000</td>\n",
       "      <td>1.000000</td>\n",
       "      <td>0.262295</td>\n",
       "      <td>0.136986</td>\n",
       "      <td>0.666667</td>\n",
       "      <td>0.116077</td>\n",
       "      <td>3</td>\n",
       "      <td>0.082645</td>\n",
       "      <td>0.333333</td>\n",
       "      <td>0.034684</td>\n",
       "      <td>0.042373</td>\n",
       "      <td>0.333333</td>\n",
       "      <td>0.035905</td>\n",
       "      <td>0</td>\n",
       "    </tr>\n",
       "    <tr>\n",
       "      <th>18</th>\n",
       "      <td>E</td>\n",
       "      <td>8.4</td>\n",
       "      <td>7.0</td>\n",
       "      <td>R</td>\n",
       "      <td>2</td>\n",
       "      <td>0.294118</td>\n",
       "      <td>0.666667</td>\n",
       "      <td>0.123433</td>\n",
       "      <td>0.135135</td>\n",
       "      <td>0.555556</td>\n",
       "      <td>0.114509</td>\n",
       "      <td>7</td>\n",
       "      <td>0.270270</td>\n",
       "      <td>0.444444</td>\n",
       "      <td>0.113425</td>\n",
       "      <td>0.064935</td>\n",
       "      <td>0.444444</td>\n",
       "      <td>0.055024</td>\n",
       "      <td>0</td>\n",
       "    </tr>\n",
       "    <tr>\n",
       "      <th>19</th>\n",
       "      <td>E</td>\n",
       "      <td>8.4</td>\n",
       "      <td>7.0</td>\n",
       "      <td>R</td>\n",
       "      <td>2</td>\n",
       "      <td>0.294118</td>\n",
       "      <td>0.666667</td>\n",
       "      <td>0.123433</td>\n",
       "      <td>0.135135</td>\n",
       "      <td>0.555556</td>\n",
       "      <td>0.114509</td>\n",
       "      <td>3</td>\n",
       "      <td>0.082645</td>\n",
       "      <td>0.333333</td>\n",
       "      <td>0.034684</td>\n",
       "      <td>0.042373</td>\n",
       "      <td>0.333333</td>\n",
       "      <td>0.035905</td>\n",
       "      <td>0</td>\n",
       "    </tr>\n",
       "    <tr>\n",
       "      <th>20</th>\n",
       "      <td>E</td>\n",
       "      <td>8.4</td>\n",
       "      <td>7.0</td>\n",
       "      <td>R</td>\n",
       "      <td>7</td>\n",
       "      <td>0.270270</td>\n",
       "      <td>0.444444</td>\n",
       "      <td>0.113425</td>\n",
       "      <td>0.064935</td>\n",
       "      <td>0.444444</td>\n",
       "      <td>0.055024</td>\n",
       "      <td>3</td>\n",
       "      <td>0.082645</td>\n",
       "      <td>0.333333</td>\n",
       "      <td>0.034684</td>\n",
       "      <td>0.042373</td>\n",
       "      <td>0.333333</td>\n",
       "      <td>0.035905</td>\n",
       "      <td>0</td>\n",
       "    </tr>\n",
       "  </tbody>\n",
       "</table>\n",
       "</div>"
      ],
      "text/plain": [
       "   bet_type  dividend  num_runners race_type  run1_num  run1_place_perc  \\\n",
       "16        E       8.4          7.0         R         6         0.625000   \n",
       "17        E       8.4          7.0         R         6         0.625000   \n",
       "18        E       8.4          7.0         R         2         0.294118   \n",
       "19        E       8.4          7.0         R         2         0.294118   \n",
       "20        E       8.4          7.0         R         7         0.270270   \n",
       "\n",
       "    run1_place_rank  run1_place_scaled  run1_win_perc  run1_win_rank  \\\n",
       "16         1.000000           0.262295       0.136986       0.666667   \n",
       "17         1.000000           0.262295       0.136986       0.666667   \n",
       "18         0.666667           0.123433       0.135135       0.555556   \n",
       "19         0.666667           0.123433       0.135135       0.555556   \n",
       "20         0.444444           0.113425       0.064935       0.444444   \n",
       "\n",
       "    run1_win_scaled  run2_num  run2_place_perc  run2_place_rank  \\\n",
       "16         0.116077         7         0.270270         0.444444   \n",
       "17         0.116077         3         0.082645         0.333333   \n",
       "18         0.114509         7         0.270270         0.444444   \n",
       "19         0.114509         3         0.082645         0.333333   \n",
       "20         0.055024         3         0.082645         0.333333   \n",
       "\n",
       "    run2_place_scaled  run2_win_perc  run2_win_rank  run2_win_scaled  success  \n",
       "16           0.113425       0.064935       0.444444         0.055024        0  \n",
       "17           0.034684       0.042373       0.333333         0.035905        0  \n",
       "18           0.113425       0.064935       0.444444         0.055024        0  \n",
       "19           0.034684       0.042373       0.333333         0.035905        0  \n",
       "20           0.034684       0.042373       0.333333         0.035905        0  "
      ]
     },
     "execution_count": 22,
     "metadata": {},
     "output_type": "execute_result"
    }
   ],
   "source": [
    "# extract runners from races\n",
    "data_all = pd.DataFrame()\n",
    "for ri, race in dfo.iterrows():\n",
    "    combs = build_combinations(race['runners'], r, race['results'], race['exacta'])\n",
    "#     print(combs)\n",
    "    if combs:\n",
    "        data_all = data_all.append(combs)\n",
    "#     break\n",
    "data_all.tail()"
   ]
  },
  {
   "cell_type": "code",
   "execution_count": 33,
   "metadata": {},
   "outputs": [
    {
     "data": {
      "text/plain": [
       "count    323056.000000\n",
       "mean          0.011475\n",
       "std           0.106504\n",
       "min           0.000000\n",
       "25%           0.000000\n",
       "50%           0.000000\n",
       "75%           0.000000\n",
       "max           1.000000\n",
       "Name: success, dtype: float64"
      ]
     },
     "execution_count": 33,
     "metadata": {},
     "output_type": "execute_result"
    }
   ],
   "source": [
    "# get label data\n",
    "Y = data_all['success']\n",
    "\n",
    "#print(data['finishingPosition'].head(10))\n",
    "Y = Y.astype(int)\n",
    "# Y.head(10)\n",
    "Y.describe()"
   ]
  },
  {
   "cell_type": "code",
   "execution_count": 34,
   "metadata": {},
   "outputs": [
    {
     "data": {
      "text/html": [
       "<div>\n",
       "<style>\n",
       "    .dataframe thead tr:only-child th {\n",
       "        text-align: right;\n",
       "    }\n",
       "\n",
       "    .dataframe thead th {\n",
       "        text-align: left;\n",
       "    }\n",
       "\n",
       "    .dataframe tbody tr th {\n",
       "        vertical-align: top;\n",
       "    }\n",
       "</style>\n",
       "<table border=\"1\" class=\"dataframe\">\n",
       "  <thead>\n",
       "    <tr style=\"text-align: right;\">\n",
       "      <th></th>\n",
       "      <th>num_runners</th>\n",
       "      <th>run1_win_perc</th>\n",
       "      <th>run1_win_scaled</th>\n",
       "      <th>run1_win_rank</th>\n",
       "      <th>run1_place_perc</th>\n",
       "      <th>run1_place_scaled</th>\n",
       "      <th>run1_place_rank</th>\n",
       "      <th>run2_win_perc</th>\n",
       "      <th>run2_win_scaled</th>\n",
       "      <th>run2_win_rank</th>\n",
       "      <th>run2_place_perc</th>\n",
       "      <th>run2_place_scaled</th>\n",
       "      <th>run2_place_rank</th>\n",
       "    </tr>\n",
       "  </thead>\n",
       "  <tbody>\n",
       "    <tr>\n",
       "      <th>16</th>\n",
       "      <td>7.0</td>\n",
       "      <td>0.136986</td>\n",
       "      <td>0.116077</td>\n",
       "      <td>0.666667</td>\n",
       "      <td>0.625000</td>\n",
       "      <td>0.262295</td>\n",
       "      <td>1.000000</td>\n",
       "      <td>0.064935</td>\n",
       "      <td>0.055024</td>\n",
       "      <td>0.444444</td>\n",
       "      <td>0.270270</td>\n",
       "      <td>0.113425</td>\n",
       "      <td>0.444444</td>\n",
       "    </tr>\n",
       "    <tr>\n",
       "      <th>17</th>\n",
       "      <td>7.0</td>\n",
       "      <td>0.136986</td>\n",
       "      <td>0.116077</td>\n",
       "      <td>0.666667</td>\n",
       "      <td>0.625000</td>\n",
       "      <td>0.262295</td>\n",
       "      <td>1.000000</td>\n",
       "      <td>0.042373</td>\n",
       "      <td>0.035905</td>\n",
       "      <td>0.333333</td>\n",
       "      <td>0.082645</td>\n",
       "      <td>0.034684</td>\n",
       "      <td>0.333333</td>\n",
       "    </tr>\n",
       "    <tr>\n",
       "      <th>18</th>\n",
       "      <td>7.0</td>\n",
       "      <td>0.135135</td>\n",
       "      <td>0.114509</td>\n",
       "      <td>0.555556</td>\n",
       "      <td>0.294118</td>\n",
       "      <td>0.123433</td>\n",
       "      <td>0.666667</td>\n",
       "      <td>0.064935</td>\n",
       "      <td>0.055024</td>\n",
       "      <td>0.444444</td>\n",
       "      <td>0.270270</td>\n",
       "      <td>0.113425</td>\n",
       "      <td>0.444444</td>\n",
       "    </tr>\n",
       "    <tr>\n",
       "      <th>19</th>\n",
       "      <td>7.0</td>\n",
       "      <td>0.135135</td>\n",
       "      <td>0.114509</td>\n",
       "      <td>0.555556</td>\n",
       "      <td>0.294118</td>\n",
       "      <td>0.123433</td>\n",
       "      <td>0.666667</td>\n",
       "      <td>0.042373</td>\n",
       "      <td>0.035905</td>\n",
       "      <td>0.333333</td>\n",
       "      <td>0.082645</td>\n",
       "      <td>0.034684</td>\n",
       "      <td>0.333333</td>\n",
       "    </tr>\n",
       "    <tr>\n",
       "      <th>20</th>\n",
       "      <td>7.0</td>\n",
       "      <td>0.064935</td>\n",
       "      <td>0.055024</td>\n",
       "      <td>0.444444</td>\n",
       "      <td>0.270270</td>\n",
       "      <td>0.113425</td>\n",
       "      <td>0.444444</td>\n",
       "      <td>0.042373</td>\n",
       "      <td>0.035905</td>\n",
       "      <td>0.333333</td>\n",
       "      <td>0.082645</td>\n",
       "      <td>0.034684</td>\n",
       "      <td>0.333333</td>\n",
       "    </tr>\n",
       "  </tbody>\n",
       "</table>\n",
       "</div>"
      ],
      "text/plain": [
       "    num_runners  run1_win_perc  run1_win_scaled  run1_win_rank  \\\n",
       "16          7.0       0.136986         0.116077       0.666667   \n",
       "17          7.0       0.136986         0.116077       0.666667   \n",
       "18          7.0       0.135135         0.114509       0.555556   \n",
       "19          7.0       0.135135         0.114509       0.555556   \n",
       "20          7.0       0.064935         0.055024       0.444444   \n",
       "\n",
       "    run1_place_perc  run1_place_scaled  run1_place_rank  run2_win_perc  \\\n",
       "16         0.625000           0.262295         1.000000       0.064935   \n",
       "17         0.625000           0.262295         1.000000       0.042373   \n",
       "18         0.294118           0.123433         0.666667       0.064935   \n",
       "19         0.294118           0.123433         0.666667       0.042373   \n",
       "20         0.270270           0.113425         0.444444       0.042373   \n",
       "\n",
       "    run2_win_scaled  run2_win_rank  run2_place_perc  run2_place_scaled  \\\n",
       "16         0.055024       0.444444         0.270270           0.113425   \n",
       "17         0.035905       0.333333         0.082645           0.034684   \n",
       "18         0.055024       0.444444         0.270270           0.113425   \n",
       "19         0.035905       0.333333         0.082645           0.034684   \n",
       "20         0.035905       0.333333         0.082645           0.034684   \n",
       "\n",
       "    run2_place_rank  \n",
       "16         0.444444  \n",
       "17         0.333333  \n",
       "18         0.444444  \n",
       "19         0.333333  \n",
       "20         0.333333  "
      ]
     },
     "execution_count": 34,
     "metadata": {},
     "output_type": "execute_result"
    }
   ],
   "source": [
    "X = data_all[[\n",
    "    'num_runners',\n",
    "    'run1_win_perc', 'run1_win_scaled', 'run1_win_rank', 'run1_place_perc', 'run1_place_scaled', 'run1_place_rank',\n",
    "    'run2_win_perc', 'run2_win_scaled', 'run2_win_rank', 'run2_place_perc', 'run2_place_scaled', 'run2_place_rank'\n",
    "]]\n",
    "X.tail()"
   ]
  },
  {
   "cell_type": "code",
   "execution_count": 35,
   "metadata": {},
   "outputs": [
    {
     "name": "stdout",
     "output_type": "stream",
     "text": [
      "input dimension = 13\n",
      "epochs = 100\n",
      "tag = R40x40E\n",
      "model loaded\n"
     ]
    }
   ],
   "source": [
    "# For a single-input model with 2 classes (binary classification):\n",
    "\n",
    "n = len(X.columns)\n",
    "print('input dimension = {}'.format(n))\n",
    "\n",
    "epochs = 100\n",
    "print('epochs = {}'.format(epochs))\n",
    "\n",
    "layer_1 = 40\n",
    "layer_2 = 40\n",
    "\n",
    "tag = '{}{}x{}{}'.format(race_type, layer_1, layer_2, bet_type)\n",
    "print('tag = {}'.format(tag))\n",
    "file_name = '/Users/jaco/code/tabby/exotic/{}/models/{}.h5'.format(version, tag)\n",
    "\n",
    "try:\n",
    "    model = load_model(file_name)\n",
    "    print('model loaded')\n",
    "except OSError:\n",
    "    model = Sequential()\n",
    "    model.add(Dense(layer_1, activation='relu', input_dim=n))\n",
    "    model.add(Dense(layer_2, activation='relu'))\n",
    "    model.add(Dense(1, activation='sigmoid'))\n",
    "    model.compile(optimizer='adam',\n",
    "                  loss='binary_crossentropy',\n",
    "                  metrics=['accuracy'])\n",
    "    print('model created')"
   ]
  },
  {
   "cell_type": "code",
   "execution_count": 36,
   "metadata": {},
   "outputs": [
    {
     "data": {
      "application/vnd.jupyter.widget-view+json": {
       "model_id": "fc41ba77002f43b191b79767fdeb438a"
      }
     },
     "metadata": {},
     "output_type": "display_data"
    },
    {
     "data": {
      "application/vnd.jupyter.widget-view+json": {
       "model_id": "866ea003fdd540e38e9495e41b88e6fa"
      }
     },
     "metadata": {},
     "output_type": "display_data"
    },
    {
     "data": {
      "application/vnd.jupyter.widget-view+json": {
       "model_id": "bdfc3c48901648c5884e85c430e54af6"
      }
     },
     "metadata": {},
     "output_type": "display_data"
    },
    {
     "data": {
      "application/vnd.jupyter.widget-view+json": {
       "model_id": "545e0d16a00047d2b73996512eda5042"
      }
     },
     "metadata": {},
     "output_type": "display_data"
    },
    {
     "data": {
      "application/vnd.jupyter.widget-view+json": {
       "model_id": "19e7669860f9499580864130f68244e6"
      }
     },
     "metadata": {},
     "output_type": "display_data"
    },
    {
     "data": {
      "application/vnd.jupyter.widget-view+json": {
       "model_id": "0f41e87ac8134492a9b4e36b13e6fc2d"
      }
     },
     "metadata": {},
     "output_type": "display_data"
    },
    {
     "data": {
      "application/vnd.jupyter.widget-view+json": {
       "model_id": "674f0ae4159f460a820d399bc51c40aa"
      }
     },
     "metadata": {},
     "output_type": "display_data"
    },
    {
     "data": {
      "application/vnd.jupyter.widget-view+json": {
       "model_id": "bed3d800b5b5432b93810e7785e1ba66"
      }
     },
     "metadata": {},
     "output_type": "display_data"
    },
    {
     "data": {
      "application/vnd.jupyter.widget-view+json": {
       "model_id": "8c749088f15f420d8d5600f6a7bb4a6b"
      }
     },
     "metadata": {},
     "output_type": "display_data"
    },
    {
     "data": {
      "application/vnd.jupyter.widget-view+json": {
       "model_id": "b5fc95cb893844b49ff29fc7c9b3ddeb"
      }
     },
     "metadata": {},
     "output_type": "display_data"
    },
    {
     "data": {
      "application/vnd.jupyter.widget-view+json": {
       "model_id": "51d3ce474caa483099c8eddf595bba96"
      }
     },
     "metadata": {},
     "output_type": "display_data"
    },
    {
     "data": {
      "application/vnd.jupyter.widget-view+json": {
       "model_id": "d7581b10dc9444348c60f6af0e6bf3e9"
      }
     },
     "metadata": {},
     "output_type": "display_data"
    },
    {
     "data": {
      "application/vnd.jupyter.widget-view+json": {
       "model_id": "10fa295abcce4260a1dfc22f5ddb4178"
      }
     },
     "metadata": {},
     "output_type": "display_data"
    },
    {
     "data": {
      "application/vnd.jupyter.widget-view+json": {
       "model_id": "69ff1f7ce40a41038e9e17edeabdf362"
      }
     },
     "metadata": {},
     "output_type": "display_data"
    },
    {
     "data": {
      "application/vnd.jupyter.widget-view+json": {
       "model_id": "41875290aec34cd7a0a6c1a2385e575d"
      }
     },
     "metadata": {},
     "output_type": "display_data"
    },
    {
     "data": {
      "application/vnd.jupyter.widget-view+json": {
       "model_id": "b92a0fc433094924bc2c392d01351d45"
      }
     },
     "metadata": {},
     "output_type": "display_data"
    },
    {
     "data": {
      "application/vnd.jupyter.widget-view+json": {
       "model_id": "72d9212263704261a3a1a7d2d6ac9eb9"
      }
     },
     "metadata": {},
     "output_type": "display_data"
    },
    {
     "data": {
      "application/vnd.jupyter.widget-view+json": {
       "model_id": "1510be06967f4c25bad87e08fb7d2822"
      }
     },
     "metadata": {},
     "output_type": "display_data"
    },
    {
     "data": {
      "application/vnd.jupyter.widget-view+json": {
       "model_id": "96395c6d672f4aa0914b94c5866459b3"
      }
     },
     "metadata": {},
     "output_type": "display_data"
    },
    {
     "data": {
      "application/vnd.jupyter.widget-view+json": {
       "model_id": "853fff6605ed4711abcafd9f774d1828"
      }
     },
     "metadata": {},
     "output_type": "display_data"
    },
    {
     "data": {
      "application/vnd.jupyter.widget-view+json": {
       "model_id": "8b6597cce4934fb5a3940e70e78af46f"
      }
     },
     "metadata": {},
     "output_type": "display_data"
    },
    {
     "data": {
      "application/vnd.jupyter.widget-view+json": {
       "model_id": "1f5bc7c80a6d4f47b1d3b8c8f3f6b407"
      }
     },
     "metadata": {},
     "output_type": "display_data"
    },
    {
     "data": {
      "application/vnd.jupyter.widget-view+json": {
       "model_id": "5d78c15ccba042d7a1b822142f1000bf"
      }
     },
     "metadata": {},
     "output_type": "display_data"
    },
    {
     "data": {
      "application/vnd.jupyter.widget-view+json": {
       "model_id": "fb0a3cfb431b4c36a1ccc264af5c348d"
      }
     },
     "metadata": {},
     "output_type": "display_data"
    },
    {
     "data": {
      "application/vnd.jupyter.widget-view+json": {
       "model_id": "c802e61500024290b78a6d0f9255b994"
      }
     },
     "metadata": {},
     "output_type": "display_data"
    },
    {
     "data": {
      "application/vnd.jupyter.widget-view+json": {
       "model_id": "e6fff714f27b48e7affee57502f4869a"
      }
     },
     "metadata": {},
     "output_type": "display_data"
    },
    {
     "data": {
      "application/vnd.jupyter.widget-view+json": {
       "model_id": "b37504dbe0314c6e934ada22cb66ae4b"
      }
     },
     "metadata": {},
     "output_type": "display_data"
    },
    {
     "data": {
      "application/vnd.jupyter.widget-view+json": {
       "model_id": "634551640dd043b28e3db3dc3e0b087a"
      }
     },
     "metadata": {},
     "output_type": "display_data"
    },
    {
     "data": {
      "application/vnd.jupyter.widget-view+json": {
       "model_id": "391c056332074bb1ae65df7a18894bc9"
      }
     },
     "metadata": {},
     "output_type": "display_data"
    },
    {
     "data": {
      "application/vnd.jupyter.widget-view+json": {
       "model_id": "1ddea5e6ad1d48cb92c8c3721e1985d3"
      }
     },
     "metadata": {},
     "output_type": "display_data"
    },
    {
     "data": {
      "application/vnd.jupyter.widget-view+json": {
       "model_id": "1d9ad0b6b3154f9081f87a4ee146bbf0"
      }
     },
     "metadata": {},
     "output_type": "display_data"
    },
    {
     "data": {
      "application/vnd.jupyter.widget-view+json": {
       "model_id": "5430f0d34a7e4e8ca7fcad152d359d90"
      }
     },
     "metadata": {},
     "output_type": "display_data"
    },
    {
     "data": {
      "application/vnd.jupyter.widget-view+json": {
       "model_id": "40ca26397a434a4cbd9fdf958436796d"
      }
     },
     "metadata": {},
     "output_type": "display_data"
    },
    {
     "data": {
      "application/vnd.jupyter.widget-view+json": {
       "model_id": "ea018ae2e4fc4bad990f668a5ecb4ace"
      }
     },
     "metadata": {},
     "output_type": "display_data"
    },
    {
     "data": {
      "application/vnd.jupyter.widget-view+json": {
       "model_id": "8eda49f8ee75408fba17188e3a837f32"
      }
     },
     "metadata": {},
     "output_type": "display_data"
    },
    {
     "data": {
      "application/vnd.jupyter.widget-view+json": {
       "model_id": "04a0192f67564f7689957fabe309f905"
      }
     },
     "metadata": {},
     "output_type": "display_data"
    },
    {
     "data": {
      "application/vnd.jupyter.widget-view+json": {
       "model_id": "f1e6cc4ec7ef4f8d847d47f8554cb7c5"
      }
     },
     "metadata": {},
     "output_type": "display_data"
    },
    {
     "data": {
      "application/vnd.jupyter.widget-view+json": {
       "model_id": "dce8657afed84bc2a2ceb813868d17a2"
      }
     },
     "metadata": {},
     "output_type": "display_data"
    },
    {
     "data": {
      "application/vnd.jupyter.widget-view+json": {
       "model_id": "383773d5381a4493bfa2b4507702be2a"
      }
     },
     "metadata": {},
     "output_type": "display_data"
    },
    {
     "data": {
      "application/vnd.jupyter.widget-view+json": {
       "model_id": "670ebc2603d44af3b26bbc378b5759fb"
      }
     },
     "metadata": {},
     "output_type": "display_data"
    },
    {
     "data": {
      "application/vnd.jupyter.widget-view+json": {
       "model_id": "5c297c46f2334073a0472235435f0748"
      }
     },
     "metadata": {},
     "output_type": "display_data"
    },
    {
     "data": {
      "application/vnd.jupyter.widget-view+json": {
       "model_id": "0b6f21ecbc924e4e98c3648d20dd7474"
      }
     },
     "metadata": {},
     "output_type": "display_data"
    },
    {
     "data": {
      "application/vnd.jupyter.widget-view+json": {
       "model_id": "43d830a4ffb4414ab93e0d6a58106fff"
      }
     },
     "metadata": {},
     "output_type": "display_data"
    },
    {
     "data": {
      "application/vnd.jupyter.widget-view+json": {
       "model_id": "480d3d1069614aa6b6b184dd5b12f2e3"
      }
     },
     "metadata": {},
     "output_type": "display_data"
    },
    {
     "data": {
      "application/vnd.jupyter.widget-view+json": {
       "model_id": "fd63af9d2fbe4ab980f395e4fa24604f"
      }
     },
     "metadata": {},
     "output_type": "display_data"
    },
    {
     "data": {
      "application/vnd.jupyter.widget-view+json": {
       "model_id": "dede378e525a4c288676b1bd69895dff"
      }
     },
     "metadata": {},
     "output_type": "display_data"
    },
    {
     "data": {
      "application/vnd.jupyter.widget-view+json": {
       "model_id": "4c64e331c8544a189a4eaa2d4dc3d1ae"
      }
     },
     "metadata": {},
     "output_type": "display_data"
    },
    {
     "data": {
      "application/vnd.jupyter.widget-view+json": {
       "model_id": "bf50076f74ad43cca2e2e461e4168118"
      }
     },
     "metadata": {},
     "output_type": "display_data"
    },
    {
     "data": {
      "application/vnd.jupyter.widget-view+json": {
       "model_id": "681d2f68284243109daf8df262ab7c49"
      }
     },
     "metadata": {},
     "output_type": "display_data"
    },
    {
     "data": {
      "application/vnd.jupyter.widget-view+json": {
       "model_id": "425bc0b59aa34b11812804910edecc68"
      }
     },
     "metadata": {},
     "output_type": "display_data"
    },
    {
     "data": {
      "application/vnd.jupyter.widget-view+json": {
       "model_id": "e2c7aa605e634c3db3a608c8a54149ea"
      }
     },
     "metadata": {},
     "output_type": "display_data"
    },
    {
     "data": {
      "application/vnd.jupyter.widget-view+json": {
       "model_id": "0032534cc31348bdbc32807ed6d67495"
      }
     },
     "metadata": {},
     "output_type": "display_data"
    },
    {
     "data": {
      "application/vnd.jupyter.widget-view+json": {
       "model_id": "058883a7e92e49799752b4bee15ac75e"
      }
     },
     "metadata": {},
     "output_type": "display_data"
    },
    {
     "data": {
      "application/vnd.jupyter.widget-view+json": {
       "model_id": "6cafaece08a14848a816ba7d5e29f789"
      }
     },
     "metadata": {},
     "output_type": "display_data"
    },
    {
     "data": {
      "application/vnd.jupyter.widget-view+json": {
       "model_id": "2d5033dd5d4843e991f0a0ec0fc8340c"
      }
     },
     "metadata": {},
     "output_type": "display_data"
    },
    {
     "data": {
      "application/vnd.jupyter.widget-view+json": {
       "model_id": "24ff91bc26ec4a1fb8b5665f15c9ad74"
      }
     },
     "metadata": {},
     "output_type": "display_data"
    },
    {
     "data": {
      "application/vnd.jupyter.widget-view+json": {
       "model_id": "8ac6f28083904eaf9f9da7a28d8969bc"
      }
     },
     "metadata": {},
     "output_type": "display_data"
    },
    {
     "data": {
      "application/vnd.jupyter.widget-view+json": {
       "model_id": "2504d0b16be5471fa1267822a3d77750"
      }
     },
     "metadata": {},
     "output_type": "display_data"
    },
    {
     "data": {
      "application/vnd.jupyter.widget-view+json": {
       "model_id": "886f00d465644828881a828ca400dca3"
      }
     },
     "metadata": {},
     "output_type": "display_data"
    },
    {
     "data": {
      "application/vnd.jupyter.widget-view+json": {
       "model_id": "9e050f78325942619d30bea3b27e1930"
      }
     },
     "metadata": {},
     "output_type": "display_data"
    },
    {
     "data": {
      "application/vnd.jupyter.widget-view+json": {
       "model_id": "06fd6f995d764f408c9fed1009c7e410"
      }
     },
     "metadata": {},
     "output_type": "display_data"
    },
    {
     "data": {
      "application/vnd.jupyter.widget-view+json": {
       "model_id": "b7d76b8ac681410ebde7a0099b9bff6f"
      }
     },
     "metadata": {},
     "output_type": "display_data"
    },
    {
     "data": {
      "application/vnd.jupyter.widget-view+json": {
       "model_id": "44e8c2df92134526bceb282b8f3b384f"
      }
     },
     "metadata": {},
     "output_type": "display_data"
    },
    {
     "data": {
      "application/vnd.jupyter.widget-view+json": {
       "model_id": "81b52d066fb142c4848c9ce83e69855f"
      }
     },
     "metadata": {},
     "output_type": "display_data"
    },
    {
     "data": {
      "application/vnd.jupyter.widget-view+json": {
       "model_id": "33889801880440b5a74a42ab1e6d6363"
      }
     },
     "metadata": {},
     "output_type": "display_data"
    },
    {
     "data": {
      "application/vnd.jupyter.widget-view+json": {
       "model_id": "b1155b27ce154b03a4587f8e517e497a"
      }
     },
     "metadata": {},
     "output_type": "display_data"
    },
    {
     "data": {
      "application/vnd.jupyter.widget-view+json": {
       "model_id": "ab66da02d619416ca2a2e9e52d9b3347"
      }
     },
     "metadata": {},
     "output_type": "display_data"
    },
    {
     "data": {
      "application/vnd.jupyter.widget-view+json": {
       "model_id": "e0318710ea6449bc8dc6894e22337792"
      }
     },
     "metadata": {},
     "output_type": "display_data"
    },
    {
     "data": {
      "application/vnd.jupyter.widget-view+json": {
       "model_id": "e3a9c801dc424461a1afe71e5a908be2"
      }
     },
     "metadata": {},
     "output_type": "display_data"
    },
    {
     "data": {
      "application/vnd.jupyter.widget-view+json": {
       "model_id": "03624cdfb5ba44aa86eac4c11270f988"
      }
     },
     "metadata": {},
     "output_type": "display_data"
    },
    {
     "data": {
      "application/vnd.jupyter.widget-view+json": {
       "model_id": "d9f1518414c04098a39c5763192307a4"
      }
     },
     "metadata": {},
     "output_type": "display_data"
    },
    {
     "data": {
      "application/vnd.jupyter.widget-view+json": {
       "model_id": "74a4bbab44664326a19347050bd52d68"
      }
     },
     "metadata": {},
     "output_type": "display_data"
    },
    {
     "data": {
      "application/vnd.jupyter.widget-view+json": {
       "model_id": "efadcecd21934d3e93f9685a68e1d233"
      }
     },
     "metadata": {},
     "output_type": "display_data"
    },
    {
     "data": {
      "application/vnd.jupyter.widget-view+json": {
       "model_id": "87ec31ee56174d7e9e292feafd0ae215"
      }
     },
     "metadata": {},
     "output_type": "display_data"
    },
    {
     "data": {
      "application/vnd.jupyter.widget-view+json": {
       "model_id": "6e9c40192cc045979e7261ed538702af"
      }
     },
     "metadata": {},
     "output_type": "display_data"
    },
    {
     "data": {
      "application/vnd.jupyter.widget-view+json": {
       "model_id": "72b4533e17f949ce9e4ec76348f641e6"
      }
     },
     "metadata": {},
     "output_type": "display_data"
    },
    {
     "data": {
      "application/vnd.jupyter.widget-view+json": {
       "model_id": "af5d8a93dd7440d9b7240bf637e49cbc"
      }
     },
     "metadata": {},
     "output_type": "display_data"
    },
    {
     "data": {
      "application/vnd.jupyter.widget-view+json": {
       "model_id": "f4571129279c4b5ca1b7efd230eb17b5"
      }
     },
     "metadata": {},
     "output_type": "display_data"
    },
    {
     "data": {
      "application/vnd.jupyter.widget-view+json": {
       "model_id": "da032c72b98a487a95aa52584771c076"
      }
     },
     "metadata": {},
     "output_type": "display_data"
    },
    {
     "data": {
      "application/vnd.jupyter.widget-view+json": {
       "model_id": "7bb97f95e2444b26b75912802ae004a4"
      }
     },
     "metadata": {},
     "output_type": "display_data"
    },
    {
     "data": {
      "application/vnd.jupyter.widget-view+json": {
       "model_id": "43980e5ef75945ec914ef9cc6cd840fa"
      }
     },
     "metadata": {},
     "output_type": "display_data"
    },
    {
     "data": {
      "application/vnd.jupyter.widget-view+json": {
       "model_id": "a56019a83bc9401795aab4fb5e2acb94"
      }
     },
     "metadata": {},
     "output_type": "display_data"
    },
    {
     "data": {
      "application/vnd.jupyter.widget-view+json": {
       "model_id": "9517b8a469054cd99d06e04b779e5a25"
      }
     },
     "metadata": {},
     "output_type": "display_data"
    },
    {
     "data": {
      "application/vnd.jupyter.widget-view+json": {
       "model_id": "d47b90a866fb4bfc963e1f56ea577ea3"
      }
     },
     "metadata": {},
     "output_type": "display_data"
    },
    {
     "data": {
      "application/vnd.jupyter.widget-view+json": {
       "model_id": "88a790cfd9ae42e69d8c2bc50614e007"
      }
     },
     "metadata": {},
     "output_type": "display_data"
    },
    {
     "data": {
      "application/vnd.jupyter.widget-view+json": {
       "model_id": "db71a389b8ae420ea7310f38ea5c65e6"
      }
     },
     "metadata": {},
     "output_type": "display_data"
    },
    {
     "data": {
      "application/vnd.jupyter.widget-view+json": {
       "model_id": "7ae104eba66f453b806816c882554dae"
      }
     },
     "metadata": {},
     "output_type": "display_data"
    },
    {
     "data": {
      "application/vnd.jupyter.widget-view+json": {
       "model_id": "fc65341874e340e7ae534f187bcd7854"
      }
     },
     "metadata": {},
     "output_type": "display_data"
    },
    {
     "data": {
      "application/vnd.jupyter.widget-view+json": {
       "model_id": "c6cb5130c05649f18c60827d3b9a8a85"
      }
     },
     "metadata": {},
     "output_type": "display_data"
    },
    {
     "data": {
      "application/vnd.jupyter.widget-view+json": {
       "model_id": "42fc2b9e15914b0893db70fa87f4f6a8"
      }
     },
     "metadata": {},
     "output_type": "display_data"
    },
    {
     "data": {
      "application/vnd.jupyter.widget-view+json": {
       "model_id": "844b3922a6244cc2836c2c1a326610c3"
      }
     },
     "metadata": {},
     "output_type": "display_data"
    },
    {
     "data": {
      "application/vnd.jupyter.widget-view+json": {
       "model_id": "e39e5ee678e044f8a5287b65ab983957"
      }
     },
     "metadata": {},
     "output_type": "display_data"
    },
    {
     "data": {
      "application/vnd.jupyter.widget-view+json": {
       "model_id": "33a8a8106dfc4219aa92804c6eb40515"
      }
     },
     "metadata": {},
     "output_type": "display_data"
    },
    {
     "data": {
      "application/vnd.jupyter.widget-view+json": {
       "model_id": "f8a71847aef841a689b9518fae815e78"
      }
     },
     "metadata": {},
     "output_type": "display_data"
    },
    {
     "data": {
      "application/vnd.jupyter.widget-view+json": {
       "model_id": "e753f79d92c445db8533da7ecfd89afc"
      }
     },
     "metadata": {},
     "output_type": "display_data"
    },
    {
     "data": {
      "application/vnd.jupyter.widget-view+json": {
       "model_id": "214dc8d901b8453a833222947dbf74d4"
      }
     },
     "metadata": {},
     "output_type": "display_data"
    },
    {
     "data": {
      "application/vnd.jupyter.widget-view+json": {
       "model_id": "5342936b29374a1896daecbf54c8e077"
      }
     },
     "metadata": {},
     "output_type": "display_data"
    },
    {
     "data": {
      "application/vnd.jupyter.widget-view+json": {
       "model_id": "bfc17ee8496c4e7a999a14224fdd7646"
      }
     },
     "metadata": {},
     "output_type": "display_data"
    },
    {
     "data": {
      "application/vnd.jupyter.widget-view+json": {
       "model_id": "b2df8176a34247e29ade043a0ab99857"
      }
     },
     "metadata": {},
     "output_type": "display_data"
    },
    {
     "data": {
      "application/vnd.jupyter.widget-view+json": {
       "model_id": "2ffe72c4a2e543ecab158014ee9100bb"
      }
     },
     "metadata": {},
     "output_type": "display_data"
    },
    {
     "data": {
      "application/vnd.jupyter.widget-view+json": {
       "model_id": "c4d520cc819d41ce815e906b49646560"
      }
     },
     "metadata": {},
     "output_type": "display_data"
    },
    {
     "name": "stdout",
     "output_type": "stream",
     "text": [
      "\n",
      "model saved\n"
     ]
    }
   ],
   "source": [
    "# Train the model, iterating on the data in batches of 32 samples\n",
    "tqdm = TQDMNotebookCallback()\n",
    "\n",
    "tbCallBack = keras.callbacks.TensorBoard(\n",
    "    log_dir='/Users/jaco/code/tabby/exotic/{}/summary/{}'.format(version, tag), \n",
    "    histogram_freq=0,\n",
    "    write_graph=True,\n",
    "    write_images=True)\n",
    "\n",
    "model.fit(\n",
    "    X.as_matrix(), \n",
    "    Y.as_matrix(),\n",
    "    validation_split=0.2,\n",
    "    shuffle=True,\n",
    "    epochs=epochs,\n",
    "    batch_size=32,\n",
    "    verbose=0,\n",
    "    callbacks=[tqdm, tbCallBack])\n",
    "\n",
    "# creates a HDF5 file\n",
    "model.save(file_name)\n",
    "print('model saved')"
   ]
  }
 ],
 "metadata": {
  "kernelspec": {
   "display_name": "Python 3",
   "language": "python",
   "name": "python3"
  },
  "language_info": {
   "codemirror_mode": {
    "name": "ipython",
    "version": 3
   },
   "file_extension": ".py",
   "mimetype": "text/x-python",
   "name": "python",
   "nbconvert_exporter": "python",
   "pygments_lexer": "ipython3",
   "version": "3.6.1"
  }
 },
 "nbformat": 4,
 "nbformat_minor": 2
}
