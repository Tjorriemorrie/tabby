{
 "cells": [
  {
   "cell_type": "code",
   "execution_count": 96,
   "metadata": {
    "collapsed": true
   },
   "outputs": [],
   "source": [
    "from sqlalchemy import create_engine\n",
    "from operator import itemgetter\n",
    "from itertools import permutations\n",
    "import json\n",
    "import math\n",
    "import time\n",
    "import random\n",
    "\n",
    "import pandas as pd\n",
    "import numpy as np\n",
    "#import seaborn as sns\n",
    "from sklearn import linear_model\n",
    "from skopt import gp_minimize\n",
    "import scipy as sp\n",
    "import matplotlib.pyplot as plt\n",
    "%matplotlib inline\n",
    "\n",
    "np.set_printoptions(precision=6, suppress=True)"
   ]
  },
  {
   "cell_type": "code",
   "execution_count": 33,
   "metadata": {
    "collapsed": true
   },
   "outputs": [],
   "source": [
    "race_type = 'R'\n",
    "# category = 'G'\n",
    "# category = 'H'\n",
    "\n",
    "bet_type = 'E'\n",
    "# bet_type = 'Q'\n",
    "\n",
    "r = 2"
   ]
  },
  {
   "cell_type": "code",
   "execution_count": 11,
   "metadata": {},
   "outputs": [
    {
     "name": "stdout",
     "output_type": "stream",
     "text": [
      "386174 exotics loaded!\n"
     ]
    }
   ],
   "source": [
    "engine = create_engine('sqlite:///../../data/exotic.db')\n",
    "conn = engine.connect()\n",
    "\n",
    "dfo = pd.read_sql_table('exotic', conn)\n",
    "print('{} exotics loaded!'.format(len(dfo)))"
   ]
  },
  {
   "cell_type": "code",
   "execution_count": 12,
   "metadata": {},
   "outputs": [
    {
     "name": "stdout",
     "output_type": "stream",
     "text": [
      "386174 R races for E betting!\n"
     ]
    }
   ],
   "source": [
    "df = dfo.loc[dfo['race_type'].isin([race_type])]\n",
    "print('{} {} races for {} betting!'.format(len(df), race_type, bet_type))"
   ]
  },
  {
   "cell_type": "code",
   "execution_count": 13,
   "metadata": {},
   "outputs": [
    {
     "data": {
      "text/html": [
       "<div>\n",
       "<style>\n",
       "    .dataframe thead tr:only-child th {\n",
       "        text-align: right;\n",
       "    }\n",
       "\n",
       "    .dataframe thead th {\n",
       "        text-align: left;\n",
       "    }\n",
       "\n",
       "    .dataframe tbody tr th {\n",
       "        vertical-align: top;\n",
       "    }\n",
       "</style>\n",
       "<table border=\"1\" class=\"dataframe\">\n",
       "  <thead>\n",
       "    <tr style=\"text-align: right;\">\n",
       "      <th></th>\n",
       "      <th>id</th>\n",
       "      <th>race_id</th>\n",
       "      <th>runner_numbers</th>\n",
       "      <th>race_type</th>\n",
       "      <th>bet_type</th>\n",
       "      <th>res1</th>\n",
       "      <th>res2</th>\n",
       "      <th>res3</th>\n",
       "      <th>res4</th>\n",
       "      <th>num_runners</th>\n",
       "      <th>...</th>\n",
       "      <th>run4_num</th>\n",
       "      <th>run4_win_perc</th>\n",
       "      <th>run4_win_scaled</th>\n",
       "      <th>run4_win_rank</th>\n",
       "      <th>run4_place_perc</th>\n",
       "      <th>run4_place_scaled</th>\n",
       "      <th>run4_place_rank</th>\n",
       "      <th>prediction</th>\n",
       "      <th>success</th>\n",
       "      <th>dividend</th>\n",
       "    </tr>\n",
       "  </thead>\n",
       "  <tbody>\n",
       "    <tr>\n",
       "      <th>386164</th>\n",
       "      <td>386165</td>\n",
       "      <td>47713</td>\n",
       "      <td>2,4,7,3,8,5,1,6</td>\n",
       "      <td>R</td>\n",
       "      <td>E</td>\n",
       "      <td>3</td>\n",
       "      <td>4</td>\n",
       "      <td>7</td>\n",
       "      <td>2</td>\n",
       "      <td>8.0</td>\n",
       "      <td>...</td>\n",
       "      <td>None</td>\n",
       "      <td>NaN</td>\n",
       "      <td>NaN</td>\n",
       "      <td>NaN</td>\n",
       "      <td>NaN</td>\n",
       "      <td>NaN</td>\n",
       "      <td>NaN</td>\n",
       "      <td>0.013790</td>\n",
       "      <td>0</td>\n",
       "      <td>27.4</td>\n",
       "    </tr>\n",
       "    <tr>\n",
       "      <th>386165</th>\n",
       "      <td>386166</td>\n",
       "      <td>47713</td>\n",
       "      <td>2,4,7,3,8,5,1,6</td>\n",
       "      <td>R</td>\n",
       "      <td>E</td>\n",
       "      <td>3</td>\n",
       "      <td>4</td>\n",
       "      <td>7</td>\n",
       "      <td>2</td>\n",
       "      <td>8.0</td>\n",
       "      <td>...</td>\n",
       "      <td>None</td>\n",
       "      <td>NaN</td>\n",
       "      <td>NaN</td>\n",
       "      <td>NaN</td>\n",
       "      <td>NaN</td>\n",
       "      <td>NaN</td>\n",
       "      <td>NaN</td>\n",
       "      <td>0.009348</td>\n",
       "      <td>0</td>\n",
       "      <td>27.4</td>\n",
       "    </tr>\n",
       "    <tr>\n",
       "      <th>386166</th>\n",
       "      <td>386167</td>\n",
       "      <td>47713</td>\n",
       "      <td>2,4,7,3,8,5,1,6</td>\n",
       "      <td>R</td>\n",
       "      <td>E</td>\n",
       "      <td>3</td>\n",
       "      <td>4</td>\n",
       "      <td>7</td>\n",
       "      <td>2</td>\n",
       "      <td>8.0</td>\n",
       "      <td>...</td>\n",
       "      <td>None</td>\n",
       "      <td>NaN</td>\n",
       "      <td>NaN</td>\n",
       "      <td>NaN</td>\n",
       "      <td>NaN</td>\n",
       "      <td>NaN</td>\n",
       "      <td>NaN</td>\n",
       "      <td>0.008661</td>\n",
       "      <td>0</td>\n",
       "      <td>27.4</td>\n",
       "    </tr>\n",
       "    <tr>\n",
       "      <th>386167</th>\n",
       "      <td>386168</td>\n",
       "      <td>47713</td>\n",
       "      <td>2,4,7,3,8,5,1,6</td>\n",
       "      <td>R</td>\n",
       "      <td>E</td>\n",
       "      <td>3</td>\n",
       "      <td>4</td>\n",
       "      <td>7</td>\n",
       "      <td>2</td>\n",
       "      <td>8.0</td>\n",
       "      <td>...</td>\n",
       "      <td>None</td>\n",
       "      <td>NaN</td>\n",
       "      <td>NaN</td>\n",
       "      <td>NaN</td>\n",
       "      <td>NaN</td>\n",
       "      <td>NaN</td>\n",
       "      <td>NaN</td>\n",
       "      <td>0.004337</td>\n",
       "      <td>0</td>\n",
       "      <td>27.4</td>\n",
       "    </tr>\n",
       "    <tr>\n",
       "      <th>386168</th>\n",
       "      <td>386169</td>\n",
       "      <td>47713</td>\n",
       "      <td>2,4,7,3,8,5,1,6</td>\n",
       "      <td>R</td>\n",
       "      <td>E</td>\n",
       "      <td>3</td>\n",
       "      <td>4</td>\n",
       "      <td>7</td>\n",
       "      <td>2</td>\n",
       "      <td>8.0</td>\n",
       "      <td>...</td>\n",
       "      <td>None</td>\n",
       "      <td>NaN</td>\n",
       "      <td>NaN</td>\n",
       "      <td>NaN</td>\n",
       "      <td>NaN</td>\n",
       "      <td>NaN</td>\n",
       "      <td>NaN</td>\n",
       "      <td>0.002519</td>\n",
       "      <td>0</td>\n",
       "      <td>27.4</td>\n",
       "    </tr>\n",
       "    <tr>\n",
       "      <th>386169</th>\n",
       "      <td>386170</td>\n",
       "      <td>47713</td>\n",
       "      <td>2,4,7,3,8,5,1,6</td>\n",
       "      <td>R</td>\n",
       "      <td>E</td>\n",
       "      <td>3</td>\n",
       "      <td>4</td>\n",
       "      <td>7</td>\n",
       "      <td>2</td>\n",
       "      <td>8.0</td>\n",
       "      <td>...</td>\n",
       "      <td>None</td>\n",
       "      <td>NaN</td>\n",
       "      <td>NaN</td>\n",
       "      <td>NaN</td>\n",
       "      <td>NaN</td>\n",
       "      <td>NaN</td>\n",
       "      <td>NaN</td>\n",
       "      <td>0.002019</td>\n",
       "      <td>0</td>\n",
       "      <td>27.4</td>\n",
       "    </tr>\n",
       "    <tr>\n",
       "      <th>386170</th>\n",
       "      <td>386171</td>\n",
       "      <td>47713</td>\n",
       "      <td>2,4,7,3,8,5,1,6</td>\n",
       "      <td>R</td>\n",
       "      <td>E</td>\n",
       "      <td>3</td>\n",
       "      <td>4</td>\n",
       "      <td>7</td>\n",
       "      <td>2</td>\n",
       "      <td>8.0</td>\n",
       "      <td>...</td>\n",
       "      <td>None</td>\n",
       "      <td>NaN</td>\n",
       "      <td>NaN</td>\n",
       "      <td>NaN</td>\n",
       "      <td>NaN</td>\n",
       "      <td>NaN</td>\n",
       "      <td>NaN</td>\n",
       "      <td>0.001461</td>\n",
       "      <td>0</td>\n",
       "      <td>27.4</td>\n",
       "    </tr>\n",
       "    <tr>\n",
       "      <th>386171</th>\n",
       "      <td>386172</td>\n",
       "      <td>47713</td>\n",
       "      <td>2,4,7,3,8,5,1,6</td>\n",
       "      <td>R</td>\n",
       "      <td>E</td>\n",
       "      <td>3</td>\n",
       "      <td>4</td>\n",
       "      <td>7</td>\n",
       "      <td>2</td>\n",
       "      <td>8.0</td>\n",
       "      <td>...</td>\n",
       "      <td>None</td>\n",
       "      <td>NaN</td>\n",
       "      <td>NaN</td>\n",
       "      <td>NaN</td>\n",
       "      <td>NaN</td>\n",
       "      <td>NaN</td>\n",
       "      <td>NaN</td>\n",
       "      <td>0.001101</td>\n",
       "      <td>0</td>\n",
       "      <td>27.4</td>\n",
       "    </tr>\n",
       "    <tr>\n",
       "      <th>386172</th>\n",
       "      <td>386173</td>\n",
       "      <td>47713</td>\n",
       "      <td>2,4,7,3,8,5,1,6</td>\n",
       "      <td>R</td>\n",
       "      <td>E</td>\n",
       "      <td>3</td>\n",
       "      <td>4</td>\n",
       "      <td>7</td>\n",
       "      <td>2</td>\n",
       "      <td>8.0</td>\n",
       "      <td>...</td>\n",
       "      <td>None</td>\n",
       "      <td>NaN</td>\n",
       "      <td>NaN</td>\n",
       "      <td>NaN</td>\n",
       "      <td>NaN</td>\n",
       "      <td>NaN</td>\n",
       "      <td>NaN</td>\n",
       "      <td>0.000774</td>\n",
       "      <td>0</td>\n",
       "      <td>27.4</td>\n",
       "    </tr>\n",
       "    <tr>\n",
       "      <th>386173</th>\n",
       "      <td>386174</td>\n",
       "      <td>47713</td>\n",
       "      <td>2,4,7,3,8,5,1,6</td>\n",
       "      <td>R</td>\n",
       "      <td>E</td>\n",
       "      <td>3</td>\n",
       "      <td>4</td>\n",
       "      <td>7</td>\n",
       "      <td>2</td>\n",
       "      <td>8.0</td>\n",
       "      <td>...</td>\n",
       "      <td>None</td>\n",
       "      <td>NaN</td>\n",
       "      <td>NaN</td>\n",
       "      <td>NaN</td>\n",
       "      <td>NaN</td>\n",
       "      <td>NaN</td>\n",
       "      <td>NaN</td>\n",
       "      <td>0.000298</td>\n",
       "      <td>0</td>\n",
       "      <td>27.4</td>\n",
       "    </tr>\n",
       "  </tbody>\n",
       "</table>\n",
       "<p>10 rows × 41 columns</p>\n",
       "</div>"
      ],
      "text/plain": [
       "            id  race_id   runner_numbers race_type bet_type  res1  res2  res3  \\\n",
       "386164  386165    47713  2,4,7,3,8,5,1,6         R        E     3     4     7   \n",
       "386165  386166    47713  2,4,7,3,8,5,1,6         R        E     3     4     7   \n",
       "386166  386167    47713  2,4,7,3,8,5,1,6         R        E     3     4     7   \n",
       "386167  386168    47713  2,4,7,3,8,5,1,6         R        E     3     4     7   \n",
       "386168  386169    47713  2,4,7,3,8,5,1,6         R        E     3     4     7   \n",
       "386169  386170    47713  2,4,7,3,8,5,1,6         R        E     3     4     7   \n",
       "386170  386171    47713  2,4,7,3,8,5,1,6         R        E     3     4     7   \n",
       "386171  386172    47713  2,4,7,3,8,5,1,6         R        E     3     4     7   \n",
       "386172  386173    47713  2,4,7,3,8,5,1,6         R        E     3     4     7   \n",
       "386173  386174    47713  2,4,7,3,8,5,1,6         R        E     3     4     7   \n",
       "\n",
       "        res4  num_runners    ...     run4_num  run4_win_perc  run4_win_scaled  \\\n",
       "386164     2          8.0    ...         None            NaN              NaN   \n",
       "386165     2          8.0    ...         None            NaN              NaN   \n",
       "386166     2          8.0    ...         None            NaN              NaN   \n",
       "386167     2          8.0    ...         None            NaN              NaN   \n",
       "386168     2          8.0    ...         None            NaN              NaN   \n",
       "386169     2          8.0    ...         None            NaN              NaN   \n",
       "386170     2          8.0    ...         None            NaN              NaN   \n",
       "386171     2          8.0    ...         None            NaN              NaN   \n",
       "386172     2          8.0    ...         None            NaN              NaN   \n",
       "386173     2          8.0    ...         None            NaN              NaN   \n",
       "\n",
       "        run4_win_rank  run4_place_perc  run4_place_scaled  run4_place_rank  \\\n",
       "386164            NaN              NaN                NaN              NaN   \n",
       "386165            NaN              NaN                NaN              NaN   \n",
       "386166            NaN              NaN                NaN              NaN   \n",
       "386167            NaN              NaN                NaN              NaN   \n",
       "386168            NaN              NaN                NaN              NaN   \n",
       "386169            NaN              NaN                NaN              NaN   \n",
       "386170            NaN              NaN                NaN              NaN   \n",
       "386171            NaN              NaN                NaN              NaN   \n",
       "386172            NaN              NaN                NaN              NaN   \n",
       "386173            NaN              NaN                NaN              NaN   \n",
       "\n",
       "        prediction  success  dividend  \n",
       "386164    0.013790        0      27.4  \n",
       "386165    0.009348        0      27.4  \n",
       "386166    0.008661        0      27.4  \n",
       "386167    0.004337        0      27.4  \n",
       "386168    0.002519        0      27.4  \n",
       "386169    0.002019        0      27.4  \n",
       "386170    0.001461        0      27.4  \n",
       "386171    0.001101        0      27.4  \n",
       "386172    0.000774        0      27.4  \n",
       "386173    0.000298        0      27.4  \n",
       "\n",
       "[10 rows x 41 columns]"
      ]
     },
     "execution_count": 13,
     "metadata": {},
     "output_type": "execute_result"
    }
   ],
   "source": [
    "df.tail(10)"
   ]
  },
  {
   "cell_type": "code",
   "execution_count": 98,
   "metadata": {
    "collapsed": true
   },
   "outputs": [],
   "source": [
    "# bet size\n",
    "balance = 1000\n",
    "bet_chunk = balance * 0.01\n",
    "grouped = df.groupby('race_id')"
   ]
  },
  {
   "cell_type": "code",
   "execution_count": 112,
   "metadata": {
    "collapsed": true
   },
   "outputs": [],
   "source": [
    "def bet_combinations(combs, r, x):\n",
    "    \"\"\"create prediction box\"\"\"\n",
    "\n",
    "#     print(combs)\n",
    "    runner_numbers = combs[0]['runner_numbers'].split(',')\n",
    "#     print(runner_numbers)\n",
    "\n",
    "    # start betting on all and cut off worse runner till positive outcome\n",
    "    for box_size in range(len(runner_numbers), r, -1):\n",
    "\n",
    "        # recreate smaller pool\n",
    "        pool = runner_numbers[:box_size]\n",
    "        pool = list(map(int, pool))\n",
    "#         print('pool is {} from {} box size'.format(len(pool), box_size))\n",
    "        \n",
    "        # get all combs for pool\n",
    "        subset = [c for c in combs if c['run1_num'] in pool and c['run2_num'] in pool]\n",
    "#         print('subset of {} combs'.format(len(subset)))\n",
    "        \n",
    "        # get predictions\n",
    "        preds = sorted(s['prediction'] for s in subset)\n",
    "#         print('predictions: {}'.format(preds))\n",
    "\n",
    "        # get percentiles\n",
    "        percs = np.percentile(preds, [20, 50, 80])\n",
    "#         print('percs {}'.format(percs))\n",
    "        \n",
    "        # break perc > x\n",
    "        if all(pi > xi for xi, pi in zip(x, percs)):\n",
    "            return pool"
   ]
  },
  {
   "cell_type": "code",
   "execution_count": 90,
   "metadata": {
    "collapsed": true
   },
   "outputs": [],
   "source": [
    "def bet_results(combs, box):\n",
    "    \"\"\"get results for box on combs\"\"\"\n",
    "\n",
    "    perms = list(permutations(box, r))\n",
    "    \n",
    "    # profit start with loss of bet made\n",
    "    outcome = {\n",
    "        'success': 0,\n",
    "        'profit': -1 * len(perms),\n",
    "        'box_size': len(box),\n",
    "    }\n",
    "    \n",
    "    # get winner comb\n",
    "    comb_win = [c for i, c in combs.iterrows() if c['success']]\n",
    "    if len(comb_win) != 1:\n",
    "        return\n",
    "    comb = comb_win[0]\n",
    "    \n",
    "    # get dividend\n",
    "    if comb['run1_num'] in box and comb['run2_num'] in box:\n",
    "        outcome['success'] = 1\n",
    "        outcome['profit'] += comb['dividend']\n",
    "    \n",
    "    return outcome"
   ]
  },
  {
   "cell_type": "code",
   "execution_count": 106,
   "metadata": {
    "collapsed": true
   },
   "outputs": [],
   "source": [
    "def process_strategy(x, cutoff=1):\n",
    "    book = []\n",
    "    for _, group in grouped:\n",
    "        # cut sample\n",
    "        if random.random() > cutoff:\n",
    "            continue\n",
    "        box = bet_combinations(group.to_dict(orient='records'), r, x)\n",
    "        if not box:\n",
    "#             print('no box for race {}'.format(_))\n",
    "            continue\n",
    "#         print('box {}'.format(box))        \n",
    "        outcome = bet_results(group, box)\n",
    "        if outcome:\n",
    "            book.append(outcome)\n",
    "#     print('Lost {} races'.format(len(grouped) - len(book)))\n",
    "    return pd.DataFrame(book)"
   ]
  },
  {
   "cell_type": "code",
   "execution_count": 113,
   "metadata": {},
   "outputs": [
    {
     "name": "stdout",
     "output_type": "stream",
     "text": [
      "optimizing..........................................................................................................................................................................................................................................................................................................................................................................................................................................................................................................................................................................................................................................................................................x: [ 0.00025 -0.       0.     ]\n",
      "done: took 648s\n"
     ]
    }
   ],
   "source": [
    "def f(x):\n",
    "    print('.', end='')\n",
    "    cutoff = 1 / len(grouped)\n",
    "    book_df = process_strategy(x, cutoff)\n",
    "#     print(book_df)\n",
    "    if not len(book_df):\n",
    "        return 0\n",
    "    profit = book_df.profit.sum()\n",
    "    return profit / len(grouped) * -1\n",
    "    \n",
    "\n",
    "print('optimizing', end='')\n",
    "time_start = time.time()\n",
    "\n",
    "x, *grid = sp.optimize.brute(f, np.s_[0:1:4j, 0:1:4j, 0:1:4j], full_output=True)\n",
    "print('x: {}'.format(x))\n",
    "# print('grid: {}'.format(grid))\n",
    "\n",
    "print('done: took {:.0f}s'.format((time.time() - time_start)))"
   ]
  },
  {
   "cell_type": "code",
   "execution_count": 114,
   "metadata": {
    "scrolled": true
   },
   "outputs": [
    {
     "name": "stdout",
     "output_type": "stream",
     "text": [
      "race type: R\n",
      "bet type: E\n",
      "x: [ 0.00025 -0.       0.     ]\n",
      "$-26.79 profit per race\n",
      "59% of races 4385 / 7490\n"
     ]
    }
   ],
   "source": [
    "print('race type: {}'.format(race_type))\n",
    "print('bet type: {}'.format(bet_type))\n",
    "print('x: {}'.format(x))\n",
    "df = process_strategy(x)\n",
    "print('${:.2f} profit per race'.format(df.profit.sum() / len(grouped)))\n",
    "print('{:.0f}% of races {} / {}'.format(len(df) / len(grouped) * 100, len(df), len(grouped)))"
   ]
  },
  {
   "cell_type": "code",
   "execution_count": null,
   "metadata": {
    "collapsed": true
   },
   "outputs": [],
   "source": [
    "df['ones'] = np.ones(len(df))\n",
    "df['win_rate'] = df.success.cumsum() / df.ones.cumsum()\n",
    "win_title = '{:.0f}% win rate'.format(df.win_rate.iloc[-1] * 100)\n",
    "df.win_rate.plot(title=win_title, xlim=(100), ylim=(0, 1))"
   ]
  },
  {
   "cell_type": "code",
   "execution_count": null,
   "metadata": {
    "collapsed": true
   },
   "outputs": [],
   "source": [
    "# ROI\n",
    "roi = df.profit.rolling(20).sum() / df.bet_chunk.rolling(20).sum()\n",
    "roi.plot(xlim=(100), ylim=(-1, 1), alpha=0.3)\n",
    "roi = df.profit.cumsum() / df.bet_chunk.cumsum()\n",
    "roi_title = '{:.1f}% ROI'.format(roi.iloc[-1] * 100)\n",
    "roi.plot(xlim=(100), ylim=(-1, 1), title=roi_title)"
   ]
  },
  {
   "cell_type": "code",
   "execution_count": null,
   "metadata": {
    "collapsed": true
   },
   "outputs": [],
   "source": [
    "# profit per num bets \n",
    "df.num_bets.plot(kind='hist', title='# bets')\n",
    "groups = df.groupby('num_bets').mean()\n",
    "groups.plot(kind='bar', y='success', title='Win rate per #bets')\n",
    "groups.plot(kind='bar', y='profit', title='Profit per #bets')"
   ]
  },
  {
   "cell_type": "code",
   "execution_count": null,
   "metadata": {
    "collapsed": true
   },
   "outputs": [],
   "source": [
    "# profit per num runners\n",
    "df.num_runners.hist()\n",
    "groups = df.groupby('num_runners').mean()\n",
    "groups.plot(kind='bar', y='success', title='Win rate per #runners')\n",
    "groups.plot(kind='bar', y='profit', title='Profit per #runners')"
   ]
  },
  {
   "cell_type": "code",
   "execution_count": null,
   "metadata": {
    "collapsed": true
   },
   "outputs": [],
   "source": [
    "# max diff\n",
    "df.win_diff.plot(kind='hist', bins=200, alpha=0.6, ylim=(0, 100), xlim=(0, 0.3))\n",
    "df.max_diff.plot(kind='hist', bins=200, alpha=0.2, ylim=(0, 100), xlim=(0, 0.3))"
   ]
  },
  {
   "cell_type": "code",
   "execution_count": null,
   "metadata": {
    "collapsed": true
   },
   "outputs": [],
   "source": [
    "# df.profit.plot(kind='hist', bins=50, xlim=(-5), ylim=(0, 140))\n",
    "df.profit.rolling(100).sum().plot(alpha=0.4)\n",
    "df.profit.cumsum().plot(alpha=0.8)"
   ]
  },
  {
   "cell_type": "code",
   "execution_count": null,
   "metadata": {
    "collapsed": true
   },
   "outputs": [],
   "source": [
    "# bets/runners\n",
    "df['bets_vs_runners'] = df.num_bets / df.num_runners\n",
    "df['bets_vs_runners'].hist(bins=10)\n",
    "groups = df.groupby(df['bets_vs_runners'].apply(lambda x: round(x, 3))).sum()\n",
    "groups.plot(kind='line', y='profit', title='mean profit/bets_per_runners')"
   ]
  },
  {
   "cell_type": "code",
   "execution_count": null,
   "metadata": {
    "collapsed": true
   },
   "outputs": [],
   "source": [
    "# # pred vs scale\n",
    "# df['prob_vs_scale'] = df.pr / df.num_runners\n",
    "# df['bets_vs_runners'].hist(bins=10)\n",
    "# groups = df.groupby(df['bets_vs_runners'].apply(lambda x: round(x, 3))).sum()\n",
    "# groups.plot(kind='line', y='profit', title='mean profit/bets_per_runners')"
   ]
  },
  {
   "cell_type": "code",
   "execution_count": null,
   "metadata": {
    "collapsed": true
   },
   "outputs": [],
   "source": [
    "df.prob2scale.plot(kind='hist', bins=500, title='min prob2scale', xlim=(1, 1.5))\n",
    "groups = df.groupby(df['prob2scale'].apply(lambda x: round(x, 1))).mean()\n",
    "groups.plot(kind='bar', y='profit', title='profit / prob2scale')\n",
    "groups.plot(kind='bar', y='win_rate', title='winrate / prob2scale')\n",
    "\n",
    "groups_sum = df.groupby(df['prob2scale'].apply(lambda x: round(x, 1))).sum()\n",
    "groups_sum.plot(kind='bar', y='profit', title='sum profit / prob2scale')"
   ]
  },
  {
   "cell_type": "code",
   "execution_count": null,
   "metadata": {
    "collapsed": true
   },
   "outputs": [],
   "source": [
    "df.prob0scale.plot(kind='hist', bins=50, title='min prob0scale')\n",
    "groups = df.groupby(df['prob0scale'].apply(lambda x: round(x, 2))).mean()\n",
    "groups.plot(kind='bar', y='profit', title='profit / prob0scale')\n",
    "groups.plot(kind='bar', y='win_rate', title='winrate / prob0scale')\n",
    "\n",
    "groups_sum = df.groupby(df['prob0scale'].apply(lambda x: round(x, 2))).sum()\n",
    "groups_sum.plot(kind='bar', y='profit', title='total profit')"
   ]
  }
 ],
 "metadata": {
  "kernelspec": {
   "display_name": "Python 3",
   "language": "python",
   "name": "python3"
  },
  "language_info": {
   "codemirror_mode": {
    "name": "ipython",
    "version": 3
   },
   "file_extension": ".py",
   "mimetype": "text/x-python",
   "name": "python",
   "nbconvert_exporter": "python",
   "pygments_lexer": "ipython3",
   "version": "3.6.1"
  }
 },
 "nbformat": 4,
 "nbformat_minor": 2
}
