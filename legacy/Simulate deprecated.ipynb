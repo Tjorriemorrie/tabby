{
 "cells": [
  {
   "cell_type": "code",
   "execution_count": 1,
   "metadata": {
    "collapsed": true
   },
   "outputs": [],
   "source": [
    "from sqlalchemy import create_engine\n",
    "from operator import itemgetter\n",
    "import json\n",
    "import math\n",
    "\n",
    "import pandas as pd\n",
    "import numpy as np\n",
    "#import seaborn as sns\n",
    "import matplotlib.pyplot as plt\n",
    "%matplotlib inline"
   ]
  },
  {
   "cell_type": "code",
   "execution_count": 2,
   "metadata": {},
   "outputs": [
    {
     "name": "stdout",
     "output_type": "stream",
     "text": [
      "9587 races loaded!\n"
     ]
    }
   ],
   "source": [
    "engine = create_engine('sqlite:///tab.db')\n",
    "conn = engine.connect()\n",
    "\n",
    "dfo = pd.read_sql_table('race', conn)\n",
    "print('{} races loaded!'.format(len(dfo)))"
   ]
  },
  {
   "cell_type": "code",
   "execution_count": 3,
   "metadata": {},
   "outputs": [
    {
     "name": "stdout",
     "output_type": "stream",
     "text": [
      "3160 R races!\n"
     ]
    }
   ],
   "source": [
    "category = 'R'\n",
    "dfo = dfo.loc[dfo['race_type'].isin([category])]\n",
    "print('{} {} races!'.format(len(dfo), category))"
   ]
  },
  {
   "cell_type": "code",
   "execution_count": 4,
   "metadata": {},
   "outputs": [
    {
     "data": {
      "text/html": [
       "<div>\n",
       "<style>\n",
       "    .dataframe thead tr:only-child th {\n",
       "        text-align: right;\n",
       "    }\n",
       "\n",
       "    .dataframe thead th {\n",
       "        text-align: left;\n",
       "    }\n",
       "\n",
       "    .dataframe tbody tr th {\n",
       "        vertical-align: top;\n",
       "    }\n",
       "</style>\n",
       "<table border=\"1\" class=\"dataframe\">\n",
       "  <thead>\n",
       "    <tr style=\"text-align: right;\">\n",
       "      <th></th>\n",
       "      <th>id</th>\n",
       "      <th>race_number</th>\n",
       "      <th>race_distance</th>\n",
       "      <th>num_runners</th>\n",
       "    </tr>\n",
       "  </thead>\n",
       "  <tbody>\n",
       "    <tr>\n",
       "      <th>count</th>\n",
       "      <td>3160.000000</td>\n",
       "      <td>3160.000000</td>\n",
       "      <td>3160.000000</td>\n",
       "      <td>3160.000000</td>\n",
       "    </tr>\n",
       "    <tr>\n",
       "      <th>mean</th>\n",
       "      <td>5470.491772</td>\n",
       "      <td>4.653797</td>\n",
       "      <td>1677.097468</td>\n",
       "      <td>9.609494</td>\n",
       "    </tr>\n",
       "    <tr>\n",
       "      <th>std</th>\n",
       "      <td>2635.483590</td>\n",
       "      <td>2.516124</td>\n",
       "      <td>771.098183</td>\n",
       "      <td>2.900269</td>\n",
       "    </tr>\n",
       "    <tr>\n",
       "      <th>min</th>\n",
       "      <td>1610.000000</td>\n",
       "      <td>1.000000</td>\n",
       "      <td>402.000000</td>\n",
       "      <td>3.000000</td>\n",
       "    </tr>\n",
       "    <tr>\n",
       "      <th>25%</th>\n",
       "      <td>2945.750000</td>\n",
       "      <td>3.000000</td>\n",
       "      <td>1200.000000</td>\n",
       "      <td>7.000000</td>\n",
       "    </tr>\n",
       "    <tr>\n",
       "      <th>50%</th>\n",
       "      <td>5389.500000</td>\n",
       "      <td>5.000000</td>\n",
       "      <td>1400.000000</td>\n",
       "      <td>9.000000</td>\n",
       "    </tr>\n",
       "    <tr>\n",
       "      <th>75%</th>\n",
       "      <td>7757.250000</td>\n",
       "      <td>7.000000</td>\n",
       "      <td>1800.000000</td>\n",
       "      <td>12.000000</td>\n",
       "    </tr>\n",
       "    <tr>\n",
       "      <th>max</th>\n",
       "      <td>10226.000000</td>\n",
       "      <td>12.000000</td>\n",
       "      <td>6400.000000</td>\n",
       "      <td>22.000000</td>\n",
       "    </tr>\n",
       "  </tbody>\n",
       "</table>\n",
       "</div>"
      ],
      "text/plain": [
       "                 id  race_number  race_distance  num_runners\n",
       "count   3160.000000  3160.000000    3160.000000  3160.000000\n",
       "mean    5470.491772     4.653797    1677.097468     9.609494\n",
       "std     2635.483590     2.516124     771.098183     2.900269\n",
       "min     1610.000000     1.000000     402.000000     3.000000\n",
       "25%     2945.750000     3.000000    1200.000000     7.000000\n",
       "50%     5389.500000     5.000000    1400.000000     9.000000\n",
       "75%     7757.250000     7.000000    1800.000000    12.000000\n",
       "max    10226.000000    12.000000    6400.000000    22.000000"
      ]
     },
     "execution_count": 4,
     "metadata": {},
     "output_type": "execute_result"
    }
   ],
   "source": [
    "dfo['results'] = dfo['results_data'].map(json.loads)\n",
    "dfo['runners'] = dfo['runners_data'].map(json.loads)\n",
    "dfo.describe()"
   ]
  },
  {
   "cell_type": "code",
   "execution_count": 5,
   "metadata": {
    "collapsed": true
   },
   "outputs": [],
   "source": [
    "# bet size\n",
    "balance = 1000\n",
    "bet_chunk = balance * 0.01"
   ]
  },
  {
   "cell_type": "code",
   "execution_count": 6,
   "metadata": {
    "collapsed": true
   },
   "outputs": [],
   "source": [
    "def bettable(r):\n",
    "    return r['probability'] > r['odds_scale'] and r['odds_win'] > 0"
   ]
  },
  {
   "cell_type": "code",
   "execution_count": 7,
   "metadata": {
    "collapsed": true
   },
   "outputs": [],
   "source": [
    "def process_strategy(df, strategy):\n",
    "    \"\"\"run strategy, must pass runners returned back into results (it might be modified)\"\"\"\n",
    "    book = []\n",
    "    for _, race in df.iterrows():\n",
    "#         print(race['num_runners'])\n",
    "        runners = race['runners']\n",
    "        \n",
    "        # drop scratched\n",
    "        runners = [r for r in runners if r['odds_win']]\n",
    "        if not runners:\n",
    "            continue\n",
    "    \n",
    "        # default 0 bets\n",
    "        for runner in runners:\n",
    "            runner['bet'] = 0\n",
    "        \n",
    "        runners, num_bets = strategy(runners, bet_chunk)\n",
    "        if num_bets:\n",
    "            bet_results(book, runners, race['num_runners'], bet_chunk, num_bets, race['race_type'])\n",
    "    return book"
   ]
  },
  {
   "cell_type": "code",
   "execution_count": 8,
   "metadata": {
    "collapsed": true
   },
   "outputs": [],
   "source": [
    "def bet_results(book, runners, num_runners, bet_chunk, num_bets, race_type):\n",
    "    \"\"\"get results from bets\"\"\"\n",
    "    win_diff = 0\n",
    "    max_diff = 0\n",
    "    outcome = {\n",
    "        'success': 0,\n",
    "        'profit': -bet_chunk,\n",
    "        'num_bets': num_bets,\n",
    "        'num_runners': num_runners,\n",
    "    }\n",
    "    for i, runner in enumerate(runners):\n",
    "        diff = abs(runner['odds_scale'] - runner['probability'])\n",
    "        max_diff = max(max_diff, diff)\n",
    "        if int(runner['finishingPosition']) == 1:\n",
    "            win_diff = diff\n",
    "            if runner['bet'] > 0:\n",
    "                # odds = runner['parimutuel']['returnWin'] if runner['parimutuel']['returnWin'] else runner['odds_win']\n",
    "                odds = runner['odds_win']\n",
    "                profit = runner['bet'] * odds - bet_chunk\n",
    "                outcome = {\n",
    "                    'success': 1,\n",
    "                    'profit': profit,\n",
    "                    'num_bets': num_bets,\n",
    "                    'num_runners': num_runners,\n",
    "                }\n",
    "            break\n",
    "\n",
    "    outcome['max_diff'] = max_diff\n",
    "    outcome['win_diff'] = win_diff\n",
    "    outcome['bet_chunk'] = bet_chunk\n",
    "    outcome['race_type'] = race_type\n",
    "    outcome['runners'] = runners\n",
    "    book.append(outcome)"
   ]
  },
  {
   "cell_type": "code",
   "execution_count": 30,
   "metadata": {},
   "outputs": [
    {
     "name": "stdout",
     "output_type": "stream",
     "text": [
      "Dataframe shuffled!\n"
     ]
    }
   ],
   "source": [
    "def bet_positive_max(runners, bet_chunk):\n",
    "    \"\"\"bet max given prob>scale\"\"\"\n",
    "\n",
    "    diffs = [(r['probability'] - r['odds_scale'], r) for r in runners]\n",
    "    diffs.sort(key=itemgetter(0), reverse=True)\n",
    "\n",
    "    ##############################################################################################\n",
    "    # -1% roi 42% wr 100% races\n",
    "    ##############################################################################################\n",
    "#     num_bets = math.ceil(len(runners) * 0.125)\n",
    "\n",
    "\n",
    "    ##############################################################################################\n",
    "    # -2% roi 29% wr 100% races\n",
    "    ##############################################################################################\n",
    "    num_bets = 1\n",
    "\n",
    "\n",
    "    ##############################################################################################\n",
    "    # 10% roi 35% wr 33% races\n",
    "    ##############################################################################################\n",
    "#     num_bets = 1\n",
    "#     if len(runners) > 8:\n",
    "#         return [], 0\n",
    "\n",
    "    \n",
    "    ##############################################################################################\n",
    "    # -3% roi 31% wr 77% races\n",
    "    ##############################################################################################\n",
    "#     num_bets = 1\n",
    "#     if len(runners) > 12:\n",
    "#         return [], 0\n",
    "\n",
    "    \n",
    "    ##############################################################################################\n",
    "    # 0% roi 53% wr 33% races\n",
    "    ##############################################################################################\n",
    "#     num_bets = 2\n",
    "#     if len(runners) > 8:\n",
    "#         return [], 0\n",
    "\n",
    "    total_probs = sum(d[1]['probability'] for d in diffs[:num_bets])\n",
    "    for d, r in diffs[:num_bets]:\n",
    "        r['bet'] = bet_chunk * r['probability'] / total_probs\n",
    "\n",
    "    runners = [d[1] for d in diffs]\n",
    "    return runners, num_bets\n",
    "\n",
    "\n",
    "dfo = dfo.sample(frac=1).reset_index(drop=True)\n",
    "print('Dataframe shuffled!')\n",
    "\n",
    "book = process_strategy(dfo, bet_positive_max)"
   ]
  },
  {
   "cell_type": "code",
   "execution_count": 28,
   "metadata": {},
   "outputs": [
    {
     "name": "stdout",
     "output_type": "stream",
     "text": [
      "Dataframe shuffled!\n"
     ]
    }
   ],
   "source": [
    "def bet_positive_dutch(runners, bet_chunk):\n",
    "    \"\"\"dutch betting on probability\"\"\"\n",
    "\n",
    "    # sort runners from favourite to underdog\n",
    "    ###############################################################################################\n",
    "    # -10% roi 69% wr 100% races\n",
    "    # runners.sort(key=itemgetter('probability'), reverse=True)\n",
    "    ###############################################################################################\n",
    "    # -7% roi 68% wr 100% races\n",
    "    runners.sort(key=lambda r: r['probability'] / r['odds_scale'], reverse=True)\n",
    "    ###############################################################################################\n",
    "    \n",
    "    # start betting on all and cut off worse runner till positive outcome\n",
    "    for num_bets in range(len(runners), 0, -1):\n",
    "\n",
    "        # reset bets for every iteration\n",
    "        for runner in runners:\n",
    "            runner['bet'] = 0\n",
    "\n",
    "        # recreate smaller pool\n",
    "        pool = runners[:num_bets]\n",
    "        # print('pool is {} from {} bets'.format(len(pool), num_bets))\n",
    "\n",
    "        # all odds\n",
    "        total_probs = sum([r['probability'] for r in pool])\n",
    "#         total_scale = sum([r['odds_scale'] for r in pool])\n",
    "        # print('total probability = {}'.format(total))\n",
    "\n",
    "        # dutch for all in pool\n",
    "        profits = []\n",
    "        for runner in pool:\n",
    "\n",
    "            # scale bet according to odds or prediction?\n",
    "            ###################################################################################\n",
    "            # -7% roi 68% wr\n",
    "            runner['bet'] = bet_chunk * runner['probability'] / total_probs\n",
    "            ###################################################################################\n",
    "            # -13% roi 79% wr 100% races\n",
    "            # runner['bet'] = bet_chunk * runner['odds_scale'] / total_scale\n",
    "            ###################################################################################\n",
    "            \n",
    "            # need to check all as we scale to probs and not odds\n",
    "            profits.append(runner['bet'] * runner['odds_win'] - bet_chunk)\n",
    "\n",
    "        # exit with average profit\n",
    "        avg_profit = sum(profits) / len(profits)\n",
    "        ###################################################################################\n",
    "        # -9% roi 76% wr 30/30\n",
    "        #if avg_profit > 0:\n",
    "        ###################################################################################\n",
    "        # -1% roi 38% wr 26/30\n",
    "        #if avg_profit > bet_chunk * 1:\n",
    "        ###################################################################################\n",
    "        # 1% roi 25% wr 19/30\n",
    "        #if avg_profit > bet_chunk * 2:\n",
    "        ###################################################################################\n",
    "        # -4% roi 18% wr 13/30\n",
    "        #if avg_profit > bet_chunk * 3:\n",
    "        ###################################################################################\n",
    "\n",
    "        # exit with minimum profit\n",
    "        ###################################################################################\n",
    "        # -7% roi 68% wr\n",
    "        #if all(p > 0 for p in profits):\n",
    "        ###################################################################################\n",
    "        # 0% roi 35% wr 26/31\n",
    "        # if min(profits) > bet_chunk * 1:\n",
    "        ###################################################################################\n",
    "        # 2% roi 28% wr 22/31\n",
    "        #if min(profits) > bet_chunk * 1.5:\n",
    "        ###################################################################################\n",
    "        # 4% roi 24% wr 19/31\n",
    "        #if min(profits) > bet_chunk * 2:\n",
    "        ###################################################################################\n",
    "        # 3% roi 21% wr 17/31\n",
    "        #if min(profits) > bet_chunk * 2.5:\n",
    "        ###################################################################################\n",
    "        # -1% roi 18% wr 13/31\n",
    "        #if min(profits) > bet_chunk * 3:\n",
    "        ###################################################################################\n",
    "        \n",
    "        #4%  2 - 2\n",
    "        #3%  1.745 - 1.75\n",
    "        #2%  2.25 - 1.75\n",
    "        #2%  2 - 2.25\n",
    "        #3.7% 1.7 - 2\n",
    "        #3.7% 1.8 - 2\n",
    "        #3.7% 1.9 - 2 (1.9 5.1% - 1.8 5.3% - 1.7 4.9%)\n",
    "        #3.4% 2.1 - 2\n",
    "        # 5.0 (1.8,1.8)\n",
    "        # 4.0 (2, 1.8)\n",
    "        if avg_profit > bet_chunk * 1.9 and min(profits) > bet_chunk * 1.8:\n",
    "            break\n",
    "    else:\n",
    "        #print('no profit determined')\n",
    "        return [], 0\n",
    "    \n",
    "    return pool, num_bets\n",
    "\n",
    "\n",
    "dfo = dfo.sample(frac=1).reset_index(drop=True)\n",
    "print('Dataframe shuffled!')\n",
    "\n",
    "book = process_strategy(dfo, bet_positive_dutch)"
   ]
  },
  {
   "cell_type": "code",
   "execution_count": 29,
   "metadata": {},
   "outputs": [
    {
     "data": {
      "text/html": [
       "<div>\n",
       "<style>\n",
       "    .dataframe thead tr:only-child th {\n",
       "        text-align: right;\n",
       "    }\n",
       "\n",
       "    .dataframe thead th {\n",
       "        text-align: left;\n",
       "    }\n",
       "\n",
       "    .dataframe tbody tr th {\n",
       "        vertical-align: top;\n",
       "    }\n",
       "</style>\n",
       "<table border=\"1\" class=\"dataframe\">\n",
       "  <thead>\n",
       "    <tr style=\"text-align: right;\">\n",
       "      <th></th>\n",
       "      <th>bet_chunk</th>\n",
       "      <th>max_diff</th>\n",
       "      <th>num_bets</th>\n",
       "      <th>num_runners</th>\n",
       "      <th>profit</th>\n",
       "      <th>race_type</th>\n",
       "      <th>runners</th>\n",
       "      <th>success</th>\n",
       "      <th>win_diff</th>\n",
       "    </tr>\n",
       "  </thead>\n",
       "  <tbody>\n",
       "    <tr>\n",
       "      <th>2449</th>\n",
       "      <td>10.0</td>\n",
       "      <td>0.012341</td>\n",
       "      <td>2</td>\n",
       "      <td>5.0</td>\n",
       "      <td>-10.000000</td>\n",
       "      <td>R</td>\n",
       "      <td>[{'runnerName': 'MY REWARD', 'runnerNumber': 1...</td>\n",
       "      <td>0</td>\n",
       "      <td>0.000000</td>\n",
       "    </tr>\n",
       "    <tr>\n",
       "      <th>2450</th>\n",
       "      <td>10.0</td>\n",
       "      <td>0.017151</td>\n",
       "      <td>1</td>\n",
       "      <td>6.0</td>\n",
       "      <td>34.000000</td>\n",
       "      <td>R</td>\n",
       "      <td>[{'runnerName': 'GAZING', 'runnerNumber': 6, '...</td>\n",
       "      <td>1</td>\n",
       "      <td>0.017151</td>\n",
       "    </tr>\n",
       "    <tr>\n",
       "      <th>2451</th>\n",
       "      <td>10.0</td>\n",
       "      <td>0.036348</td>\n",
       "      <td>1</td>\n",
       "      <td>9.0</td>\n",
       "      <td>-10.000000</td>\n",
       "      <td>R</td>\n",
       "      <td>[{'runnerName': 'ELASTIQUE MOME', 'runnerNumbe...</td>\n",
       "      <td>0</td>\n",
       "      <td>0.000000</td>\n",
       "    </tr>\n",
       "    <tr>\n",
       "      <th>2452</th>\n",
       "      <td>10.0</td>\n",
       "      <td>0.053957</td>\n",
       "      <td>1</td>\n",
       "      <td>7.0</td>\n",
       "      <td>-10.000000</td>\n",
       "      <td>R</td>\n",
       "      <td>[{'runnerName': 'DELICATE LAND', 'runnerNumber...</td>\n",
       "      <td>0</td>\n",
       "      <td>0.000000</td>\n",
       "    </tr>\n",
       "    <tr>\n",
       "      <th>2453</th>\n",
       "      <td>10.0</td>\n",
       "      <td>0.039551</td>\n",
       "      <td>1</td>\n",
       "      <td>8.0</td>\n",
       "      <td>32.000000</td>\n",
       "      <td>R</td>\n",
       "      <td>[{'runnerName': 'PENALTY POINT', 'runnerNumber...</td>\n",
       "      <td>1</td>\n",
       "      <td>0.039551</td>\n",
       "    </tr>\n",
       "    <tr>\n",
       "      <th>2454</th>\n",
       "      <td>10.0</td>\n",
       "      <td>0.025966</td>\n",
       "      <td>2</td>\n",
       "      <td>11.0</td>\n",
       "      <td>-10.000000</td>\n",
       "      <td>R</td>\n",
       "      <td>[{'runnerName': 'SEATTLE SWING', 'runnerNumber...</td>\n",
       "      <td>0</td>\n",
       "      <td>0.000000</td>\n",
       "    </tr>\n",
       "    <tr>\n",
       "      <th>2455</th>\n",
       "      <td>10.0</td>\n",
       "      <td>0.028145</td>\n",
       "      <td>1</td>\n",
       "      <td>10.0</td>\n",
       "      <td>22.000000</td>\n",
       "      <td>R</td>\n",
       "      <td>[{'runnerName': 'RETRO', 'runnerNumber': 4, 'f...</td>\n",
       "      <td>1</td>\n",
       "      <td>0.028145</td>\n",
       "    </tr>\n",
       "    <tr>\n",
       "      <th>2456</th>\n",
       "      <td>10.0</td>\n",
       "      <td>0.039645</td>\n",
       "      <td>1</td>\n",
       "      <td>8.0</td>\n",
       "      <td>21.000000</td>\n",
       "      <td>R</td>\n",
       "      <td>[{'runnerName': 'REBEL MISS', 'runnerNumber': ...</td>\n",
       "      <td>1</td>\n",
       "      <td>0.039645</td>\n",
       "    </tr>\n",
       "    <tr>\n",
       "      <th>2457</th>\n",
       "      <td>10.0</td>\n",
       "      <td>0.029513</td>\n",
       "      <td>2</td>\n",
       "      <td>12.0</td>\n",
       "      <td>29.109096</td>\n",
       "      <td>R</td>\n",
       "      <td>[{'runnerName': 'INFLUENT', 'runnerNumber': 2,...</td>\n",
       "      <td>1</td>\n",
       "      <td>0.029513</td>\n",
       "    </tr>\n",
       "    <tr>\n",
       "      <th>2458</th>\n",
       "      <td>10.0</td>\n",
       "      <td>0.081480</td>\n",
       "      <td>1</td>\n",
       "      <td>9.0</td>\n",
       "      <td>-10.000000</td>\n",
       "      <td>R</td>\n",
       "      <td>[{'runnerName': 'STAR EXHIBIT', 'runnerNumber'...</td>\n",
       "      <td>0</td>\n",
       "      <td>0.000000</td>\n",
       "    </tr>\n",
       "  </tbody>\n",
       "</table>\n",
       "</div>"
      ],
      "text/plain": [
       "      bet_chunk  max_diff  num_bets  num_runners     profit race_type  \\\n",
       "2449       10.0  0.012341         2          5.0 -10.000000         R   \n",
       "2450       10.0  0.017151         1          6.0  34.000000         R   \n",
       "2451       10.0  0.036348         1          9.0 -10.000000         R   \n",
       "2452       10.0  0.053957         1          7.0 -10.000000         R   \n",
       "2453       10.0  0.039551         1          8.0  32.000000         R   \n",
       "2454       10.0  0.025966         2         11.0 -10.000000         R   \n",
       "2455       10.0  0.028145         1         10.0  22.000000         R   \n",
       "2456       10.0  0.039645         1          8.0  21.000000         R   \n",
       "2457       10.0  0.029513         2         12.0  29.109096         R   \n",
       "2458       10.0  0.081480         1          9.0 -10.000000         R   \n",
       "\n",
       "                                                runners  success  win_diff  \n",
       "2449  [{'runnerName': 'MY REWARD', 'runnerNumber': 1...        0  0.000000  \n",
       "2450  [{'runnerName': 'GAZING', 'runnerNumber': 6, '...        1  0.017151  \n",
       "2451  [{'runnerName': 'ELASTIQUE MOME', 'runnerNumbe...        0  0.000000  \n",
       "2452  [{'runnerName': 'DELICATE LAND', 'runnerNumber...        0  0.000000  \n",
       "2453  [{'runnerName': 'PENALTY POINT', 'runnerNumber...        1  0.039551  \n",
       "2454  [{'runnerName': 'SEATTLE SWING', 'runnerNumber...        0  0.000000  \n",
       "2455  [{'runnerName': 'RETRO', 'runnerNumber': 4, 'f...        1  0.028145  \n",
       "2456  [{'runnerName': 'REBEL MISS', 'runnerNumber': ...        1  0.039645  \n",
       "2457  [{'runnerName': 'INFLUENT', 'runnerNumber': 2,...        1  0.029513  \n",
       "2458  [{'runnerName': 'STAR EXHIBIT', 'runnerNumber'...        0  0.000000  "
      ]
     },
     "execution_count": 29,
     "metadata": {},
     "output_type": "execute_result"
    }
   ],
   "source": [
    "df = pd.DataFrame(book)\n",
    "df.tail(10)"
   ]
  },
  {
   "cell_type": "code",
   "execution_count": 30,
   "metadata": {},
   "outputs": [
    {
     "data": {
      "text/plain": [
       "<matplotlib.axes._subplots.AxesSubplot at 0x113939cc0>"
      ]
     },
     "execution_count": 30,
     "metadata": {},
     "output_type": "execute_result"
    },
    {
     "data": {
      "image/png": "[encoded data removed]",
      "text/plain": [
       "<matplotlib.figure.Figure at 0x1157dbf98>"
      ]
     },
     "metadata": {},
     "output_type": "display_data"
    }
   ],
   "source": [
    "# ROI\n",
    "roi = df.profit.cumsum() / df.bet_chunk.cumsum()\n",
    "roi_title = '{:.1f}% ROI'.format(roi.iloc[-1] * 100)\n",
    "roi.rolling(10).mean().plot(title=roi_title, xlim=(100), ylim=(-1, 1))"
   ]
  },
  {
   "cell_type": "code",
   "execution_count": 31,
   "metadata": {},
   "outputs": [
    {
     "data": {
      "text/plain": [
       "<matplotlib.axes._subplots.AxesSubplot at 0x1157b1978>"
      ]
     },
     "execution_count": 31,
     "metadata": {},
     "output_type": "execute_result"
    },
    {
     "data": {
      "image/png": "[encoded data removed]",
      "text/plain": [
       "<matplotlib.figure.Figure at 0x1150c0a90>"
      ]
     },
     "metadata": {},
     "output_type": "display_data"
    }
   ],
   "source": [
    "df['ones'] = np.ones(len(df))\n",
    "df['win_rate'] = df.success.cumsum() / df.ones.cumsum()\n",
    "win_title = '{:.0f}% win rate'.format(df.win_rate.iloc[-1] * 100)\n",
    "df.win_rate.plot(title=win_title, xlim=(100), ylim=(0, 1))"
   ]
  },
  {
   "cell_type": "code",
   "execution_count": 32,
   "metadata": {},
   "outputs": [
    {
     "data": {
      "text/plain": [
       "<matplotlib.axes._subplots.AxesSubplot at 0x115b9a7b8>"
      ]
     },
     "execution_count": 32,
     "metadata": {},
     "output_type": "execute_result"
    },
    {
     "data": {
      "image/png": "[encoded data removed]",
      "text/plain": [
       "<matplotlib.figure.Figure at 0x1157dbbe0>"
      ]
     },
     "metadata": {},
     "output_type": "display_data"
    },
    {
     "data": {
      "image/png": "[encoded data removed]",
      "text/plain": [
       "<matplotlib.figure.Figure at 0x114bb5da0>"
      ]
     },
     "metadata": {},
     "output_type": "display_data"
    },
    {
     "data": {
      "image/png": "[encoded data removed]",
      "text/plain": [
       "<matplotlib.figure.Figure at 0x1159e3710>"
      ]
     },
     "metadata": {},
     "output_type": "display_data"
    }
   ],
   "source": [
    "# profit per num bets \n",
    "df.num_bets.hist()\n",
    "groups = df.groupby('num_bets').mean()\n",
    "groups.plot(kind='bar', y='success', title='Win rate per #bets')\n",
    "groups.plot(kind='bar', y='profit', title='Profit per #bets')"
   ]
  },
  {
   "cell_type": "code",
   "execution_count": 33,
   "metadata": {},
   "outputs": [
    {
     "data": {
      "text/plain": [
       "<matplotlib.axes._subplots.AxesSubplot at 0x115fa57f0>"
      ]
     },
     "execution_count": 33,
     "metadata": {},
     "output_type": "execute_result"
    },
    {
     "data": {
      "image/png": "[encoded data removed]",
      "text/plain": [
       "<matplotlib.figure.Figure at 0x1158986d8>"
      ]
     },
     "metadata": {},
     "output_type": "display_data"
    },
    {
     "data": {
      "image/png": "[encoded data removed]",
      "text/plain": [
       "<matplotlib.figure.Figure at 0x115e5eb70>"
      ]
     },
     "metadata": {},
     "output_type": "display_data"
    },
    {
     "data": {
      "image/png": "[encoded data removed]",
      "text/plain": [
       "<matplotlib.figure.Figure at 0x115f5cd30>"
      ]
     },
     "metadata": {},
     "output_type": "display_data"
    }
   ],
   "source": [
    "# profit per num runners\n",
    "df.num_runners.hist()\n",
    "groups = df.groupby('num_runners').mean()\n",
    "groups.plot(kind='bar', y='success', title='Win rate per #runners')\n",
    "groups.plot(kind='bar', y='profit', title='Profit per #runners')"
   ]
  },
  {
   "cell_type": "code",
   "execution_count": 34,
   "metadata": {},
   "outputs": [
    {
     "data": {
      "text/plain": [
       "<matplotlib.axes._subplots.AxesSubplot at 0x115f64898>"
      ]
     },
     "execution_count": 34,
     "metadata": {},
     "output_type": "execute_result"
    },
    {
     "data": {
      "image/png": "[encoded data removed]",
      "text/plain": [
       "<matplotlib.figure.Figure at 0x115787c18>"
      ]
     },
     "metadata": {},
     "output_type": "display_data"
    }
   ],
   "source": [
    "# max diff\n",
    "df.win_diff.plot(kind='hist', xlim=(0, 0.1), bins=200, alpha=0.6)\n",
    "df.max_diff.plot(kind='hist', xlim=(0, 0.1), bins=200, alpha=0.2)"
   ]
  },
  {
   "cell_type": "code",
   "execution_count": 35,
   "metadata": {},
   "outputs": [
    {
     "data": {
      "text/plain": [
       "<matplotlib.axes._subplots.AxesSubplot at 0x1162b6d68>"
      ]
     },
     "execution_count": 35,
     "metadata": {},
     "output_type": "execute_result"
    },
    {
     "data": {
      "image/png": "[encoded data removed]",
      "text/plain": [
       "<matplotlib.figure.Figure at 0x115724e10>"
      ]
     },
     "metadata": {},
     "output_type": "display_data"
    }
   ],
   "source": [
    "df.profit.rolling(100).sum().plot(alpha=0.5)\n",
    "df.profit.cumsum().plot(alpha=0.8)"
   ]
  },
  {
   "cell_type": "code",
   "execution_count": 36,
   "metadata": {},
   "outputs": [
    {
     "data": {
      "text/plain": [
       "<matplotlib.axes._subplots.AxesSubplot at 0x1167720b8>"
      ]
     },
     "execution_count": 36,
     "metadata": {},
     "output_type": "execute_result"
    },
    {
     "data": {
      "image/png": "[encoded data removed]",
      "text/plain": [
       "<matplotlib.figure.Figure at 0x115a16198>"
      ]
     },
     "metadata": {},
     "output_type": "display_data"
    },
    {
     "data": {
      "image/png": "[encoded data removed]",
      "text/plain": [
       "<matplotlib.figure.Figure at 0x116739dd8>"
      ]
     },
     "metadata": {},
     "output_type": "display_data"
    }
   ],
   "source": [
    "# bets/runners\n",
    "df['bets_vs_runners'] = df.num_bets / df.num_runners\n",
    "df['bets_vs_runners'].hist(bins=10)\n",
    "groups = df.groupby(df['bets_vs_runners'].apply(lambda x: round(x, 3))).sum()\n",
    "groups.plot(kind='line', y='profit', title='mean profit/bets_per_runners')"
   ]
  },
  {
   "cell_type": "code",
   "execution_count": null,
   "metadata": {
    "collapsed": true
   },
   "outputs": [],
   "source": []
  }
 ],
 "metadata": {
  "kernelspec": {
   "display_name": "Python 3",
   "language": "python",
   "name": "python3"
  },
  "language_info": {
   "codemirror_mode": {
    "name": "ipython",
    "version": 3
   },
   "file_extension": ".py",
   "mimetype": "text/x-python",
   "name": "python",
   "nbconvert_exporter": "python",
   "pygments_lexer": "ipython3",
   "version": "3.4.3"
  }
 },
 "nbformat": 4,
 "nbformat_minor": 2
}
